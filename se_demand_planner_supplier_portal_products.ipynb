{
  "nbformat": 4,
  "nbformat_minor": 0,
  "metadata": {
    "colab": {
      "name": "se_demand_planner_supplier_portal_products.ipynb",
      "provenance": [],
      "collapsed_sections": [],
      "include_colab_link": true
    },
    "kernelspec": {
      "name": "python3",
      "display_name": "Python 3"
    },
    "language_info": {
      "name": "python"
    }
  },
  "cells": [
    {
      "cell_type": "markdown",
      "metadata": {
        "id": "view-in-github",
        "colab_type": "text"
      },
      "source": [
        "<a href=\"https://colab.research.google.com/github/sanelemahlalela/changelogtest/blob/master/se_demand_planner_supplier_portal_products.ipynb\" target=\"_parent\"><img src=\"https://colab.research.google.com/assets/colab-badge.svg\" alt=\"Open In Colab\"/></a>"
      ]
    },
    {
      "cell_type": "code",
      "metadata": {
        "id": "E-fLfpHMXr4U"
      },
      "source": [
        "import matplotlib.pyplot as plt\n",
        "import numpy as np\n",
        "import pandas as pd\n",
        "import scipy.stats as stats\n",
        "\n",
        "from datetime import datetime, timedelta\n",
        "from pandas import DataFrame, Series\n",
        "from sklearn.metrics import mean_squared_error"
      ],
      "execution_count": null,
      "outputs": []
    },
    {
      "cell_type": "code",
      "metadata": {
        "id": "3bmaxjjIYU87",
        "colab": {
          "base_uri": "https://localhost:8080/"
        },
        "outputId": "e41db57c-0cfd-4b1e-9df1-8df17605f3a8"
      },
      "source": [
        "from google.colab import auth\n",
        "auth.authenticate_user()\n",
        "print('Authenticated')"
      ],
      "execution_count": null,
      "outputs": [
        {
          "output_type": "stream",
          "name": "stdout",
          "text": [
            "Authenticated\n"
          ]
        }
      ]
    },
    {
      "cell_type": "code",
      "metadata": {
        "id": "euCAJZE1YhGM"
      },
      "source": [
        "project_id = 'dh-darkstores-live'"
      ],
      "execution_count": null,
      "outputs": []
    },
    {
      "cell_type": "code",
      "metadata": {
        "id": "OEfq5noDMiiC"
      },
      "source": [
        "# define some variables\n",
        "run_date = datetime.now()\n",
        "country_code = 'se'\n",
        "forecast_version = 'v2'\n",
        "availability_days = 28\n",
        "target_service_level = 0.90\n",
        "z_score = stats.norm.ppf(target_service_level)\n",
        "\n",
        "warehouse_id = '87d47f17-25cc-4e89-9bbc-3df289eba49d'  #  sample prototype warehouse_id. Name (Östermalm)\n",
        "supplier_ids_to_exclude = 25 # https://jira.deliveryhero.com/browse/DATABUY-558?focusedCommentId=2987949&page=com.atlassian.jira.plugin.system.issuetabpanels%3Acomment-tabpanel#comment-2987949"
      ],
      "execution_count": null,
      "outputs": []
    },
    {
      "cell_type": "code",
      "metadata": {
        "id": "HqOUI7w4dwg3"
      },
      "source": [
        ""
      ],
      "execution_count": null,
      "outputs": []
    },
    {
      "cell_type": "code",
      "metadata": {
        "colab": {
          "base_uri": "https://localhost:8080/"
        },
        "id": "ClMoDBswdweH",
        "outputId": "46f2bb63-e97f-423f-f046-8acc52034869"
      },
      "source": [
        "z_score"
      ],
      "execution_count": null,
      "outputs": [
        {
          "output_type": "execute_result",
          "data": {
            "text/plain": [
              "1.2815515655446004"
            ]
          },
          "metadata": {},
          "execution_count": 442
        }
      ]
    },
    {
      "cell_type": "code",
      "metadata": {
        "id": "q7qBc8Z2dwQ2"
      },
      "source": [
        ""
      ],
      "execution_count": null,
      "outputs": []
    },
    {
      "cell_type": "code",
      "metadata": {
        "id": "MQyYi8ZcdwOE"
      },
      "source": [
        ""
      ],
      "execution_count": null,
      "outputs": []
    },
    {
      "cell_type": "markdown",
      "metadata": {
        "id": "_ZbHXXtd0-C2"
      },
      "source": [
        "### Define input queries"
      ]
    },
    {
      "cell_type": "code",
      "metadata": {
        "id": "6x6ucKY9FVU7"
      },
      "source": [
        ""
      ],
      "execution_count": null,
      "outputs": []
    },
    {
      "cell_type": "code",
      "metadata": {
        "id": "KB9Hh1zu2d7P"
      },
      "source": [
        ""
      ],
      "execution_count": null,
      "outputs": []
    },
    {
      "cell_type": "code",
      "metadata": {
        "id": "V38GNR-e2d4T"
      },
      "source": [
        ""
      ],
      "execution_count": null,
      "outputs": []
    },
    {
      "cell_type": "code",
      "metadata": {
        "id": "Ah_Bj94zXUmw"
      },
      "source": [
        "product_config_query = f\"\"\"\n",
        "\n",
        "WITH products AS (\n",
        "SELECT p.country_code\n",
        ", p.sku\n",
        ", p.product_name\n",
        ", p.barcodes\n",
        ", w.warehouse_name\n",
        ", w.warehouse_id\n",
        ", MAX(COALESCE(v.sales_buffer,0)) as sales_buffer\n",
        ", MAX(v.is_active) as is_active\n",
        "FROM `fulfillment-dwh-production.cl_dmart.products_v2` p\n",
        ", UNNEST(warehouse_info) as w\n",
        ", UNNEST(w.vendor_info) AS v\n",
        "WHERE w.is_dmart = TRUE\n",
        "AND v.is_active = TRUE\n",
        "AND country_code ='se'\n",
        "AND warehouse_id = '87d47f17-25cc-4e89-9bbc-3df289eba49d'\n",
        "GROUP BY 1,2,3,4,5,6\n",
        "),\n",
        "-- supplier information\n",
        "active_sku_suppliers AS (\n",
        "SELECT country_code\n",
        ",sku\n",
        ",sp.supplier_id\n",
        ",sp.supplier_name\n",
        ",sp.min_qty\n",
        ",sp.preference\n",
        ",sp.is_preferred\n",
        ",sp.is_preferred_relex\n",
        ",sp.is_dc\n",
        ",wh.warehouse_id\n",
        ",wh.trade_cost\n",
        "FROM `fulfillment-dwh-production.cl_dmart.products_suppliers` AS pr\n",
        ",UNNEST(suppliers) AS sp\n",
        ",UNNEST(sp.warehouses) AS wh\n",
        "WHERE wh.warehouse_id IS NOT NULL\n",
        "AND supplier_id <> 25 -- exclude store transfers\n",
        "AND country_code ='se'\n",
        "AND warehouse_id = '87d47f17-25cc-4e89-9bbc-3df289eba49d'\n",
        "AND sp.preference = 1\n",
        "AND sp.is_preferred = TRUE\n",
        "),\n",
        "-- stock and PO data\n",
        "last_po AS (\n",
        "SELECT country_code\n",
        ",warehouse_id\n",
        ",pp.sku_id sku\n",
        ",DATE(pp.receiving_localtime_at) latest_delivery_date\n",
        ",pp.quantity_ordered last_po_order_qty\n",
        ",pp.quantity_delivered last_po_delivered_qty\n",
        ",pp.quantity_delivered/pp.quantity_ordered last_po_fill_rate\n",
        ",pp.expiration_date\n",
        ",DATE_DIFF(pp.expiration_date, DATE(pp.receiving_localtime_at),DAY) AS days_to_expiration\n",
        "FROM `fulfillment-dwh-production.cl_dmart.purchase_orders`\n",
        ", UNNEST(products_purchased) AS pp\n",
        "  WHERE\n",
        "    country_code = 'se'\n",
        "    AND pp.order_is_done = TRUE\n",
        "QUALIFY ROW_NUMBER() OVER(PARTITION BY warehouse_id, sku_id ORDER BY pp.receiving_localtime_at DESC)  = 1\n",
        "),\n",
        "stock_on_hand AS ( -- latest cumulative stock per sku-wh\n",
        "SELECT country_code\n",
        ", s.movement_localtime_at AS on_hand_stock_date\n",
        ", product.sku\n",
        ", product.is_product_active\n",
        ", warehouse.warehouse_id\n",
        ", s.cumulative_quantity\n",
        ", ROW_NUMBER() OVER (PARTITION BY country_code, product.sku, warehouse.warehouse_id ORDER by s.movement_at desc) as latest\n",
        "FROM `fulfillment-dwh-production.cl_dmart.stock_movement`\n",
        ", UNNEST (stock_movement_data) s\n",
        "WHERE warehouse.is_dmart = TRUE\n",
        "-- AND product.is_product_active = TRUE\n",
        "AND country_code ='se'\n",
        "AND warehouse_id = '87d47f17-25cc-4e89-9bbc-3df289eba49d'\n",
        "QUALIFY latest = 1\n",
        "),\n",
        "stock_in_transit AS (\n",
        "SELECT po.country_code\n",
        ",po.warehouse_id\n",
        ",p.sku_id AS sku\n",
        ",MAX(po.created_localtime_at) AS in_transit_stock_date\n",
        ",SUM(CASE WHEN p.receiving_at is null AND p.quantity_delivered is null THEN p.quantity_ordered ELSE 0 END) AS stock_in_transit\n",
        "FROM `fulfillment-dwh-production.cl_dmart.purchase_orders` po\n",
        ", UNNEST (products_purchased) p\n",
        "WHERE order_status = 'confirmed'\n",
        "AND country_code ='se'\n",
        "AND warehouse_id = '87d47f17-25cc-4e89-9bbc-3df289eba49d'\n",
        "GROUP BY 1,2,3\n",
        "),\n",
        "transfers AS (\n",
        "WITH transfer_raw AS(\n",
        "SELECT st.country_code\n",
        ", st.src_warehouse_id\n",
        ", st.dest_warehouse_id\n",
        ", p.sku\n",
        ", p.requested_qty\n",
        "FROM  `fulfillment-dwh-production.cl_dmart.store_transfers` st\n",
        ", UNNEST(status_history) AS s\n",
        ", UNNEST(products) AS p\n",
        "WHERE status NOT IN ('COMPLETED', 'CANCELED')\n",
        "AND country_code = 'se'\n",
        "QUALIFY ROW_NUMBER() OVER(PARTITION BY st.country_code, st.external_id ORDER BY st.modified_at DESC) = 1\n",
        ")\n",
        "SELECT country_code\n",
        ", src_warehouse_id\n",
        ", dest_warehouse_id\n",
        ", sku\n",
        ", SUM(requested_qty) AS requested_qty\n",
        "FROM transfer_raw\n",
        "GROUP BY 1, 2, 3, 4\n",
        "),\n",
        "-- availability & sales\n",
        "grouped_availability AS (\n",
        "    SELECT country_code\n",
        "    , sd.warehouse_id\n",
        "    , sku\n",
        "    , SUM(CASE WHEN h.is_available_hourly IS TRUE THEN 1 ELSE 0 END) avail_hours\n",
        "    FROM `fulfillment-dwh-production.cl_dmart._stock_daily` sd,  UNNEST(hourly) AS h\n",
        "    WHERE stock_date > CURRENT_DATE() - (28 + 1)\n",
        "    AND stock_date < CURRENT_DATE()\n",
        "    AND lower(country_code) = 'se'\n",
        "    AND warehouse_id = '87d47f17-25cc-4e89-9bbc-3df289eba49d'\n",
        "    GROUP BY 1,2,3\n",
        "),\n",
        "daily_sales AS (\n",
        "SELECT country_code\n",
        ", warehouse.warehouse_id AS warehouse_id\n",
        ", i.sku AS sku\n",
        ", ROUND(avail_hours/(28 * 24), 2) AS availability\n",
        ", SUM(CASE WHEN DATE(co.order_placed_localtime_at) > CURRENT_DATE(co.timezone)-28 THEN i.qty_sold ELSE 0 END) AS units_sold\n",
        ", ROUND(AVG(CASE WHEN DATE(co.order_placed_localtime_at) > CURRENT_DATE(co.timezone)-28 THEN i.qty_sold ELSE 0 END),4) AS avg_units_sold\n",
        ", SUM(CASE WHEN DATE(co.order_placed_localtime_at) > CURRENT_DATE(co.timezone)-7 THEN i.qty_sold ELSE 0 END) AS units_sold_7d\n",
        ", ROUND(AVG(CASE WHEN DATE(co.order_placed_localtime_at) > CURRENT_DATE(co.timezone)-7 THEN i.qty_sold ELSE 0 END), 4) AS avg_units_sold_7d\n",
        "    FROM `fulfillment-dwh-production.cl_dmart.customer_orders` co\n",
        "    ,UNNEST(items) AS i\n",
        "    LEFT JOIN grouped_availability USING(country_code, warehouse_id, sku)\n",
        "    WHERE TRUE\n",
        "    AND co.is_sent = True\n",
        "    AND co.country_code = 'se'\n",
        "    AND co.warehouse.warehouse_id = '87d47f17-25cc-4e89-9bbc-3df289eba49d'\n",
        "    GROUP BY 1,2,3,4\n",
        ")\n",
        "\n",
        "-- main query\n",
        "SELECT p.country_code\n",
        ", p.sku\n",
        ", p.product_name\n",
        ", p.barcodes as barcode\n",
        ", p.warehouse_name as store\n",
        ", p.warehouse_id\n",
        ", p.is_active\n",
        ",sp.supplier_id\n",
        "-- ,sp.supplier_name\n",
        ",sp.min_qty\n",
        ",sp.preference\n",
        ",sp.trade_cost as trade_cost_lp\n",
        ",lpo.latest_delivery_date\n",
        ",lpo.last_po_order_qty\n",
        ",lpo.last_po_delivered_qty\n",
        ",lpo.last_po_fill_rate\n",
        ",lpo.days_to_expiration\n",
        "--,lpo.expiration_date --- TODO: FIX -- figure out issue with gbq reader\n",
        ", CURRENT_DATE() AS expiration_date\n",
        ",p.sales_buffer\n",
        ",COALESCE(soh.cumulative_quantity,0) AS stock_on_hand\n",
        ",soh.on_hand_stock_date\n",
        ",COALESCE(sit.stock_in_transit,0) AS stock_in_transit\n",
        ",sit.in_transit_stock_date\n",
        ",COALESCE(soh.cumulative_quantity,0) - COALESCE(src_transfer.requested_qty,0) AS on_hand_minus_transfer_req\n",
        ",COALESCE(dest_transfer.requested_qty,0) AS transfer_stock\n",
        ",s.availability\n",
        ",s.units_sold\n",
        ",s.units_sold_7d\n",
        ",s.avg_units_sold\n",
        "FROM products p\n",
        "LEFT JOIN active_sku_suppliers sp USING (country_code, sku, warehouse_id)\n",
        "LEFT JOIN stock_on_hand soh USING (country_code, sku, warehouse_id)\n",
        "LEFT JOIN stock_in_transit sit USING (country_code, sku, warehouse_id)\n",
        "LEFT JOIN last_po lpo USING (country_code, sku, warehouse_id)\n",
        "LEFT JOIN daily_sales s USING (country_code, sku, warehouse_id)\n",
        "LEFT JOIN transfers src_transfer\n",
        "   ON p.country_code     = src_transfer.country_code\n",
        "   AND p.warehouse_id    = src_transfer.src_warehouse_id\n",
        "   AND p.sku             = src_transfer.sku\n",
        "LEFT JOIN transfers dest_transfer\n",
        "   ON p.country_code     = dest_transfer.country_code\n",
        "   AND p.warehouse_id    = dest_transfer.dest_warehouse_id\n",
        "   AND p.sku             = dest_transfer.sku\n",
        "\"\"\""
      ],
      "execution_count": null,
      "outputs": []
    },
    {
      "cell_type": "code",
      "metadata": {
        "id": "H-ZSFMTiXUi5"
      },
      "source": [
        ""
      ],
      "execution_count": null,
      "outputs": []
    },
    {
      "cell_type": "code",
      "metadata": {
        "id": "Uw0o9RzO2d1V"
      },
      "source": [
        ""
      ],
      "execution_count": null,
      "outputs": []
    },
    {
      "cell_type": "code",
      "metadata": {
        "id": "hVjuFOVDYaD7"
      },
      "source": [
        "schedule_query = f\"\"\"\n",
        "\n",
        "SELECT * \n",
        "FROM `dh-darkstores-stg.dev_dmart.se_supplier_schedules_raw_v3` #temp table, will expire in 30 days\n",
        "where supplier_id != {supplier_ids_to_exclude}\n",
        "\"\"\""
      ],
      "execution_count": null,
      "outputs": []
    },
    {
      "cell_type": "code",
      "metadata": {
        "id": "UV1BQBrlZYNY"
      },
      "source": [
        "forecast_query = f\"\"\"\n",
        "\n",
        "WITH\n",
        "  actuals AS (\n",
        "  SELECT\n",
        "    warehouse.warehouse_id AS warehouse_id,\n",
        "    i.sku AS sku,\n",
        "    DATE(co.order_placed_localtime_at) AS order_date,\n",
        "    SUM(i.qty_sold) AS units_sold\n",
        "  FROM\n",
        "    fulfillment-dwh-production.cl_dmart.customer_orders co,\n",
        "    UNNEST(items) AS i\n",
        "  WHERE\n",
        "    TRUE\n",
        "    AND co.is_sent = TRUE\n",
        "    AND LOWER(co.country_code) = '{country_code}'\n",
        "    AND DATE(co.order_placed_localtime_at) >= CURRENT_DATE() - {availability_days}\n",
        "  GROUP BY\n",
        "    1, 2, 3\n",
        "    ),\n",
        "  forecast AS (\n",
        "  SELECT\n",
        "    warehouse_id,\n",
        "    order_date,\n",
        "    sku,\n",
        "    pred_units\n",
        "  FROM\n",
        "    `dh-darkstores-live.cl_data_science_qcommerce.demand_forecast_{forecast_version}`\n",
        "  WHERE\n",
        "    order_date >= CURRENT_DATE() - {availability_days}\n",
        "    AND LOWER(country_code) = '{country_code}'\n",
        "    )\n",
        "SELECT DISTINCT #added distinct due to DATABUY-540 bug\n",
        "  warehouse_id,\n",
        "  sku,\n",
        "  order_date,\n",
        "  DATE_DIFF(order_date, CURRENT_DATE(), DAY) lookahead_from_today, #add local timezone \n",
        "  COALESCE(pred_units, 0) AS pred_units,\n",
        "  SUM(CASE WHEN order_date >= CURRENT_DATE() THEN pred_units ELSE 0 END) OVER(PARTITION BY warehouse_id, sku ORDER BY order_date) cumulative_future_preds,\n",
        "  COALESCE(units_sold, 0) AS units_sold\n",
        "FROM\n",
        "  forecast\n",
        "FULL OUTER JOIN\n",
        "  actuals\n",
        "USING\n",
        "  (warehouse_id, sku, order_date)\n",
        "\n",
        "\n",
        "\"\"\""
      ],
      "execution_count": null,
      "outputs": []
    },
    {
      "cell_type": "markdown",
      "metadata": {
        "id": "7Ssqc71d1Cza"
      },
      "source": [
        "### Get data"
      ]
    },
    {
      "cell_type": "code",
      "metadata": {
        "id": "NK_7yvwzv29X"
      },
      "source": [
        "product_config = pd.read_gbq(product_config_query, project_id=project_id, dialect='standard')"
      ],
      "execution_count": null,
      "outputs": []
    },
    {
      "cell_type": "code",
      "metadata": {
        "id": "MkI1p5bVofgB",
        "colab": {
          "base_uri": "https://localhost:8080/",
          "height": 428
        },
        "outputId": "d1043e23-ba72-46f2-ffc5-d2b440756464"
      },
      "source": [
        "product_config.head()"
      ],
      "execution_count": null,
      "outputs": [
        {
          "output_type": "execute_result",
          "data": {
            "text/html": [
              "<div>\n",
              "<style scoped>\n",
              "    .dataframe tbody tr th:only-of-type {\n",
              "        vertical-align: middle;\n",
              "    }\n",
              "\n",
              "    .dataframe tbody tr th {\n",
              "        vertical-align: top;\n",
              "    }\n",
              "\n",
              "    .dataframe thead th {\n",
              "        text-align: right;\n",
              "    }\n",
              "</style>\n",
              "<table border=\"1\" class=\"dataframe\">\n",
              "  <thead>\n",
              "    <tr style=\"text-align: right;\">\n",
              "      <th></th>\n",
              "      <th>country_code</th>\n",
              "      <th>sku</th>\n",
              "      <th>product_name</th>\n",
              "      <th>barcode</th>\n",
              "      <th>store</th>\n",
              "      <th>warehouse_id</th>\n",
              "      <th>is_active</th>\n",
              "      <th>supplier_id</th>\n",
              "      <th>min_qty</th>\n",
              "      <th>preference</th>\n",
              "      <th>trade_cost_lp</th>\n",
              "      <th>latest_delivery_date</th>\n",
              "      <th>last_po_order_qty</th>\n",
              "      <th>last_po_delivered_qty</th>\n",
              "      <th>last_po_fill_rate</th>\n",
              "      <th>days_to_expiration</th>\n",
              "      <th>expiration_date</th>\n",
              "      <th>sales_buffer</th>\n",
              "      <th>stock_on_hand</th>\n",
              "      <th>on_hand_stock_date</th>\n",
              "      <th>stock_in_transit</th>\n",
              "      <th>in_transit_stock_date</th>\n",
              "      <th>on_hand_minus_transfer_req</th>\n",
              "      <th>transfer_stock</th>\n",
              "      <th>availability</th>\n",
              "      <th>units_sold</th>\n",
              "      <th>units_sold_7d</th>\n",
              "      <th>avg_units_sold</th>\n",
              "    </tr>\n",
              "  </thead>\n",
              "  <tbody>\n",
              "    <tr>\n",
              "      <th>0</th>\n",
              "      <td>se</td>\n",
              "      <td>65J117</td>\n",
              "      <td>Nocco Blueberry Winter Edition 330ml</td>\n",
              "      <td>7340131601428</td>\n",
              "      <td>foodora market Östermalm</td>\n",
              "      <td>87d47f17-25cc-4e89-9bbc-3df289eba49d</td>\n",
              "      <td>True</td>\n",
              "      <td>NaN</td>\n",
              "      <td>NaN</td>\n",
              "      <td>NaN</td>\n",
              "      <td>NaN</td>\n",
              "      <td>2020-12-01</td>\n",
              "      <td>240.0</td>\n",
              "      <td>240.0</td>\n",
              "      <td>1.0</td>\n",
              "      <td>148.0</td>\n",
              "      <td>2021-10-21</td>\n",
              "      <td>1</td>\n",
              "      <td>0</td>\n",
              "      <td>2021-03-30 21:39:33.312000</td>\n",
              "      <td>0</td>\n",
              "      <td>NaT</td>\n",
              "      <td>0</td>\n",
              "      <td>0</td>\n",
              "      <td>0.00</td>\n",
              "      <td>0</td>\n",
              "      <td>0</td>\n",
              "      <td>0</td>\n",
              "    </tr>\n",
              "    <tr>\n",
              "      <th>1</th>\n",
              "      <td>se</td>\n",
              "      <td>8930FB</td>\n",
              "      <td>Findus nFine fillets of cod MSC 375g</td>\n",
              "      <td>7310500184302</td>\n",
              "      <td>foodora market Östermalm</td>\n",
              "      <td>87d47f17-25cc-4e89-9bbc-3df289eba49d</td>\n",
              "      <td>True</td>\n",
              "      <td>7.0</td>\n",
              "      <td>11.0</td>\n",
              "      <td>1.0</td>\n",
              "      <td>4818.0</td>\n",
              "      <td>2021-10-06</td>\n",
              "      <td>11.0</td>\n",
              "      <td>11.0</td>\n",
              "      <td>1.0</td>\n",
              "      <td>452.0</td>\n",
              "      <td>2021-10-21</td>\n",
              "      <td>0</td>\n",
              "      <td>3</td>\n",
              "      <td>2021-10-20 09:19:39.465032</td>\n",
              "      <td>0</td>\n",
              "      <td>NaT</td>\n",
              "      <td>3</td>\n",
              "      <td>0</td>\n",
              "      <td>1.00</td>\n",
              "      <td>15</td>\n",
              "      <td>3</td>\n",
              "      <td>0.3261</td>\n",
              "    </tr>\n",
              "    <tr>\n",
              "      <th>2</th>\n",
              "      <td>se</td>\n",
              "      <td>YJJI4O</td>\n",
              "      <td>Greendeli Yoghurt Granola honung  210g</td>\n",
              "      <td>7350035639656</td>\n",
              "      <td>foodora market Östermalm</td>\n",
              "      <td>87d47f17-25cc-4e89-9bbc-3df289eba49d</td>\n",
              "      <td>True</td>\n",
              "      <td>34.0</td>\n",
              "      <td>1.0</td>\n",
              "      <td>1.0</td>\n",
              "      <td>1912.0</td>\n",
              "      <td>2021-10-20</td>\n",
              "      <td>2.0</td>\n",
              "      <td>2.0</td>\n",
              "      <td>1.0</td>\n",
              "      <td>6.0</td>\n",
              "      <td>2021-10-21</td>\n",
              "      <td>0</td>\n",
              "      <td>2</td>\n",
              "      <td>2021-10-20 07:32:19.354187</td>\n",
              "      <td>4</td>\n",
              "      <td>2021-10-20 10:18:02.271336</td>\n",
              "      <td>2</td>\n",
              "      <td>0</td>\n",
              "      <td>0.17</td>\n",
              "      <td>4</td>\n",
              "      <td>4</td>\n",
              "      <td>0.1081</td>\n",
              "    </tr>\n",
              "    <tr>\n",
              "      <th>3</th>\n",
              "      <td>se</td>\n",
              "      <td>L7CJE9</td>\n",
              "      <td>Ramlösa Citrus 330ml</td>\n",
              "      <td>7310070004765,7310070766083</td>\n",
              "      <td>foodora market Östermalm</td>\n",
              "      <td>87d47f17-25cc-4e89-9bbc-3df289eba49d</td>\n",
              "      <td>True</td>\n",
              "      <td>7.0</td>\n",
              "      <td>20.0</td>\n",
              "      <td>1.0</td>\n",
              "      <td>344.0</td>\n",
              "      <td>2021-10-20</td>\n",
              "      <td>400.0</td>\n",
              "      <td>400.0</td>\n",
              "      <td>1.0</td>\n",
              "      <td>272.0</td>\n",
              "      <td>2021-10-21</td>\n",
              "      <td>1</td>\n",
              "      <td>556</td>\n",
              "      <td>2021-10-20 10:44:32.101852</td>\n",
              "      <td>0</td>\n",
              "      <td>NaT</td>\n",
              "      <td>556</td>\n",
              "      <td>0</td>\n",
              "      <td>1.00</td>\n",
              "      <td>1028</td>\n",
              "      <td>252</td>\n",
              "      <td>5.064</td>\n",
              "    </tr>\n",
              "    <tr>\n",
              "      <th>4</th>\n",
              "      <td>se</td>\n",
              "      <td>802VFE</td>\n",
              "      <td>Remi Mint Cookie 100g</td>\n",
              "      <td>7310525701416</td>\n",
              "      <td>foodora market Östermalm</td>\n",
              "      <td>87d47f17-25cc-4e89-9bbc-3df289eba49d</td>\n",
              "      <td>True</td>\n",
              "      <td>7.0</td>\n",
              "      <td>22.0</td>\n",
              "      <td>1.0</td>\n",
              "      <td>1633.0</td>\n",
              "      <td>2021-07-12</td>\n",
              "      <td>22.0</td>\n",
              "      <td>22.0</td>\n",
              "      <td>1.0</td>\n",
              "      <td>297.0</td>\n",
              "      <td>2021-10-21</td>\n",
              "      <td>0</td>\n",
              "      <td>17</td>\n",
              "      <td>2021-10-18 17:22:11.355841</td>\n",
              "      <td>0</td>\n",
              "      <td>NaT</td>\n",
              "      <td>17</td>\n",
              "      <td>0</td>\n",
              "      <td>1.00</td>\n",
              "      <td>7</td>\n",
              "      <td>1</td>\n",
              "      <td>0.0833</td>\n",
              "    </tr>\n",
              "  </tbody>\n",
              "</table>\n",
              "</div>"
            ],
            "text/plain": [
              "  country_code     sku  ... units_sold_7d avg_units_sold\n",
              "0           se  65J117  ...             0              0\n",
              "1           se  8930FB  ...             3         0.3261\n",
              "2           se  YJJI4O  ...             4         0.1081\n",
              "3           se  L7CJE9  ...           252          5.064\n",
              "4           se  802VFE  ...             1         0.0833\n",
              "\n",
              "[5 rows x 28 columns]"
            ]
          },
          "metadata": {},
          "execution_count": 447
        }
      ]
    },
    {
      "cell_type": "code",
      "metadata": {
        "colab": {
          "base_uri": "https://localhost:8080/"
        },
        "id": "FvsKsDu5ofdj",
        "outputId": "6367963d-f651-48e7-bf95-1d39e2a8c586"
      },
      "source": [
        "product_config.sku.unique().shape"
      ],
      "execution_count": null,
      "outputs": [
        {
          "output_type": "execute_result",
          "data": {
            "text/plain": [
              "(2457,)"
            ]
          },
          "metadata": {},
          "execution_count": 448
        }
      ]
    },
    {
      "cell_type": "code",
      "metadata": {
        "id": "TydexOFXofa0"
      },
      "source": [
        ""
      ],
      "execution_count": null,
      "outputs": []
    },
    {
      "cell_type": "code",
      "metadata": {
        "id": "xja6ii-0oeQ6"
      },
      "source": [
        ""
      ],
      "execution_count": null,
      "outputs": []
    },
    {
      "cell_type": "code",
      "metadata": {
        "id": "lKuVtlFooeJH"
      },
      "source": [
        ""
      ],
      "execution_count": null,
      "outputs": []
    },
    {
      "cell_type": "code",
      "metadata": {
        "id": "DiDxA5oPoeGY"
      },
      "source": [
        ""
      ],
      "execution_count": null,
      "outputs": []
    },
    {
      "cell_type": "code",
      "metadata": {
        "id": "PQHapNcsYClN"
      },
      "source": [
        "forecast = pd.read_gbq(forecast_query, project_id=project_id, dialect='standard')"
      ],
      "execution_count": null,
      "outputs": []
    },
    {
      "cell_type": "code",
      "metadata": {
        "id": "jsPy1nAs1pWe"
      },
      "source": [
        "schedules = pd.read_gbq(schedule_query, project_id=project_id, dialect='standard')\n"
      ],
      "execution_count": null,
      "outputs": []
    },
    {
      "cell_type": "code",
      "metadata": {
        "id": "78B7p5bdyoJ3"
      },
      "source": [
        "# add keys to simplify joins\n",
        "product_config['wh_sku'] = product_config['warehouse_id'] + '_' + product_config['sku']"
      ],
      "execution_count": null,
      "outputs": []
    },
    {
      "cell_type": "code",
      "metadata": {
        "colab": {
          "base_uri": "https://localhost:8080/",
          "height": 428
        },
        "id": "TVH_dD1H1cAR",
        "outputId": "e261e284-36ca-4f59-c44f-a790fae6b57f"
      },
      "source": [
        "product_config.head()"
      ],
      "execution_count": null,
      "outputs": [
        {
          "output_type": "execute_result",
          "data": {
            "text/html": [
              "<div>\n",
              "<style scoped>\n",
              "    .dataframe tbody tr th:only-of-type {\n",
              "        vertical-align: middle;\n",
              "    }\n",
              "\n",
              "    .dataframe tbody tr th {\n",
              "        vertical-align: top;\n",
              "    }\n",
              "\n",
              "    .dataframe thead th {\n",
              "        text-align: right;\n",
              "    }\n",
              "</style>\n",
              "<table border=\"1\" class=\"dataframe\">\n",
              "  <thead>\n",
              "    <tr style=\"text-align: right;\">\n",
              "      <th></th>\n",
              "      <th>country_code</th>\n",
              "      <th>sku</th>\n",
              "      <th>product_name</th>\n",
              "      <th>barcode</th>\n",
              "      <th>store</th>\n",
              "      <th>warehouse_id</th>\n",
              "      <th>is_active</th>\n",
              "      <th>supplier_id</th>\n",
              "      <th>min_qty</th>\n",
              "      <th>preference</th>\n",
              "      <th>trade_cost_lp</th>\n",
              "      <th>latest_delivery_date</th>\n",
              "      <th>last_po_order_qty</th>\n",
              "      <th>last_po_delivered_qty</th>\n",
              "      <th>last_po_fill_rate</th>\n",
              "      <th>days_to_expiration</th>\n",
              "      <th>expiration_date</th>\n",
              "      <th>sales_buffer</th>\n",
              "      <th>stock_on_hand</th>\n",
              "      <th>on_hand_stock_date</th>\n",
              "      <th>stock_in_transit</th>\n",
              "      <th>in_transit_stock_date</th>\n",
              "      <th>on_hand_minus_transfer_req</th>\n",
              "      <th>transfer_stock</th>\n",
              "      <th>availability</th>\n",
              "      <th>units_sold</th>\n",
              "      <th>units_sold_7d</th>\n",
              "      <th>avg_units_sold</th>\n",
              "      <th>wh_sku</th>\n",
              "    </tr>\n",
              "  </thead>\n",
              "  <tbody>\n",
              "    <tr>\n",
              "      <th>0</th>\n",
              "      <td>se</td>\n",
              "      <td>65J117</td>\n",
              "      <td>Nocco Blueberry Winter Edition 330ml</td>\n",
              "      <td>7340131601428</td>\n",
              "      <td>foodora market Östermalm</td>\n",
              "      <td>87d47f17-25cc-4e89-9bbc-3df289eba49d</td>\n",
              "      <td>True</td>\n",
              "      <td>NaN</td>\n",
              "      <td>NaN</td>\n",
              "      <td>NaN</td>\n",
              "      <td>NaN</td>\n",
              "      <td>2020-12-01</td>\n",
              "      <td>240.0</td>\n",
              "      <td>240.0</td>\n",
              "      <td>1.0</td>\n",
              "      <td>148.0</td>\n",
              "      <td>2021-10-21</td>\n",
              "      <td>1</td>\n",
              "      <td>0</td>\n",
              "      <td>2021-03-30 21:39:33.312000</td>\n",
              "      <td>0</td>\n",
              "      <td>NaT</td>\n",
              "      <td>0</td>\n",
              "      <td>0</td>\n",
              "      <td>0.00</td>\n",
              "      <td>0</td>\n",
              "      <td>0</td>\n",
              "      <td>0</td>\n",
              "      <td>87d47f17-25cc-4e89-9bbc-3df289eba49d_65J117</td>\n",
              "    </tr>\n",
              "    <tr>\n",
              "      <th>1</th>\n",
              "      <td>se</td>\n",
              "      <td>8930FB</td>\n",
              "      <td>Findus nFine fillets of cod MSC 375g</td>\n",
              "      <td>7310500184302</td>\n",
              "      <td>foodora market Östermalm</td>\n",
              "      <td>87d47f17-25cc-4e89-9bbc-3df289eba49d</td>\n",
              "      <td>True</td>\n",
              "      <td>7.0</td>\n",
              "      <td>11.0</td>\n",
              "      <td>1.0</td>\n",
              "      <td>4818.0</td>\n",
              "      <td>2021-10-06</td>\n",
              "      <td>11.0</td>\n",
              "      <td>11.0</td>\n",
              "      <td>1.0</td>\n",
              "      <td>452.0</td>\n",
              "      <td>2021-10-21</td>\n",
              "      <td>0</td>\n",
              "      <td>3</td>\n",
              "      <td>2021-10-20 09:19:39.465032</td>\n",
              "      <td>0</td>\n",
              "      <td>NaT</td>\n",
              "      <td>3</td>\n",
              "      <td>0</td>\n",
              "      <td>1.00</td>\n",
              "      <td>15</td>\n",
              "      <td>3</td>\n",
              "      <td>0.3261</td>\n",
              "      <td>87d47f17-25cc-4e89-9bbc-3df289eba49d_8930FB</td>\n",
              "    </tr>\n",
              "    <tr>\n",
              "      <th>2</th>\n",
              "      <td>se</td>\n",
              "      <td>YJJI4O</td>\n",
              "      <td>Greendeli Yoghurt Granola honung  210g</td>\n",
              "      <td>7350035639656</td>\n",
              "      <td>foodora market Östermalm</td>\n",
              "      <td>87d47f17-25cc-4e89-9bbc-3df289eba49d</td>\n",
              "      <td>True</td>\n",
              "      <td>34.0</td>\n",
              "      <td>1.0</td>\n",
              "      <td>1.0</td>\n",
              "      <td>1912.0</td>\n",
              "      <td>2021-10-20</td>\n",
              "      <td>2.0</td>\n",
              "      <td>2.0</td>\n",
              "      <td>1.0</td>\n",
              "      <td>6.0</td>\n",
              "      <td>2021-10-21</td>\n",
              "      <td>0</td>\n",
              "      <td>2</td>\n",
              "      <td>2021-10-20 07:32:19.354187</td>\n",
              "      <td>4</td>\n",
              "      <td>2021-10-20 10:18:02.271336</td>\n",
              "      <td>2</td>\n",
              "      <td>0</td>\n",
              "      <td>0.17</td>\n",
              "      <td>4</td>\n",
              "      <td>4</td>\n",
              "      <td>0.1081</td>\n",
              "      <td>87d47f17-25cc-4e89-9bbc-3df289eba49d_YJJI4O</td>\n",
              "    </tr>\n",
              "    <tr>\n",
              "      <th>3</th>\n",
              "      <td>se</td>\n",
              "      <td>L7CJE9</td>\n",
              "      <td>Ramlösa Citrus 330ml</td>\n",
              "      <td>7310070004765,7310070766083</td>\n",
              "      <td>foodora market Östermalm</td>\n",
              "      <td>87d47f17-25cc-4e89-9bbc-3df289eba49d</td>\n",
              "      <td>True</td>\n",
              "      <td>7.0</td>\n",
              "      <td>20.0</td>\n",
              "      <td>1.0</td>\n",
              "      <td>344.0</td>\n",
              "      <td>2021-10-20</td>\n",
              "      <td>400.0</td>\n",
              "      <td>400.0</td>\n",
              "      <td>1.0</td>\n",
              "      <td>272.0</td>\n",
              "      <td>2021-10-21</td>\n",
              "      <td>1</td>\n",
              "      <td>556</td>\n",
              "      <td>2021-10-20 10:44:32.101852</td>\n",
              "      <td>0</td>\n",
              "      <td>NaT</td>\n",
              "      <td>556</td>\n",
              "      <td>0</td>\n",
              "      <td>1.00</td>\n",
              "      <td>1028</td>\n",
              "      <td>252</td>\n",
              "      <td>5.064</td>\n",
              "      <td>87d47f17-25cc-4e89-9bbc-3df289eba49d_L7CJE9</td>\n",
              "    </tr>\n",
              "    <tr>\n",
              "      <th>4</th>\n",
              "      <td>se</td>\n",
              "      <td>802VFE</td>\n",
              "      <td>Remi Mint Cookie 100g</td>\n",
              "      <td>7310525701416</td>\n",
              "      <td>foodora market Östermalm</td>\n",
              "      <td>87d47f17-25cc-4e89-9bbc-3df289eba49d</td>\n",
              "      <td>True</td>\n",
              "      <td>7.0</td>\n",
              "      <td>22.0</td>\n",
              "      <td>1.0</td>\n",
              "      <td>1633.0</td>\n",
              "      <td>2021-07-12</td>\n",
              "      <td>22.0</td>\n",
              "      <td>22.0</td>\n",
              "      <td>1.0</td>\n",
              "      <td>297.0</td>\n",
              "      <td>2021-10-21</td>\n",
              "      <td>0</td>\n",
              "      <td>17</td>\n",
              "      <td>2021-10-18 17:22:11.355841</td>\n",
              "      <td>0</td>\n",
              "      <td>NaT</td>\n",
              "      <td>17</td>\n",
              "      <td>0</td>\n",
              "      <td>1.00</td>\n",
              "      <td>7</td>\n",
              "      <td>1</td>\n",
              "      <td>0.0833</td>\n",
              "      <td>87d47f17-25cc-4e89-9bbc-3df289eba49d_802VFE</td>\n",
              "    </tr>\n",
              "  </tbody>\n",
              "</table>\n",
              "</div>"
            ],
            "text/plain": [
              "  country_code  ...                                       wh_sku\n",
              "0           se  ...  87d47f17-25cc-4e89-9bbc-3df289eba49d_65J117\n",
              "1           se  ...  87d47f17-25cc-4e89-9bbc-3df289eba49d_8930FB\n",
              "2           se  ...  87d47f17-25cc-4e89-9bbc-3df289eba49d_YJJI4O\n",
              "3           se  ...  87d47f17-25cc-4e89-9bbc-3df289eba49d_L7CJE9\n",
              "4           se  ...  87d47f17-25cc-4e89-9bbc-3df289eba49d_802VFE\n",
              "\n",
              "[5 rows x 29 columns]"
            ]
          },
          "metadata": {},
          "execution_count": 452
        }
      ]
    },
    {
      "cell_type": "code",
      "metadata": {
        "colab": {
          "base_uri": "https://localhost:8080/"
        },
        "id": "TZ4qaBBiq4wi",
        "outputId": "2b1a332c-2d8a-449b-d016-723f29663eaf"
      },
      "source": [
        "product_config.sku.unique().shape"
      ],
      "execution_count": null,
      "outputs": [
        {
          "output_type": "execute_result",
          "data": {
            "text/plain": [
              "(2457,)"
            ]
          },
          "metadata": {},
          "execution_count": 453
        }
      ]
    },
    {
      "cell_type": "code",
      "metadata": {
        "colab": {
          "base_uri": "https://localhost:8080/"
        },
        "id": "XmGlCV2Lq4r_",
        "outputId": "44126531-915c-43ae-83e5-13b6456db0bc"
      },
      "source": [
        "product_config.shape"
      ],
      "execution_count": null,
      "outputs": [
        {
          "output_type": "execute_result",
          "data": {
            "text/plain": [
              "(2457, 29)"
            ]
          },
          "metadata": {},
          "execution_count": 454
        }
      ]
    },
    {
      "cell_type": "code",
      "metadata": {
        "id": "CksmkqlLq4kR"
      },
      "source": [
        ""
      ],
      "execution_count": null,
      "outputs": []
    },
    {
      "cell_type": "code",
      "metadata": {
        "id": "T9_GiqQmq4ho"
      },
      "source": [
        ""
      ],
      "execution_count": null,
      "outputs": []
    },
    {
      "cell_type": "markdown",
      "metadata": {
        "id": "uyoe_5NgyGNi"
      },
      "source": [
        "### Clean-up Products data (DATA ISSUES)\n",
        "\n",
        "**NOTE:** Applies especially for products from products_v2 table. might not apply if products data is from a different source"
      ]
    },
    {
      "cell_type": "code",
      "metadata": {
        "id": "7jcIP2RS5ihQ"
      },
      "source": [
        "#NOTE: commeting out this check for now as per Marina: https://deliveryhero.slack.com/archives/C02AVDKNS64/p1634807506005700\n",
        "# some products don't have suppliers - perhaps an upstream data issue\n",
        "product_without_suppliers = product_config[product_config['supplier_id'].isnull()]\n",
        "product_config = product_config[product_config['supplier_id'].notnull()]\n"
      ],
      "execution_count": null,
      "outputs": []
    },
    {
      "cell_type": "code",
      "metadata": {
        "colab": {
          "base_uri": "https://localhost:8080/"
        },
        "id": "2oT2A1KtxnLl",
        "outputId": "dfbb236b-6cab-47da-df44-46c1ffddd1b2"
      },
      "source": [
        "len(product_without_suppliers)"
      ],
      "execution_count": null,
      "outputs": [
        {
          "output_type": "execute_result",
          "data": {
            "text/plain": [
              "171"
            ]
          },
          "metadata": {},
          "execution_count": 456
        }
      ]
    },
    {
      "cell_type": "code",
      "metadata": {
        "id": "k8yiKbJQ7I4z"
      },
      "source": [
        "product_config['supplier_id'] = product_config['supplier_id'].astype(int)"
      ],
      "execution_count": null,
      "outputs": []
    },
    {
      "cell_type": "code",
      "metadata": {
        "id": "8j8LVAhxz98v"
      },
      "source": [
        "# some suppliers aren't found in the supplier schedules - supplier portal issue?\n",
        "product_without_schedules = product_config[~product_config['supplier_id'].isin(schedules['supplier_id'].unique())]\n",
        "product_config = product_config[product_config['supplier_id'].isin(schedules['supplier_id'].unique())]"
      ],
      "execution_count": null,
      "outputs": []
    },
    {
      "cell_type": "code",
      "metadata": {
        "id": "s4k3Qxasmi7T"
      },
      "source": [
        ""
      ],
      "execution_count": null,
      "outputs": []
    },
    {
      "cell_type": "code",
      "metadata": {
        "colab": {
          "base_uri": "https://localhost:8080/"
        },
        "id": "18Kb2HcAmi5O",
        "outputId": "b3ea3346-7925-42d4-c646-277f5948ce35"
      },
      "source": [
        "set(schedules.supplier_id.unique()) - set(product_config.supplier_id.unique())"
      ],
      "execution_count": null,
      "outputs": [
        {
          "output_type": "execute_result",
          "data": {
            "text/plain": [
              "{16, 18, 19, 20, 22, 23, 26, 32, 36}"
            ]
          },
          "metadata": {},
          "execution_count": 459
        }
      ]
    },
    {
      "cell_type": "code",
      "metadata": {
        "colab": {
          "base_uri": "https://localhost:8080/"
        },
        "id": "RsmlqRn_mi2w",
        "outputId": "8e540cbe-a25c-4f97-f3e1-1a2a5f084572"
      },
      "source": [
        "set(product_config.supplier_id.unique()) - set(schedules.supplier_id.unique())"
      ],
      "execution_count": null,
      "outputs": [
        {
          "output_type": "execute_result",
          "data": {
            "text/plain": [
              "set()"
            ]
          },
          "metadata": {},
          "execution_count": 460
        }
      ]
    },
    {
      "cell_type": "code",
      "metadata": {
        "colab": {
          "base_uri": "https://localhost:8080/"
        },
        "id": "FZ6t-zPWyCmz",
        "outputId": "cef94a70-33b5-4122-ac0b-f604bbbffe4a"
      },
      "source": [
        "len(product_without_schedules)"
      ],
      "execution_count": null,
      "outputs": [
        {
          "output_type": "execute_result",
          "data": {
            "text/plain": [
              "71"
            ]
          },
          "metadata": {},
          "execution_count": 461
        }
      ]
    },
    {
      "cell_type": "code",
      "metadata": {
        "id": "Vts7bb6tne0K"
      },
      "source": [
        ""
      ],
      "execution_count": null,
      "outputs": []
    },
    {
      "cell_type": "code",
      "metadata": {
        "id": "4ty5VEdfnepv"
      },
      "source": [
        ""
      ],
      "execution_count": null,
      "outputs": []
    },
    {
      "cell_type": "code",
      "metadata": {
        "id": "XYFNm6cjnekq"
      },
      "source": [
        ""
      ],
      "execution_count": null,
      "outputs": []
    },
    {
      "cell_type": "code",
      "metadata": {
        "id": "NqlbGShiYs_8",
        "colab": {
          "base_uri": "https://localhost:8080/",
          "height": 411
        },
        "outputId": "cb8b5853-90a9-4601-f8c6-749c99099d61"
      },
      "source": [
        "product_config.head()"
      ],
      "execution_count": null,
      "outputs": [
        {
          "output_type": "execute_result",
          "data": {
            "text/html": [
              "<div>\n",
              "<style scoped>\n",
              "    .dataframe tbody tr th:only-of-type {\n",
              "        vertical-align: middle;\n",
              "    }\n",
              "\n",
              "    .dataframe tbody tr th {\n",
              "        vertical-align: top;\n",
              "    }\n",
              "\n",
              "    .dataframe thead th {\n",
              "        text-align: right;\n",
              "    }\n",
              "</style>\n",
              "<table border=\"1\" class=\"dataframe\">\n",
              "  <thead>\n",
              "    <tr style=\"text-align: right;\">\n",
              "      <th></th>\n",
              "      <th>country_code</th>\n",
              "      <th>sku</th>\n",
              "      <th>product_name</th>\n",
              "      <th>barcode</th>\n",
              "      <th>store</th>\n",
              "      <th>warehouse_id</th>\n",
              "      <th>is_active</th>\n",
              "      <th>supplier_id</th>\n",
              "      <th>min_qty</th>\n",
              "      <th>preference</th>\n",
              "      <th>trade_cost_lp</th>\n",
              "      <th>latest_delivery_date</th>\n",
              "      <th>last_po_order_qty</th>\n",
              "      <th>last_po_delivered_qty</th>\n",
              "      <th>last_po_fill_rate</th>\n",
              "      <th>days_to_expiration</th>\n",
              "      <th>expiration_date</th>\n",
              "      <th>sales_buffer</th>\n",
              "      <th>stock_on_hand</th>\n",
              "      <th>on_hand_stock_date</th>\n",
              "      <th>stock_in_transit</th>\n",
              "      <th>in_transit_stock_date</th>\n",
              "      <th>on_hand_minus_transfer_req</th>\n",
              "      <th>transfer_stock</th>\n",
              "      <th>availability</th>\n",
              "      <th>units_sold</th>\n",
              "      <th>units_sold_7d</th>\n",
              "      <th>avg_units_sold</th>\n",
              "      <th>wh_sku</th>\n",
              "    </tr>\n",
              "  </thead>\n",
              "  <tbody>\n",
              "    <tr>\n",
              "      <th>1</th>\n",
              "      <td>se</td>\n",
              "      <td>8930FB</td>\n",
              "      <td>Findus nFine fillets of cod MSC 375g</td>\n",
              "      <td>7310500184302</td>\n",
              "      <td>foodora market Östermalm</td>\n",
              "      <td>87d47f17-25cc-4e89-9bbc-3df289eba49d</td>\n",
              "      <td>True</td>\n",
              "      <td>7</td>\n",
              "      <td>11.0</td>\n",
              "      <td>1.0</td>\n",
              "      <td>4818.0</td>\n",
              "      <td>2021-10-06</td>\n",
              "      <td>11.0</td>\n",
              "      <td>11.0</td>\n",
              "      <td>1.0</td>\n",
              "      <td>452.0</td>\n",
              "      <td>2021-10-21</td>\n",
              "      <td>0</td>\n",
              "      <td>3</td>\n",
              "      <td>2021-10-20 09:19:39.465032</td>\n",
              "      <td>0</td>\n",
              "      <td>NaT</td>\n",
              "      <td>3</td>\n",
              "      <td>0</td>\n",
              "      <td>1.00</td>\n",
              "      <td>15</td>\n",
              "      <td>3</td>\n",
              "      <td>0.3261</td>\n",
              "      <td>87d47f17-25cc-4e89-9bbc-3df289eba49d_8930FB</td>\n",
              "    </tr>\n",
              "    <tr>\n",
              "      <th>2</th>\n",
              "      <td>se</td>\n",
              "      <td>YJJI4O</td>\n",
              "      <td>Greendeli Yoghurt Granola honung  210g</td>\n",
              "      <td>7350035639656</td>\n",
              "      <td>foodora market Östermalm</td>\n",
              "      <td>87d47f17-25cc-4e89-9bbc-3df289eba49d</td>\n",
              "      <td>True</td>\n",
              "      <td>34</td>\n",
              "      <td>1.0</td>\n",
              "      <td>1.0</td>\n",
              "      <td>1912.0</td>\n",
              "      <td>2021-10-20</td>\n",
              "      <td>2.0</td>\n",
              "      <td>2.0</td>\n",
              "      <td>1.0</td>\n",
              "      <td>6.0</td>\n",
              "      <td>2021-10-21</td>\n",
              "      <td>0</td>\n",
              "      <td>2</td>\n",
              "      <td>2021-10-20 07:32:19.354187</td>\n",
              "      <td>4</td>\n",
              "      <td>2021-10-20 10:18:02.271336</td>\n",
              "      <td>2</td>\n",
              "      <td>0</td>\n",
              "      <td>0.17</td>\n",
              "      <td>4</td>\n",
              "      <td>4</td>\n",
              "      <td>0.1081</td>\n",
              "      <td>87d47f17-25cc-4e89-9bbc-3df289eba49d_YJJI4O</td>\n",
              "    </tr>\n",
              "    <tr>\n",
              "      <th>3</th>\n",
              "      <td>se</td>\n",
              "      <td>L7CJE9</td>\n",
              "      <td>Ramlösa Citrus 330ml</td>\n",
              "      <td>7310070004765,7310070766083</td>\n",
              "      <td>foodora market Östermalm</td>\n",
              "      <td>87d47f17-25cc-4e89-9bbc-3df289eba49d</td>\n",
              "      <td>True</td>\n",
              "      <td>7</td>\n",
              "      <td>20.0</td>\n",
              "      <td>1.0</td>\n",
              "      <td>344.0</td>\n",
              "      <td>2021-10-20</td>\n",
              "      <td>400.0</td>\n",
              "      <td>400.0</td>\n",
              "      <td>1.0</td>\n",
              "      <td>272.0</td>\n",
              "      <td>2021-10-21</td>\n",
              "      <td>1</td>\n",
              "      <td>556</td>\n",
              "      <td>2021-10-20 10:44:32.101852</td>\n",
              "      <td>0</td>\n",
              "      <td>NaT</td>\n",
              "      <td>556</td>\n",
              "      <td>0</td>\n",
              "      <td>1.00</td>\n",
              "      <td>1028</td>\n",
              "      <td>252</td>\n",
              "      <td>5.064</td>\n",
              "      <td>87d47f17-25cc-4e89-9bbc-3df289eba49d_L7CJE9</td>\n",
              "    </tr>\n",
              "    <tr>\n",
              "      <th>4</th>\n",
              "      <td>se</td>\n",
              "      <td>802VFE</td>\n",
              "      <td>Remi Mint Cookie 100g</td>\n",
              "      <td>7310525701416</td>\n",
              "      <td>foodora market Östermalm</td>\n",
              "      <td>87d47f17-25cc-4e89-9bbc-3df289eba49d</td>\n",
              "      <td>True</td>\n",
              "      <td>7</td>\n",
              "      <td>22.0</td>\n",
              "      <td>1.0</td>\n",
              "      <td>1633.0</td>\n",
              "      <td>2021-07-12</td>\n",
              "      <td>22.0</td>\n",
              "      <td>22.0</td>\n",
              "      <td>1.0</td>\n",
              "      <td>297.0</td>\n",
              "      <td>2021-10-21</td>\n",
              "      <td>0</td>\n",
              "      <td>17</td>\n",
              "      <td>2021-10-18 17:22:11.355841</td>\n",
              "      <td>0</td>\n",
              "      <td>NaT</td>\n",
              "      <td>17</td>\n",
              "      <td>0</td>\n",
              "      <td>1.00</td>\n",
              "      <td>7</td>\n",
              "      <td>1</td>\n",
              "      <td>0.0833</td>\n",
              "      <td>87d47f17-25cc-4e89-9bbc-3df289eba49d_802VFE</td>\n",
              "    </tr>\n",
              "    <tr>\n",
              "      <th>5</th>\n",
              "      <td>se</td>\n",
              "      <td>B12YH6</td>\n",
              "      <td>Toms Salta Hallon Stång 29 g</td>\n",
              "      <td>5774540465401</td>\n",
              "      <td>foodora market Östermalm</td>\n",
              "      <td>87d47f17-25cc-4e89-9bbc-3df289eba49d</td>\n",
              "      <td>True</td>\n",
              "      <td>7</td>\n",
              "      <td>55.0</td>\n",
              "      <td>1.0</td>\n",
              "      <td>212.0</td>\n",
              "      <td>2021-10-08</td>\n",
              "      <td>55.0</td>\n",
              "      <td>55.0</td>\n",
              "      <td>1.0</td>\n",
              "      <td>524.0</td>\n",
              "      <td>2021-10-21</td>\n",
              "      <td>1</td>\n",
              "      <td>37</td>\n",
              "      <td>2021-10-20 20:15:13.289378</td>\n",
              "      <td>0</td>\n",
              "      <td>NaT</td>\n",
              "      <td>37</td>\n",
              "      <td>0</td>\n",
              "      <td>1.00</td>\n",
              "      <td>67</td>\n",
              "      <td>16</td>\n",
              "      <td>0.3941</td>\n",
              "      <td>87d47f17-25cc-4e89-9bbc-3df289eba49d_B12YH6</td>\n",
              "    </tr>\n",
              "  </tbody>\n",
              "</table>\n",
              "</div>"
            ],
            "text/plain": [
              "  country_code  ...                                       wh_sku\n",
              "1           se  ...  87d47f17-25cc-4e89-9bbc-3df289eba49d_8930FB\n",
              "2           se  ...  87d47f17-25cc-4e89-9bbc-3df289eba49d_YJJI4O\n",
              "3           se  ...  87d47f17-25cc-4e89-9bbc-3df289eba49d_L7CJE9\n",
              "4           se  ...  87d47f17-25cc-4e89-9bbc-3df289eba49d_802VFE\n",
              "5           se  ...  87d47f17-25cc-4e89-9bbc-3df289eba49d_B12YH6\n",
              "\n",
              "[5 rows x 29 columns]"
            ]
          },
          "metadata": {},
          "execution_count": 462
        }
      ]
    },
    {
      "cell_type": "code",
      "metadata": {
        "id": "rOU3UKmQYv_I",
        "colab": {
          "base_uri": "https://localhost:8080/"
        },
        "outputId": "a36809c7-3f26-43d6-a936-09e62c85d3d9"
      },
      "source": [
        "product_config.sku.unique().shape"
      ],
      "execution_count": null,
      "outputs": [
        {
          "output_type": "execute_result",
          "data": {
            "text/plain": [
              "(2215,)"
            ]
          },
          "metadata": {},
          "execution_count": 463
        }
      ]
    },
    {
      "cell_type": "code",
      "metadata": {
        "id": "lgPwHW0cX_GQ"
      },
      "source": [
        ""
      ],
      "execution_count": null,
      "outputs": []
    },
    {
      "cell_type": "code",
      "metadata": {
        "id": "qB0VZlm9X_D_"
      },
      "source": [
        ""
      ],
      "execution_count": null,
      "outputs": []
    },
    {
      "cell_type": "markdown",
      "metadata": {
        "id": "pR9Suby6X_le"
      },
      "source": [
        "# Split Forecast"
      ]
    },
    {
      "cell_type": "code",
      "metadata": {
        "id": "g_RYHtbBYz_8",
        "colab": {
          "base_uri": "https://localhost:8080/",
          "height": 204
        },
        "outputId": "bee4c74e-a050-415c-f458-49c615be7afa"
      },
      "source": [
        "forecast.head()"
      ],
      "execution_count": null,
      "outputs": [
        {
          "output_type": "execute_result",
          "data": {
            "text/html": [
              "<div>\n",
              "<style scoped>\n",
              "    .dataframe tbody tr th:only-of-type {\n",
              "        vertical-align: middle;\n",
              "    }\n",
              "\n",
              "    .dataframe tbody tr th {\n",
              "        vertical-align: top;\n",
              "    }\n",
              "\n",
              "    .dataframe thead th {\n",
              "        text-align: right;\n",
              "    }\n",
              "</style>\n",
              "<table border=\"1\" class=\"dataframe\">\n",
              "  <thead>\n",
              "    <tr style=\"text-align: right;\">\n",
              "      <th></th>\n",
              "      <th>warehouse_id</th>\n",
              "      <th>sku</th>\n",
              "      <th>order_date</th>\n",
              "      <th>lookahead_from_today</th>\n",
              "      <th>pred_units</th>\n",
              "      <th>cumulative_future_preds</th>\n",
              "      <th>units_sold</th>\n",
              "    </tr>\n",
              "  </thead>\n",
              "  <tbody>\n",
              "    <tr>\n",
              "      <th>0</th>\n",
              "      <td>ed854716-a56c-430f-8724-2dd2f76de7be</td>\n",
              "      <td>67XD0Q</td>\n",
              "      <td>2021-11-13</td>\n",
              "      <td>23</td>\n",
              "      <td>0.014522</td>\n",
              "      <td>0.814446</td>\n",
              "      <td>0</td>\n",
              "    </tr>\n",
              "    <tr>\n",
              "      <th>1</th>\n",
              "      <td>261ffeed-c5bc-4965-b142-1d593ab5e9c2</td>\n",
              "      <td>53M72M</td>\n",
              "      <td>2021-11-13</td>\n",
              "      <td>23</td>\n",
              "      <td>9.496146</td>\n",
              "      <td>139.224345</td>\n",
              "      <td>0</td>\n",
              "    </tr>\n",
              "    <tr>\n",
              "      <th>2</th>\n",
              "      <td>60b7f9b8-a2f5-4bea-93b1-c2c51fb98ce9</td>\n",
              "      <td>B24M3E</td>\n",
              "      <td>2021-11-13</td>\n",
              "      <td>23</td>\n",
              "      <td>0.205465</td>\n",
              "      <td>4.241573</td>\n",
              "      <td>0</td>\n",
              "    </tr>\n",
              "    <tr>\n",
              "      <th>3</th>\n",
              "      <td>dcbb7a88-5ee3-4766-bf96-63dc4b6636a9</td>\n",
              "      <td>517HKT</td>\n",
              "      <td>2021-11-13</td>\n",
              "      <td>23</td>\n",
              "      <td>0.063181</td>\n",
              "      <td>1.316398</td>\n",
              "      <td>0</td>\n",
              "    </tr>\n",
              "    <tr>\n",
              "      <th>4</th>\n",
              "      <td>fbc7ab43-d6dd-48ec-a19b-08e3605ea37f</td>\n",
              "      <td>F67F94</td>\n",
              "      <td>2021-11-13</td>\n",
              "      <td>23</td>\n",
              "      <td>0.049893</td>\n",
              "      <td>1.143068</td>\n",
              "      <td>0</td>\n",
              "    </tr>\n",
              "  </tbody>\n",
              "</table>\n",
              "</div>"
            ],
            "text/plain": [
              "                           warehouse_id  ... units_sold\n",
              "0  ed854716-a56c-430f-8724-2dd2f76de7be  ...          0\n",
              "1  261ffeed-c5bc-4965-b142-1d593ab5e9c2  ...          0\n",
              "2  60b7f9b8-a2f5-4bea-93b1-c2c51fb98ce9  ...          0\n",
              "3  dcbb7a88-5ee3-4766-bf96-63dc4b6636a9  ...          0\n",
              "4  fbc7ab43-d6dd-48ec-a19b-08e3605ea37f  ...          0\n",
              "\n",
              "[5 rows x 7 columns]"
            ]
          },
          "metadata": {},
          "execution_count": 464
        }
      ]
    },
    {
      "cell_type": "code",
      "metadata": {
        "id": "wyO4F-OcFWgw"
      },
      "source": [
        "# split forecast into historical and future dfs\n",
        "past_forecast = forecast[forecast['order_date'] < datetime.now()]\n",
        "future_forecast = forecast[forecast['order_date'] >= datetime.now()]"
      ],
      "execution_count": null,
      "outputs": []
    },
    {
      "cell_type": "markdown",
      "metadata": {
        "id": "rQtPTZjf-_fT"
      },
      "source": [
        "### Work on the schedules"
      ]
    },
    {
      "cell_type": "code",
      "metadata": {
        "id": "N3BSMumY_CXN"
      },
      "source": [
        "# schedules.head()"
      ],
      "execution_count": null,
      "outputs": []
    },
    {
      "cell_type": "code",
      "metadata": {
        "id": "Jo2ibNHn_EBz"
      },
      "source": [
        "def calculate_next_delivery_date(start_date: datetime, dd1, dd2, dd3, dd4, dd5, dd6, lead_time) -> DataFrame:\n",
        "  # today + lead time, then round to nearest DoW that the supplier can deliver on\n",
        "  # get day of week for lead time\n",
        "  # added +1 for monday to start at 1\n",
        "  # consider lead time and days of week you can order\n",
        "  # e.g. if today is weds and LT == 7, delivery dates are mon and fri: we expect 9 day LT\n",
        "  # returns date\n",
        "\n",
        "  dd1 = 1 if dd1 else dd1\n",
        "  dd2 = 2 if dd2 else dd2\n",
        "  dd3 = 3 if dd3 else dd3\n",
        "  dd4 = 4 if dd4 else dd4\n",
        "  dd5 = 5 if dd5 else dd5\n",
        "  dd6 = 6 if dd6 else dd6\n",
        "\n",
        "  run_plus_lead_dow = (start_date + timedelta(days=lead_time)).weekday() + 1\n",
        "  days_to_add = 0\n",
        "  if dd1 and run_plus_lead_dow <= dd1:\n",
        "    days_to_add = lead_time + dd1 - run_plus_lead_dow\n",
        "  elif dd2 and run_plus_lead_dow <= dd2 :\n",
        "    days_to_add = lead_time + dd2 - run_plus_lead_dow\n",
        "  elif dd3 and run_plus_lead_dow <= dd3 :\n",
        "    days_to_add = lead_time + dd3 - run_plus_lead_dow\n",
        "  elif dd4 and run_plus_lead_dow <= dd4 :\n",
        "    days_to_add = lead_time + dd4 - run_plus_lead_dow\n",
        "  elif dd5 and run_plus_lead_dow <= dd5 :\n",
        "    days_to_add = lead_time + dd5 - run_plus_lead_dow\n",
        "  elif dd6 and run_plus_lead_dow <= dd6 :\n",
        "    days_to_add = lead_time + dd6 - run_plus_lead_dow\n",
        "  else :\n",
        "    ## probably next delivery date is next day1 of the week, one of edge case?\n",
        "    next_dd = min([d for d in [dd1, dd2, dd3, dd4, dd5, dd6] if d])\n",
        "    days_to_add = lead_time + next_dd + 7  - run_plus_lead_dow\n",
        "  return start_date + timedelta(days_to_add)\n"
      ],
      "execution_count": null,
      "outputs": []
    },
    {
      "cell_type": "code",
      "metadata": {
        "id": "4hUL2sv526cB"
      },
      "source": [
        ""
      ],
      "execution_count": null,
      "outputs": []
    },
    {
      "cell_type": "code",
      "metadata": {
        "colab": {
          "base_uri": "https://localhost:8080/",
          "height": 204
        },
        "id": "hjtez9n926Zj",
        "outputId": "87758efa-d0e2-46ac-ecbb-c952812dde93"
      },
      "source": [
        "schedules[\"next_delivery_date\"] = schedules.apply(lambda row : calculate_next_delivery_date(run_date, row['delivery_mon'], row['delivery_tue'], row['delivery_wed'], row['delivery_thu'], row['delivery_fri'], row['delivery_sat'],  row[\"lead_time\"] ), axis = 1)\n",
        "schedules[\"subsequent_delivery_date\"] = schedules.apply(lambda row : calculate_next_delivery_date(row['next_delivery_date'], row['delivery_mon'], row['delivery_tue'], row['delivery_wed'], row['delivery_thu'], row['delivery_fri'], row['delivery_sat'],  row[\"lead_time\"] ), axis = 1)\n",
        "\n",
        "schedules.head()"
      ],
      "execution_count": null,
      "outputs": [
        {
          "output_type": "execute_result",
          "data": {
            "text/html": [
              "<div>\n",
              "<style scoped>\n",
              "    .dataframe tbody tr th:only-of-type {\n",
              "        vertical-align: middle;\n",
              "    }\n",
              "\n",
              "    .dataframe tbody tr th {\n",
              "        vertical-align: top;\n",
              "    }\n",
              "\n",
              "    .dataframe thead th {\n",
              "        text-align: right;\n",
              "    }\n",
              "</style>\n",
              "<table border=\"1\" class=\"dataframe\">\n",
              "  <thead>\n",
              "    <tr style=\"text-align: right;\">\n",
              "      <th></th>\n",
              "      <th>global_entity_id</th>\n",
              "      <th>country_code</th>\n",
              "      <th>supplier_id</th>\n",
              "      <th>supplier_name</th>\n",
              "      <th>warehouse_id</th>\n",
              "      <th>lead_time</th>\n",
              "      <th>max_stock_days</th>\n",
              "      <th>delivery_mon</th>\n",
              "      <th>delivery_tue</th>\n",
              "      <th>delivery_wed</th>\n",
              "      <th>delivery_thu</th>\n",
              "      <th>delivery_fri</th>\n",
              "      <th>delivery_sat</th>\n",
              "      <th>next_delivery_date</th>\n",
              "      <th>subsequent_delivery_date</th>\n",
              "    </tr>\n",
              "  </thead>\n",
              "  <tbody>\n",
              "    <tr>\n",
              "      <th>0</th>\n",
              "      <td>OP_SE</td>\n",
              "      <td>se</td>\n",
              "      <td>5</td>\n",
              "      <td>Unilever</td>\n",
              "      <td>87d47f17-25cc-4e89-9bbc-3df289eba49d</td>\n",
              "      <td>7</td>\n",
              "      <td>9</td>\n",
              "      <td>None</td>\n",
              "      <td>None</td>\n",
              "      <td>True</td>\n",
              "      <td>None</td>\n",
              "      <td>None</td>\n",
              "      <td>None</td>\n",
              "      <td>2021-11-03 12:30:24.336803</td>\n",
              "      <td>2021-11-10 12:30:24.336803</td>\n",
              "    </tr>\n",
              "    <tr>\n",
              "      <th>1</th>\n",
              "      <td>OP_SE</td>\n",
              "      <td>se</td>\n",
              "      <td>6</td>\n",
              "      <td>Djurgårds Glace</td>\n",
              "      <td>87d47f17-25cc-4e89-9bbc-3df289eba49d</td>\n",
              "      <td>7</td>\n",
              "      <td>9</td>\n",
              "      <td>None</td>\n",
              "      <td>None</td>\n",
              "      <td>True</td>\n",
              "      <td>None</td>\n",
              "      <td>None</td>\n",
              "      <td>None</td>\n",
              "      <td>2021-11-03 12:30:24.336803</td>\n",
              "      <td>2021-11-10 12:30:24.336803</td>\n",
              "    </tr>\n",
              "    <tr>\n",
              "      <th>2</th>\n",
              "      <td>OP_SE</td>\n",
              "      <td>se</td>\n",
              "      <td>7</td>\n",
              "      <td>Bergendahl</td>\n",
              "      <td>87d47f17-25cc-4e89-9bbc-3df289eba49d</td>\n",
              "      <td>2</td>\n",
              "      <td>9</td>\n",
              "      <td>True</td>\n",
              "      <td>None</td>\n",
              "      <td>True</td>\n",
              "      <td>None</td>\n",
              "      <td>True</td>\n",
              "      <td>None</td>\n",
              "      <td>2021-10-25 12:30:24.336803</td>\n",
              "      <td>2021-10-27 12:30:24.336803</td>\n",
              "    </tr>\n",
              "    <tr>\n",
              "      <th>3</th>\n",
              "      <td>OP_SE</td>\n",
              "      <td>se</td>\n",
              "      <td>9</td>\n",
              "      <td>Arla</td>\n",
              "      <td>87d47f17-25cc-4e89-9bbc-3df289eba49d</td>\n",
              "      <td>2</td>\n",
              "      <td>6</td>\n",
              "      <td>None</td>\n",
              "      <td>True</td>\n",
              "      <td>None</td>\n",
              "      <td>True</td>\n",
              "      <td>None</td>\n",
              "      <td>True</td>\n",
              "      <td>2021-10-23 12:30:24.336803</td>\n",
              "      <td>2021-10-26 12:30:24.336803</td>\n",
              "    </tr>\n",
              "    <tr>\n",
              "      <th>4</th>\n",
              "      <td>OP_SE</td>\n",
              "      <td>se</td>\n",
              "      <td>12</td>\n",
              "      <td>Vitamin Well</td>\n",
              "      <td>87d47f17-25cc-4e89-9bbc-3df289eba49d</td>\n",
              "      <td>7</td>\n",
              "      <td>9</td>\n",
              "      <td>None</td>\n",
              "      <td>None</td>\n",
              "      <td>True</td>\n",
              "      <td>None</td>\n",
              "      <td>None</td>\n",
              "      <td>None</td>\n",
              "      <td>2021-11-03 12:30:24.336803</td>\n",
              "      <td>2021-11-10 12:30:24.336803</td>\n",
              "    </tr>\n",
              "  </tbody>\n",
              "</table>\n",
              "</div>"
            ],
            "text/plain": [
              "  global_entity_id  ...   subsequent_delivery_date\n",
              "0            OP_SE  ... 2021-11-10 12:30:24.336803\n",
              "1            OP_SE  ... 2021-11-10 12:30:24.336803\n",
              "2            OP_SE  ... 2021-10-27 12:30:24.336803\n",
              "3            OP_SE  ... 2021-10-26 12:30:24.336803\n",
              "4            OP_SE  ... 2021-11-10 12:30:24.336803\n",
              "\n",
              "[5 rows x 15 columns]"
            ]
          },
          "metadata": {},
          "execution_count": 468
        }
      ]
    },
    {
      "cell_type": "code",
      "metadata": {
        "id": "p4vxRfyZ26Ub"
      },
      "source": [
        ""
      ],
      "execution_count": null,
      "outputs": []
    },
    {
      "cell_type": "code",
      "metadata": {
        "id": "3TTBAK6326Ei"
      },
      "source": [
        ""
      ],
      "execution_count": null,
      "outputs": []
    },
    {
      "cell_type": "code",
      "metadata": {
        "id": "jmsdP79_lZI8",
        "colab": {
          "base_uri": "https://localhost:8080/",
          "height": 204
        },
        "outputId": "da3fc1fa-5623-4611-aee2-73cd598dbbb9"
      },
      "source": [
        "#  calculate_days_until_next_delivery \n",
        "\n",
        "schedules[\"days_until_next_delivery\"] = schedules.apply(lambda row: (row['next_delivery_date'] - run_date).days , axis=1 )\n",
        "\n",
        "schedules.head()"
      ],
      "execution_count": null,
      "outputs": [
        {
          "output_type": "execute_result",
          "data": {
            "text/html": [
              "<div>\n",
              "<style scoped>\n",
              "    .dataframe tbody tr th:only-of-type {\n",
              "        vertical-align: middle;\n",
              "    }\n",
              "\n",
              "    .dataframe tbody tr th {\n",
              "        vertical-align: top;\n",
              "    }\n",
              "\n",
              "    .dataframe thead th {\n",
              "        text-align: right;\n",
              "    }\n",
              "</style>\n",
              "<table border=\"1\" class=\"dataframe\">\n",
              "  <thead>\n",
              "    <tr style=\"text-align: right;\">\n",
              "      <th></th>\n",
              "      <th>global_entity_id</th>\n",
              "      <th>country_code</th>\n",
              "      <th>supplier_id</th>\n",
              "      <th>supplier_name</th>\n",
              "      <th>warehouse_id</th>\n",
              "      <th>lead_time</th>\n",
              "      <th>max_stock_days</th>\n",
              "      <th>delivery_mon</th>\n",
              "      <th>delivery_tue</th>\n",
              "      <th>delivery_wed</th>\n",
              "      <th>delivery_thu</th>\n",
              "      <th>delivery_fri</th>\n",
              "      <th>delivery_sat</th>\n",
              "      <th>next_delivery_date</th>\n",
              "      <th>subsequent_delivery_date</th>\n",
              "      <th>days_until_next_delivery</th>\n",
              "    </tr>\n",
              "  </thead>\n",
              "  <tbody>\n",
              "    <tr>\n",
              "      <th>0</th>\n",
              "      <td>OP_SE</td>\n",
              "      <td>se</td>\n",
              "      <td>5</td>\n",
              "      <td>Unilever</td>\n",
              "      <td>87d47f17-25cc-4e89-9bbc-3df289eba49d</td>\n",
              "      <td>7</td>\n",
              "      <td>9</td>\n",
              "      <td>None</td>\n",
              "      <td>None</td>\n",
              "      <td>True</td>\n",
              "      <td>None</td>\n",
              "      <td>None</td>\n",
              "      <td>None</td>\n",
              "      <td>2021-11-03 12:30:24.336803</td>\n",
              "      <td>2021-11-10 12:30:24.336803</td>\n",
              "      <td>13</td>\n",
              "    </tr>\n",
              "    <tr>\n",
              "      <th>1</th>\n",
              "      <td>OP_SE</td>\n",
              "      <td>se</td>\n",
              "      <td>6</td>\n",
              "      <td>Djurgårds Glace</td>\n",
              "      <td>87d47f17-25cc-4e89-9bbc-3df289eba49d</td>\n",
              "      <td>7</td>\n",
              "      <td>9</td>\n",
              "      <td>None</td>\n",
              "      <td>None</td>\n",
              "      <td>True</td>\n",
              "      <td>None</td>\n",
              "      <td>None</td>\n",
              "      <td>None</td>\n",
              "      <td>2021-11-03 12:30:24.336803</td>\n",
              "      <td>2021-11-10 12:30:24.336803</td>\n",
              "      <td>13</td>\n",
              "    </tr>\n",
              "    <tr>\n",
              "      <th>2</th>\n",
              "      <td>OP_SE</td>\n",
              "      <td>se</td>\n",
              "      <td>7</td>\n",
              "      <td>Bergendahl</td>\n",
              "      <td>87d47f17-25cc-4e89-9bbc-3df289eba49d</td>\n",
              "      <td>2</td>\n",
              "      <td>9</td>\n",
              "      <td>True</td>\n",
              "      <td>None</td>\n",
              "      <td>True</td>\n",
              "      <td>None</td>\n",
              "      <td>True</td>\n",
              "      <td>None</td>\n",
              "      <td>2021-10-25 12:30:24.336803</td>\n",
              "      <td>2021-10-27 12:30:24.336803</td>\n",
              "      <td>4</td>\n",
              "    </tr>\n",
              "    <tr>\n",
              "      <th>3</th>\n",
              "      <td>OP_SE</td>\n",
              "      <td>se</td>\n",
              "      <td>9</td>\n",
              "      <td>Arla</td>\n",
              "      <td>87d47f17-25cc-4e89-9bbc-3df289eba49d</td>\n",
              "      <td>2</td>\n",
              "      <td>6</td>\n",
              "      <td>None</td>\n",
              "      <td>True</td>\n",
              "      <td>None</td>\n",
              "      <td>True</td>\n",
              "      <td>None</td>\n",
              "      <td>True</td>\n",
              "      <td>2021-10-23 12:30:24.336803</td>\n",
              "      <td>2021-10-26 12:30:24.336803</td>\n",
              "      <td>2</td>\n",
              "    </tr>\n",
              "    <tr>\n",
              "      <th>4</th>\n",
              "      <td>OP_SE</td>\n",
              "      <td>se</td>\n",
              "      <td>12</td>\n",
              "      <td>Vitamin Well</td>\n",
              "      <td>87d47f17-25cc-4e89-9bbc-3df289eba49d</td>\n",
              "      <td>7</td>\n",
              "      <td>9</td>\n",
              "      <td>None</td>\n",
              "      <td>None</td>\n",
              "      <td>True</td>\n",
              "      <td>None</td>\n",
              "      <td>None</td>\n",
              "      <td>None</td>\n",
              "      <td>2021-11-03 12:30:24.336803</td>\n",
              "      <td>2021-11-10 12:30:24.336803</td>\n",
              "      <td>13</td>\n",
              "    </tr>\n",
              "  </tbody>\n",
              "</table>\n",
              "</div>"
            ],
            "text/plain": [
              "  global_entity_id  ... days_until_next_delivery\n",
              "0            OP_SE  ...                       13\n",
              "1            OP_SE  ...                       13\n",
              "2            OP_SE  ...                        4\n",
              "3            OP_SE  ...                        2\n",
              "4            OP_SE  ...                       13\n",
              "\n",
              "[5 rows x 16 columns]"
            ]
          },
          "metadata": {},
          "execution_count": 469
        }
      ]
    },
    {
      "cell_type": "markdown",
      "metadata": {
        "id": "8Dika_TF1GmV"
      },
      "source": [
        "### Join data"
      ]
    },
    {
      "cell_type": "code",
      "metadata": {
        "id": "px-Fq3woZgOs"
      },
      "source": [
        "def join_schedules_to_products(products: DataFrame, schedules: DataFrame) -> DataFrame:\n",
        "  return products.merge(schedules, on=['country_code', 'supplier_id', 'warehouse_id'], how='left')\n",
        "\n",
        "# put in new df for now\n"
      ],
      "execution_count": null,
      "outputs": []
    },
    {
      "cell_type": "code",
      "metadata": {
        "id": "Qk46kNxErYyp"
      },
      "source": [
        ""
      ],
      "execution_count": null,
      "outputs": []
    },
    {
      "cell_type": "code",
      "metadata": {
        "id": "ceFG_VnNrYvg"
      },
      "source": [
        "products = join_schedules_to_products(product_config, schedules)"
      ],
      "execution_count": null,
      "outputs": []
    },
    {
      "cell_type": "code",
      "metadata": {
        "colab": {
          "base_uri": "https://localhost:8080/"
        },
        "id": "zyo1g_ZLrYs2",
        "outputId": "781654f9-6b9a-49a5-e8f4-5444c641f948"
      },
      "source": [
        "products.sku.unique().shape"
      ],
      "execution_count": null,
      "outputs": [
        {
          "output_type": "execute_result",
          "data": {
            "text/plain": [
              "(2215,)"
            ]
          },
          "metadata": {},
          "execution_count": 472
        }
      ]
    },
    {
      "cell_type": "code",
      "metadata": {
        "id": "JFnA8d4YreSr",
        "colab": {
          "base_uri": "https://localhost:8080/"
        },
        "outputId": "18b74f51-f44c-44a2-b81b-f0abaf6e316a"
      },
      "source": [
        "products.sku.unique().shape"
      ],
      "execution_count": null,
      "outputs": [
        {
          "output_type": "execute_result",
          "data": {
            "text/plain": [
              "(2215,)"
            ]
          },
          "metadata": {},
          "execution_count": 473
        }
      ]
    },
    {
      "cell_type": "code",
      "metadata": {
        "id": "wLUHNqkJreQQ"
      },
      "source": [
        ""
      ],
      "execution_count": null,
      "outputs": []
    },
    {
      "cell_type": "code",
      "metadata": {
        "id": "6Mr-2mTXreNu"
      },
      "source": [
        ""
      ],
      "execution_count": null,
      "outputs": []
    },
    {
      "cell_type": "code",
      "metadata": {
        "id": "l5-BUGCJsUYn",
        "colab": {
          "base_uri": "https://localhost:8080/",
          "height": 411
        },
        "outputId": "03149c71-aae5-4be2-ff95-27be1e9f93db"
      },
      "source": [
        "products.head()"
      ],
      "execution_count": null,
      "outputs": [
        {
          "output_type": "execute_result",
          "data": {
            "text/html": [
              "<div>\n",
              "<style scoped>\n",
              "    .dataframe tbody tr th:only-of-type {\n",
              "        vertical-align: middle;\n",
              "    }\n",
              "\n",
              "    .dataframe tbody tr th {\n",
              "        vertical-align: top;\n",
              "    }\n",
              "\n",
              "    .dataframe thead th {\n",
              "        text-align: right;\n",
              "    }\n",
              "</style>\n",
              "<table border=\"1\" class=\"dataframe\">\n",
              "  <thead>\n",
              "    <tr style=\"text-align: right;\">\n",
              "      <th></th>\n",
              "      <th>country_code</th>\n",
              "      <th>sku</th>\n",
              "      <th>product_name</th>\n",
              "      <th>barcode</th>\n",
              "      <th>store</th>\n",
              "      <th>warehouse_id</th>\n",
              "      <th>is_active</th>\n",
              "      <th>supplier_id</th>\n",
              "      <th>min_qty</th>\n",
              "      <th>preference</th>\n",
              "      <th>trade_cost_lp</th>\n",
              "      <th>latest_delivery_date</th>\n",
              "      <th>last_po_order_qty</th>\n",
              "      <th>last_po_delivered_qty</th>\n",
              "      <th>last_po_fill_rate</th>\n",
              "      <th>days_to_expiration</th>\n",
              "      <th>expiration_date</th>\n",
              "      <th>sales_buffer</th>\n",
              "      <th>stock_on_hand</th>\n",
              "      <th>on_hand_stock_date</th>\n",
              "      <th>stock_in_transit</th>\n",
              "      <th>in_transit_stock_date</th>\n",
              "      <th>on_hand_minus_transfer_req</th>\n",
              "      <th>transfer_stock</th>\n",
              "      <th>availability</th>\n",
              "      <th>units_sold</th>\n",
              "      <th>units_sold_7d</th>\n",
              "      <th>avg_units_sold</th>\n",
              "      <th>wh_sku</th>\n",
              "      <th>global_entity_id</th>\n",
              "      <th>supplier_name</th>\n",
              "      <th>lead_time</th>\n",
              "      <th>max_stock_days</th>\n",
              "      <th>delivery_mon</th>\n",
              "      <th>delivery_tue</th>\n",
              "      <th>delivery_wed</th>\n",
              "      <th>delivery_thu</th>\n",
              "      <th>delivery_fri</th>\n",
              "      <th>delivery_sat</th>\n",
              "      <th>next_delivery_date</th>\n",
              "      <th>subsequent_delivery_date</th>\n",
              "      <th>days_until_next_delivery</th>\n",
              "    </tr>\n",
              "  </thead>\n",
              "  <tbody>\n",
              "    <tr>\n",
              "      <th>0</th>\n",
              "      <td>se</td>\n",
              "      <td>8930FB</td>\n",
              "      <td>Findus nFine fillets of cod MSC 375g</td>\n",
              "      <td>7310500184302</td>\n",
              "      <td>foodora market Östermalm</td>\n",
              "      <td>87d47f17-25cc-4e89-9bbc-3df289eba49d</td>\n",
              "      <td>True</td>\n",
              "      <td>7</td>\n",
              "      <td>11.0</td>\n",
              "      <td>1.0</td>\n",
              "      <td>4818.0</td>\n",
              "      <td>2021-10-06</td>\n",
              "      <td>11.0</td>\n",
              "      <td>11.0</td>\n",
              "      <td>1.0</td>\n",
              "      <td>452.0</td>\n",
              "      <td>2021-10-21</td>\n",
              "      <td>0</td>\n",
              "      <td>3</td>\n",
              "      <td>2021-10-20 09:19:39.465032</td>\n",
              "      <td>0</td>\n",
              "      <td>NaT</td>\n",
              "      <td>3</td>\n",
              "      <td>0</td>\n",
              "      <td>1.00</td>\n",
              "      <td>15</td>\n",
              "      <td>3</td>\n",
              "      <td>0.3261</td>\n",
              "      <td>87d47f17-25cc-4e89-9bbc-3df289eba49d_8930FB</td>\n",
              "      <td>OP_SE</td>\n",
              "      <td>Bergendahl</td>\n",
              "      <td>2</td>\n",
              "      <td>9</td>\n",
              "      <td>True</td>\n",
              "      <td>None</td>\n",
              "      <td>True</td>\n",
              "      <td>None</td>\n",
              "      <td>True</td>\n",
              "      <td>None</td>\n",
              "      <td>2021-10-25 12:30:24.336803</td>\n",
              "      <td>2021-10-27 12:30:24.336803</td>\n",
              "      <td>4</td>\n",
              "    </tr>\n",
              "    <tr>\n",
              "      <th>1</th>\n",
              "      <td>se</td>\n",
              "      <td>YJJI4O</td>\n",
              "      <td>Greendeli Yoghurt Granola honung  210g</td>\n",
              "      <td>7350035639656</td>\n",
              "      <td>foodora market Östermalm</td>\n",
              "      <td>87d47f17-25cc-4e89-9bbc-3df289eba49d</td>\n",
              "      <td>True</td>\n",
              "      <td>34</td>\n",
              "      <td>1.0</td>\n",
              "      <td>1.0</td>\n",
              "      <td>1912.0</td>\n",
              "      <td>2021-10-20</td>\n",
              "      <td>2.0</td>\n",
              "      <td>2.0</td>\n",
              "      <td>1.0</td>\n",
              "      <td>6.0</td>\n",
              "      <td>2021-10-21</td>\n",
              "      <td>0</td>\n",
              "      <td>2</td>\n",
              "      <td>2021-10-20 07:32:19.354187</td>\n",
              "      <td>4</td>\n",
              "      <td>2021-10-20 10:18:02.271336</td>\n",
              "      <td>2</td>\n",
              "      <td>0</td>\n",
              "      <td>0.17</td>\n",
              "      <td>4</td>\n",
              "      <td>4</td>\n",
              "      <td>0.1081</td>\n",
              "      <td>87d47f17-25cc-4e89-9bbc-3df289eba49d_YJJI4O</td>\n",
              "      <td>OP_SE</td>\n",
              "      <td>Picadeli AB</td>\n",
              "      <td>7</td>\n",
              "      <td>9</td>\n",
              "      <td>None</td>\n",
              "      <td>None</td>\n",
              "      <td>None</td>\n",
              "      <td>True</td>\n",
              "      <td>None</td>\n",
              "      <td>None</td>\n",
              "      <td>2021-10-28 12:30:24.336803</td>\n",
              "      <td>2021-11-04 12:30:24.336803</td>\n",
              "      <td>7</td>\n",
              "    </tr>\n",
              "    <tr>\n",
              "      <th>2</th>\n",
              "      <td>se</td>\n",
              "      <td>L7CJE9</td>\n",
              "      <td>Ramlösa Citrus 330ml</td>\n",
              "      <td>7310070004765,7310070766083</td>\n",
              "      <td>foodora market Östermalm</td>\n",
              "      <td>87d47f17-25cc-4e89-9bbc-3df289eba49d</td>\n",
              "      <td>True</td>\n",
              "      <td>7</td>\n",
              "      <td>20.0</td>\n",
              "      <td>1.0</td>\n",
              "      <td>344.0</td>\n",
              "      <td>2021-10-20</td>\n",
              "      <td>400.0</td>\n",
              "      <td>400.0</td>\n",
              "      <td>1.0</td>\n",
              "      <td>272.0</td>\n",
              "      <td>2021-10-21</td>\n",
              "      <td>1</td>\n",
              "      <td>556</td>\n",
              "      <td>2021-10-20 10:44:32.101852</td>\n",
              "      <td>0</td>\n",
              "      <td>NaT</td>\n",
              "      <td>556</td>\n",
              "      <td>0</td>\n",
              "      <td>1.00</td>\n",
              "      <td>1028</td>\n",
              "      <td>252</td>\n",
              "      <td>5.064</td>\n",
              "      <td>87d47f17-25cc-4e89-9bbc-3df289eba49d_L7CJE9</td>\n",
              "      <td>OP_SE</td>\n",
              "      <td>Bergendahl</td>\n",
              "      <td>2</td>\n",
              "      <td>9</td>\n",
              "      <td>True</td>\n",
              "      <td>None</td>\n",
              "      <td>True</td>\n",
              "      <td>None</td>\n",
              "      <td>True</td>\n",
              "      <td>None</td>\n",
              "      <td>2021-10-25 12:30:24.336803</td>\n",
              "      <td>2021-10-27 12:30:24.336803</td>\n",
              "      <td>4</td>\n",
              "    </tr>\n",
              "    <tr>\n",
              "      <th>3</th>\n",
              "      <td>se</td>\n",
              "      <td>802VFE</td>\n",
              "      <td>Remi Mint Cookie 100g</td>\n",
              "      <td>7310525701416</td>\n",
              "      <td>foodora market Östermalm</td>\n",
              "      <td>87d47f17-25cc-4e89-9bbc-3df289eba49d</td>\n",
              "      <td>True</td>\n",
              "      <td>7</td>\n",
              "      <td>22.0</td>\n",
              "      <td>1.0</td>\n",
              "      <td>1633.0</td>\n",
              "      <td>2021-07-12</td>\n",
              "      <td>22.0</td>\n",
              "      <td>22.0</td>\n",
              "      <td>1.0</td>\n",
              "      <td>297.0</td>\n",
              "      <td>2021-10-21</td>\n",
              "      <td>0</td>\n",
              "      <td>17</td>\n",
              "      <td>2021-10-18 17:22:11.355841</td>\n",
              "      <td>0</td>\n",
              "      <td>NaT</td>\n",
              "      <td>17</td>\n",
              "      <td>0</td>\n",
              "      <td>1.00</td>\n",
              "      <td>7</td>\n",
              "      <td>1</td>\n",
              "      <td>0.0833</td>\n",
              "      <td>87d47f17-25cc-4e89-9bbc-3df289eba49d_802VFE</td>\n",
              "      <td>OP_SE</td>\n",
              "      <td>Bergendahl</td>\n",
              "      <td>2</td>\n",
              "      <td>9</td>\n",
              "      <td>True</td>\n",
              "      <td>None</td>\n",
              "      <td>True</td>\n",
              "      <td>None</td>\n",
              "      <td>True</td>\n",
              "      <td>None</td>\n",
              "      <td>2021-10-25 12:30:24.336803</td>\n",
              "      <td>2021-10-27 12:30:24.336803</td>\n",
              "      <td>4</td>\n",
              "    </tr>\n",
              "    <tr>\n",
              "      <th>4</th>\n",
              "      <td>se</td>\n",
              "      <td>B12YH6</td>\n",
              "      <td>Toms Salta Hallon Stång 29 g</td>\n",
              "      <td>5774540465401</td>\n",
              "      <td>foodora market Östermalm</td>\n",
              "      <td>87d47f17-25cc-4e89-9bbc-3df289eba49d</td>\n",
              "      <td>True</td>\n",
              "      <td>7</td>\n",
              "      <td>55.0</td>\n",
              "      <td>1.0</td>\n",
              "      <td>212.0</td>\n",
              "      <td>2021-10-08</td>\n",
              "      <td>55.0</td>\n",
              "      <td>55.0</td>\n",
              "      <td>1.0</td>\n",
              "      <td>524.0</td>\n",
              "      <td>2021-10-21</td>\n",
              "      <td>1</td>\n",
              "      <td>37</td>\n",
              "      <td>2021-10-20 20:15:13.289378</td>\n",
              "      <td>0</td>\n",
              "      <td>NaT</td>\n",
              "      <td>37</td>\n",
              "      <td>0</td>\n",
              "      <td>1.00</td>\n",
              "      <td>67</td>\n",
              "      <td>16</td>\n",
              "      <td>0.3941</td>\n",
              "      <td>87d47f17-25cc-4e89-9bbc-3df289eba49d_B12YH6</td>\n",
              "      <td>OP_SE</td>\n",
              "      <td>Bergendahl</td>\n",
              "      <td>2</td>\n",
              "      <td>9</td>\n",
              "      <td>True</td>\n",
              "      <td>None</td>\n",
              "      <td>True</td>\n",
              "      <td>None</td>\n",
              "      <td>True</td>\n",
              "      <td>None</td>\n",
              "      <td>2021-10-25 12:30:24.336803</td>\n",
              "      <td>2021-10-27 12:30:24.336803</td>\n",
              "      <td>4</td>\n",
              "    </tr>\n",
              "  </tbody>\n",
              "</table>\n",
              "</div>"
            ],
            "text/plain": [
              "  country_code     sku  ...   subsequent_delivery_date days_until_next_delivery\n",
              "0           se  8930FB  ... 2021-10-27 12:30:24.336803                        4\n",
              "1           se  YJJI4O  ... 2021-11-04 12:30:24.336803                        7\n",
              "2           se  L7CJE9  ... 2021-10-27 12:30:24.336803                        4\n",
              "3           se  802VFE  ... 2021-10-27 12:30:24.336803                        4\n",
              "4           se  B12YH6  ... 2021-10-27 12:30:24.336803                        4\n",
              "\n",
              "[5 rows x 42 columns]"
            ]
          },
          "metadata": {},
          "execution_count": 474
        }
      ]
    },
    {
      "cell_type": "code",
      "metadata": {
        "id": "pC1TnJK5Y7nt"
      },
      "source": [
        ""
      ],
      "execution_count": null,
      "outputs": []
    },
    {
      "cell_type": "code",
      "metadata": {
        "id": "oN-DzIGuv8QR",
        "colab": {
          "base_uri": "https://localhost:8080/"
        },
        "outputId": "dcf6760f-5682-418b-b402-56e3504306a1"
      },
      "source": [
        "len(products)"
      ],
      "execution_count": null,
      "outputs": [
        {
          "output_type": "execute_result",
          "data": {
            "text/plain": [
              "2215"
            ]
          },
          "metadata": {},
          "execution_count": 475
        }
      ]
    },
    {
      "cell_type": "code",
      "metadata": {
        "id": "X7ymF3essc33",
        "colab": {
          "base_uri": "https://localhost:8080/",
          "height": 204
        },
        "outputId": "df105331-a551-42d0-e9e8-c14b6f24eabb"
      },
      "source": [
        "future_forecast.head()"
      ],
      "execution_count": null,
      "outputs": [
        {
          "output_type": "execute_result",
          "data": {
            "text/html": [
              "<div>\n",
              "<style scoped>\n",
              "    .dataframe tbody tr th:only-of-type {\n",
              "        vertical-align: middle;\n",
              "    }\n",
              "\n",
              "    .dataframe tbody tr th {\n",
              "        vertical-align: top;\n",
              "    }\n",
              "\n",
              "    .dataframe thead th {\n",
              "        text-align: right;\n",
              "    }\n",
              "</style>\n",
              "<table border=\"1\" class=\"dataframe\">\n",
              "  <thead>\n",
              "    <tr style=\"text-align: right;\">\n",
              "      <th></th>\n",
              "      <th>warehouse_id</th>\n",
              "      <th>sku</th>\n",
              "      <th>order_date</th>\n",
              "      <th>lookahead_from_today</th>\n",
              "      <th>pred_units</th>\n",
              "      <th>cumulative_future_preds</th>\n",
              "      <th>units_sold</th>\n",
              "    </tr>\n",
              "  </thead>\n",
              "  <tbody>\n",
              "    <tr>\n",
              "      <th>0</th>\n",
              "      <td>ed854716-a56c-430f-8724-2dd2f76de7be</td>\n",
              "      <td>67XD0Q</td>\n",
              "      <td>2021-11-13</td>\n",
              "      <td>23</td>\n",
              "      <td>0.014522</td>\n",
              "      <td>0.814446</td>\n",
              "      <td>0</td>\n",
              "    </tr>\n",
              "    <tr>\n",
              "      <th>1</th>\n",
              "      <td>261ffeed-c5bc-4965-b142-1d593ab5e9c2</td>\n",
              "      <td>53M72M</td>\n",
              "      <td>2021-11-13</td>\n",
              "      <td>23</td>\n",
              "      <td>9.496146</td>\n",
              "      <td>139.224345</td>\n",
              "      <td>0</td>\n",
              "    </tr>\n",
              "    <tr>\n",
              "      <th>2</th>\n",
              "      <td>60b7f9b8-a2f5-4bea-93b1-c2c51fb98ce9</td>\n",
              "      <td>B24M3E</td>\n",
              "      <td>2021-11-13</td>\n",
              "      <td>23</td>\n",
              "      <td>0.205465</td>\n",
              "      <td>4.241573</td>\n",
              "      <td>0</td>\n",
              "    </tr>\n",
              "    <tr>\n",
              "      <th>3</th>\n",
              "      <td>dcbb7a88-5ee3-4766-bf96-63dc4b6636a9</td>\n",
              "      <td>517HKT</td>\n",
              "      <td>2021-11-13</td>\n",
              "      <td>23</td>\n",
              "      <td>0.063181</td>\n",
              "      <td>1.316398</td>\n",
              "      <td>0</td>\n",
              "    </tr>\n",
              "    <tr>\n",
              "      <th>4</th>\n",
              "      <td>fbc7ab43-d6dd-48ec-a19b-08e3605ea37f</td>\n",
              "      <td>F67F94</td>\n",
              "      <td>2021-11-13</td>\n",
              "      <td>23</td>\n",
              "      <td>0.049893</td>\n",
              "      <td>1.143068</td>\n",
              "      <td>0</td>\n",
              "    </tr>\n",
              "  </tbody>\n",
              "</table>\n",
              "</div>"
            ],
            "text/plain": [
              "                           warehouse_id  ... units_sold\n",
              "0  ed854716-a56c-430f-8724-2dd2f76de7be  ...          0\n",
              "1  261ffeed-c5bc-4965-b142-1d593ab5e9c2  ...          0\n",
              "2  60b7f9b8-a2f5-4bea-93b1-c2c51fb98ce9  ...          0\n",
              "3  dcbb7a88-5ee3-4766-bf96-63dc4b6636a9  ...          0\n",
              "4  fbc7ab43-d6dd-48ec-a19b-08e3605ea37f  ...          0\n",
              "\n",
              "[5 rows x 7 columns]"
            ]
          },
          "metadata": {},
          "execution_count": 476
        }
      ]
    },
    {
      "cell_type": "code",
      "metadata": {
        "id": "cJlX1frVZpuP"
      },
      "source": [
        "#TODO join forecast and aggregate per product based on lead time (demand until delivery, demand until next delivery, sellout date)\n",
        "\n",
        "def calculate_agg_forecast(products: DataFrame, forecast: DataFrame, agg_days_series: str = 'lead_time') -> DataFrame:\n",
        "  \"\"\" This method calculates the aggregated forecast amount for a period of days into the future,\n",
        "   based on the integer value in the agg_days_series\" column\n",
        "  \n",
        "  \"\"\"\n",
        "  products = products.merge(forecast[['warehouse_id', 'sku', 'lookahead_from_today', 'cumulative_future_preds']],\n",
        "                            how='left',\n",
        "                            left_on=['warehouse_id', 'sku', agg_days_series],\n",
        "                            right_on=['warehouse_id', 'sku', 'lookahead_from_today'])\n",
        "  \n",
        "  products = products.drop(columns=['lookahead_from_today'])\n",
        "  products = products.rename(columns={'cumulative_future_preds': 'forecast_aggregated_' + agg_days_series})\n",
        "\n",
        "  return products\n",
        "\n",
        "# calculate_sales_until_next_delivery\n",
        "  # consider above method - (e.g. cumulative FC values for 9 days)\n",
        "  # returns agg'd sales for above integer of days\n"
      ],
      "execution_count": null,
      "outputs": []
    },
    {
      "cell_type": "code",
      "metadata": {
        "id": "tBABHgE5Y22C"
      },
      "source": [
        ""
      ],
      "execution_count": null,
      "outputs": []
    },
    {
      "cell_type": "code",
      "metadata": {
        "id": "274fZeSNY20O"
      },
      "source": [
        "products = calculate_agg_forecast(products, future_forecast, \"days_until_next_delivery\" )"
      ],
      "execution_count": null,
      "outputs": []
    },
    {
      "cell_type": "code",
      "metadata": {
        "colab": {
          "base_uri": "https://localhost:8080/"
        },
        "id": "uxe62IOnrr4I",
        "outputId": "d9dbfba5-7fda-4962-88c0-51ea8d4428dc"
      },
      "source": [
        "products.shape"
      ],
      "execution_count": null,
      "outputs": [
        {
          "output_type": "execute_result",
          "data": {
            "text/plain": [
              "(2215, 43)"
            ]
          },
          "metadata": {},
          "execution_count": 479
        }
      ]
    },
    {
      "cell_type": "code",
      "metadata": {
        "colab": {
          "base_uri": "https://localhost:8080/"
        },
        "id": "ht1PLtEsrr11",
        "outputId": "268d2140-98c7-476d-c1f3-a8f70f075eee"
      },
      "source": [
        "products.sku.unique().shape"
      ],
      "execution_count": null,
      "outputs": [
        {
          "output_type": "execute_result",
          "data": {
            "text/plain": [
              "(2215,)"
            ]
          },
          "metadata": {},
          "execution_count": 480
        }
      ]
    },
    {
      "cell_type": "code",
      "metadata": {
        "id": "O0PS2KGorrzM"
      },
      "source": [
        ""
      ],
      "execution_count": null,
      "outputs": []
    },
    {
      "cell_type": "code",
      "metadata": {
        "id": "lKEyO1gUY2x3"
      },
      "source": [
        ""
      ],
      "execution_count": null,
      "outputs": []
    },
    {
      "cell_type": "code",
      "metadata": {
        "id": "oYXTXWWu2RBj"
      },
      "source": [
        "# TODO we need use the above method to calculate:\n",
        "# - sales until next delivery\n",
        "# - cycle sales until subsequent delivery\n",
        "# - sellout date (take stock OH + in transit and find at which point our cumulative demand is higher?)\n",
        "\n",
        "# Cycle Sales i.e Sales from delivery date to ( delivery date + max_stock_days )\n",
        "def calculate_cycle_sales(products: DataFrame):\n",
        "  products[\"delivery_day_plus_stock_days\"] = products[\"days_until_next_delivery\"] + products[\"max_stock_days\"]\n",
        "  products = calculate_agg_forecast(products, future_forecast, \"delivery_day_plus_stock_days\" )\n",
        "  products[\"cycle_sales\"] = products[\"forecast_aggregated_delivery_day_plus_stock_days\"]-products[\"forecast_aggregated_days_until_next_delivery\"]\n",
        "  return products\n"
      ],
      "execution_count": null,
      "outputs": []
    },
    {
      "cell_type": "code",
      "metadata": {
        "id": "LZ-_vXO0YoiK"
      },
      "source": [
        ""
      ],
      "execution_count": null,
      "outputs": []
    },
    {
      "cell_type": "code",
      "metadata": {
        "id": "T7BEjbtsYogK"
      },
      "source": [
        "products = calculate_cycle_sales(products)\n"
      ],
      "execution_count": null,
      "outputs": []
    },
    {
      "cell_type": "code",
      "metadata": {
        "id": "DX3EIkeCYody"
      },
      "source": [
        ""
      ],
      "execution_count": null,
      "outputs": []
    },
    {
      "cell_type": "code",
      "metadata": {
        "id": "1EqqhhsiwqLz"
      },
      "source": [
        "\n",
        "def calculate_sellout_date(products: DataFrame, forecast: DataFrame):\n",
        "  # estimate date that current stock levels will reach zero (including on-order)\n",
        "  products[\"total_stocks_on_hand\"] = products[\"stock_in_transit\"] + products[\"stock_on_hand\"]\n",
        "  temp = products.merge(forecast[['warehouse_id', 'sku', 'lookahead_from_today', 'cumulative_future_preds']], how='left', on=['warehouse_id', 'sku'])\n",
        "\n",
        "  temp = temp[ (temp['cumulative_future_preds'] >= temp['total_stocks_on_hand']) & (temp['total_stocks_on_hand'] != 0) ].groupby(by=['sku', 'warehouse_id'], as_index = False)['lookahead_from_today'].min().reset_index()\n",
        "\n",
        "  products = products.merge(temp[['warehouse_id', 'sku',\"lookahead_from_today\"]], how='left', on=['warehouse_id', 'sku'])\n",
        "  products[\"sell_out_day\"] = products.apply(lambda r: run_date + timedelta(r[\"lookahead_from_today\"]) if pd.notnull(r[\"lookahead_from_today\"]) else np.nan , axis =1  )\n",
        "  products = products.drop(columns=['lookahead_from_today', 'total_stocks_on_hand'])\n",
        "  return products\n",
        "\n"
      ],
      "execution_count": null,
      "outputs": []
    },
    {
      "cell_type": "code",
      "metadata": {
        "id": "al9k0yPZYwD1"
      },
      "source": [
        ""
      ],
      "execution_count": null,
      "outputs": []
    },
    {
      "cell_type": "code",
      "metadata": {
        "colab": {
          "base_uri": "https://localhost:8080/",
          "height": 411
        },
        "id": "RZa_mx8sYxbV",
        "outputId": "3fc4c6a1-c2db-4f88-a335-3c85bace2320"
      },
      "source": [
        "products = calculate_sellout_date(products, forecast)\n",
        "products.head()"
      ],
      "execution_count": null,
      "outputs": [
        {
          "output_type": "execute_result",
          "data": {
            "text/html": [
              "<div>\n",
              "<style scoped>\n",
              "    .dataframe tbody tr th:only-of-type {\n",
              "        vertical-align: middle;\n",
              "    }\n",
              "\n",
              "    .dataframe tbody tr th {\n",
              "        vertical-align: top;\n",
              "    }\n",
              "\n",
              "    .dataframe thead th {\n",
              "        text-align: right;\n",
              "    }\n",
              "</style>\n",
              "<table border=\"1\" class=\"dataframe\">\n",
              "  <thead>\n",
              "    <tr style=\"text-align: right;\">\n",
              "      <th></th>\n",
              "      <th>country_code</th>\n",
              "      <th>sku</th>\n",
              "      <th>product_name</th>\n",
              "      <th>barcode</th>\n",
              "      <th>store</th>\n",
              "      <th>warehouse_id</th>\n",
              "      <th>is_active</th>\n",
              "      <th>supplier_id</th>\n",
              "      <th>min_qty</th>\n",
              "      <th>preference</th>\n",
              "      <th>trade_cost_lp</th>\n",
              "      <th>latest_delivery_date</th>\n",
              "      <th>last_po_order_qty</th>\n",
              "      <th>last_po_delivered_qty</th>\n",
              "      <th>last_po_fill_rate</th>\n",
              "      <th>days_to_expiration</th>\n",
              "      <th>expiration_date</th>\n",
              "      <th>sales_buffer</th>\n",
              "      <th>stock_on_hand</th>\n",
              "      <th>on_hand_stock_date</th>\n",
              "      <th>stock_in_transit</th>\n",
              "      <th>in_transit_stock_date</th>\n",
              "      <th>on_hand_minus_transfer_req</th>\n",
              "      <th>transfer_stock</th>\n",
              "      <th>availability</th>\n",
              "      <th>units_sold</th>\n",
              "      <th>units_sold_7d</th>\n",
              "      <th>avg_units_sold</th>\n",
              "      <th>wh_sku</th>\n",
              "      <th>global_entity_id</th>\n",
              "      <th>supplier_name</th>\n",
              "      <th>lead_time</th>\n",
              "      <th>max_stock_days</th>\n",
              "      <th>delivery_mon</th>\n",
              "      <th>delivery_tue</th>\n",
              "      <th>delivery_wed</th>\n",
              "      <th>delivery_thu</th>\n",
              "      <th>delivery_fri</th>\n",
              "      <th>delivery_sat</th>\n",
              "      <th>next_delivery_date</th>\n",
              "      <th>subsequent_delivery_date</th>\n",
              "      <th>days_until_next_delivery</th>\n",
              "      <th>forecast_aggregated_days_until_next_delivery</th>\n",
              "      <th>delivery_day_plus_stock_days</th>\n",
              "      <th>forecast_aggregated_delivery_day_plus_stock_days</th>\n",
              "      <th>cycle_sales</th>\n",
              "      <th>sell_out_day</th>\n",
              "    </tr>\n",
              "  </thead>\n",
              "  <tbody>\n",
              "    <tr>\n",
              "      <th>0</th>\n",
              "      <td>se</td>\n",
              "      <td>8930FB</td>\n",
              "      <td>Findus nFine fillets of cod MSC 375g</td>\n",
              "      <td>7310500184302</td>\n",
              "      <td>foodora market Östermalm</td>\n",
              "      <td>87d47f17-25cc-4e89-9bbc-3df289eba49d</td>\n",
              "      <td>True</td>\n",
              "      <td>7</td>\n",
              "      <td>11.0</td>\n",
              "      <td>1.0</td>\n",
              "      <td>4818.0</td>\n",
              "      <td>2021-10-06</td>\n",
              "      <td>11.0</td>\n",
              "      <td>11.0</td>\n",
              "      <td>1.0</td>\n",
              "      <td>452.0</td>\n",
              "      <td>2021-10-21</td>\n",
              "      <td>0</td>\n",
              "      <td>3</td>\n",
              "      <td>2021-10-20 09:19:39.465032</td>\n",
              "      <td>0</td>\n",
              "      <td>NaT</td>\n",
              "      <td>3</td>\n",
              "      <td>0</td>\n",
              "      <td>1.00</td>\n",
              "      <td>15</td>\n",
              "      <td>3</td>\n",
              "      <td>0.3261</td>\n",
              "      <td>87d47f17-25cc-4e89-9bbc-3df289eba49d_8930FB</td>\n",
              "      <td>OP_SE</td>\n",
              "      <td>Bergendahl</td>\n",
              "      <td>2</td>\n",
              "      <td>9</td>\n",
              "      <td>True</td>\n",
              "      <td>None</td>\n",
              "      <td>True</td>\n",
              "      <td>None</td>\n",
              "      <td>True</td>\n",
              "      <td>None</td>\n",
              "      <td>2021-10-25 12:30:24.336803</td>\n",
              "      <td>2021-10-27 12:30:24.336803</td>\n",
              "      <td>4</td>\n",
              "      <td>1.924690</td>\n",
              "      <td>13</td>\n",
              "      <td>5.659314</td>\n",
              "      <td>3.734624</td>\n",
              "      <td>2021-10-28 12:30:24.336803</td>\n",
              "    </tr>\n",
              "    <tr>\n",
              "      <th>1</th>\n",
              "      <td>se</td>\n",
              "      <td>YJJI4O</td>\n",
              "      <td>Greendeli Yoghurt Granola honung  210g</td>\n",
              "      <td>7350035639656</td>\n",
              "      <td>foodora market Östermalm</td>\n",
              "      <td>87d47f17-25cc-4e89-9bbc-3df289eba49d</td>\n",
              "      <td>True</td>\n",
              "      <td>34</td>\n",
              "      <td>1.0</td>\n",
              "      <td>1.0</td>\n",
              "      <td>1912.0</td>\n",
              "      <td>2021-10-20</td>\n",
              "      <td>2.0</td>\n",
              "      <td>2.0</td>\n",
              "      <td>1.0</td>\n",
              "      <td>6.0</td>\n",
              "      <td>2021-10-21</td>\n",
              "      <td>0</td>\n",
              "      <td>2</td>\n",
              "      <td>2021-10-20 07:32:19.354187</td>\n",
              "      <td>4</td>\n",
              "      <td>2021-10-20 10:18:02.271336</td>\n",
              "      <td>2</td>\n",
              "      <td>0</td>\n",
              "      <td>0.17</td>\n",
              "      <td>4</td>\n",
              "      <td>4</td>\n",
              "      <td>0.1081</td>\n",
              "      <td>87d47f17-25cc-4e89-9bbc-3df289eba49d_YJJI4O</td>\n",
              "      <td>OP_SE</td>\n",
              "      <td>Picadeli AB</td>\n",
              "      <td>7</td>\n",
              "      <td>9</td>\n",
              "      <td>None</td>\n",
              "      <td>None</td>\n",
              "      <td>None</td>\n",
              "      <td>True</td>\n",
              "      <td>None</td>\n",
              "      <td>None</td>\n",
              "      <td>2021-10-28 12:30:24.336803</td>\n",
              "      <td>2021-11-04 12:30:24.336803</td>\n",
              "      <td>7</td>\n",
              "      <td>3.036745</td>\n",
              "      <td>16</td>\n",
              "      <td>6.064600</td>\n",
              "      <td>3.027855</td>\n",
              "      <td>2021-11-06 12:30:24.336803</td>\n",
              "    </tr>\n",
              "    <tr>\n",
              "      <th>2</th>\n",
              "      <td>se</td>\n",
              "      <td>L7CJE9</td>\n",
              "      <td>Ramlösa Citrus 330ml</td>\n",
              "      <td>7310070004765,7310070766083</td>\n",
              "      <td>foodora market Östermalm</td>\n",
              "      <td>87d47f17-25cc-4e89-9bbc-3df289eba49d</td>\n",
              "      <td>True</td>\n",
              "      <td>7</td>\n",
              "      <td>20.0</td>\n",
              "      <td>1.0</td>\n",
              "      <td>344.0</td>\n",
              "      <td>2021-10-20</td>\n",
              "      <td>400.0</td>\n",
              "      <td>400.0</td>\n",
              "      <td>1.0</td>\n",
              "      <td>272.0</td>\n",
              "      <td>2021-10-21</td>\n",
              "      <td>1</td>\n",
              "      <td>556</td>\n",
              "      <td>2021-10-20 10:44:32.101852</td>\n",
              "      <td>0</td>\n",
              "      <td>NaT</td>\n",
              "      <td>556</td>\n",
              "      <td>0</td>\n",
              "      <td>1.00</td>\n",
              "      <td>1028</td>\n",
              "      <td>252</td>\n",
              "      <td>5.064</td>\n",
              "      <td>87d47f17-25cc-4e89-9bbc-3df289eba49d_L7CJE9</td>\n",
              "      <td>OP_SE</td>\n",
              "      <td>Bergendahl</td>\n",
              "      <td>2</td>\n",
              "      <td>9</td>\n",
              "      <td>True</td>\n",
              "      <td>None</td>\n",
              "      <td>True</td>\n",
              "      <td>None</td>\n",
              "      <td>True</td>\n",
              "      <td>None</td>\n",
              "      <td>2021-10-25 12:30:24.336803</td>\n",
              "      <td>2021-10-27 12:30:24.336803</td>\n",
              "      <td>4</td>\n",
              "      <td>16.217210</td>\n",
              "      <td>13</td>\n",
              "      <td>38.721631</td>\n",
              "      <td>22.504421</td>\n",
              "      <td>NaT</td>\n",
              "    </tr>\n",
              "    <tr>\n",
              "      <th>3</th>\n",
              "      <td>se</td>\n",
              "      <td>802VFE</td>\n",
              "      <td>Remi Mint Cookie 100g</td>\n",
              "      <td>7310525701416</td>\n",
              "      <td>foodora market Östermalm</td>\n",
              "      <td>87d47f17-25cc-4e89-9bbc-3df289eba49d</td>\n",
              "      <td>True</td>\n",
              "      <td>7</td>\n",
              "      <td>22.0</td>\n",
              "      <td>1.0</td>\n",
              "      <td>1633.0</td>\n",
              "      <td>2021-07-12</td>\n",
              "      <td>22.0</td>\n",
              "      <td>22.0</td>\n",
              "      <td>1.0</td>\n",
              "      <td>297.0</td>\n",
              "      <td>2021-10-21</td>\n",
              "      <td>0</td>\n",
              "      <td>17</td>\n",
              "      <td>2021-10-18 17:22:11.355841</td>\n",
              "      <td>0</td>\n",
              "      <td>NaT</td>\n",
              "      <td>17</td>\n",
              "      <td>0</td>\n",
              "      <td>1.00</td>\n",
              "      <td>7</td>\n",
              "      <td>1</td>\n",
              "      <td>0.0833</td>\n",
              "      <td>87d47f17-25cc-4e89-9bbc-3df289eba49d_802VFE</td>\n",
              "      <td>OP_SE</td>\n",
              "      <td>Bergendahl</td>\n",
              "      <td>2</td>\n",
              "      <td>9</td>\n",
              "      <td>True</td>\n",
              "      <td>None</td>\n",
              "      <td>True</td>\n",
              "      <td>None</td>\n",
              "      <td>True</td>\n",
              "      <td>None</td>\n",
              "      <td>2021-10-25 12:30:24.336803</td>\n",
              "      <td>2021-10-27 12:30:24.336803</td>\n",
              "      <td>4</td>\n",
              "      <td>1.034318</td>\n",
              "      <td>13</td>\n",
              "      <td>3.192781</td>\n",
              "      <td>2.158463</td>\n",
              "      <td>NaT</td>\n",
              "    </tr>\n",
              "    <tr>\n",
              "      <th>4</th>\n",
              "      <td>se</td>\n",
              "      <td>B12YH6</td>\n",
              "      <td>Toms Salta Hallon Stång 29 g</td>\n",
              "      <td>5774540465401</td>\n",
              "      <td>foodora market Östermalm</td>\n",
              "      <td>87d47f17-25cc-4e89-9bbc-3df289eba49d</td>\n",
              "      <td>True</td>\n",
              "      <td>7</td>\n",
              "      <td>55.0</td>\n",
              "      <td>1.0</td>\n",
              "      <td>212.0</td>\n",
              "      <td>2021-10-08</td>\n",
              "      <td>55.0</td>\n",
              "      <td>55.0</td>\n",
              "      <td>1.0</td>\n",
              "      <td>524.0</td>\n",
              "      <td>2021-10-21</td>\n",
              "      <td>1</td>\n",
              "      <td>37</td>\n",
              "      <td>2021-10-20 20:15:13.289378</td>\n",
              "      <td>0</td>\n",
              "      <td>NaT</td>\n",
              "      <td>37</td>\n",
              "      <td>0</td>\n",
              "      <td>1.00</td>\n",
              "      <td>67</td>\n",
              "      <td>16</td>\n",
              "      <td>0.3941</td>\n",
              "      <td>87d47f17-25cc-4e89-9bbc-3df289eba49d_B12YH6</td>\n",
              "      <td>OP_SE</td>\n",
              "      <td>Bergendahl</td>\n",
              "      <td>2</td>\n",
              "      <td>9</td>\n",
              "      <td>True</td>\n",
              "      <td>None</td>\n",
              "      <td>True</td>\n",
              "      <td>None</td>\n",
              "      <td>True</td>\n",
              "      <td>None</td>\n",
              "      <td>2021-10-25 12:30:24.336803</td>\n",
              "      <td>2021-10-27 12:30:24.336803</td>\n",
              "      <td>4</td>\n",
              "      <td>10.000000</td>\n",
              "      <td>13</td>\n",
              "      <td>28.000000</td>\n",
              "      <td>18.000000</td>\n",
              "      <td>2021-11-08 12:30:24.336803</td>\n",
              "    </tr>\n",
              "  </tbody>\n",
              "</table>\n",
              "</div>"
            ],
            "text/plain": [
              "  country_code     sku  ... cycle_sales               sell_out_day\n",
              "0           se  8930FB  ...    3.734624 2021-10-28 12:30:24.336803\n",
              "1           se  YJJI4O  ...    3.027855 2021-11-06 12:30:24.336803\n",
              "2           se  L7CJE9  ...   22.504421                        NaT\n",
              "3           se  802VFE  ...    2.158463                        NaT\n",
              "4           se  B12YH6  ...   18.000000 2021-11-08 12:30:24.336803\n",
              "\n",
              "[5 rows x 47 columns]"
            ]
          },
          "metadata": {},
          "execution_count": 484
        }
      ]
    },
    {
      "cell_type": "code",
      "metadata": {
        "id": "e5jX4jKqYwBk"
      },
      "source": [
        ""
      ],
      "execution_count": null,
      "outputs": []
    },
    {
      "cell_type": "code",
      "metadata": {
        "id": "7TSt5VSrZ2Oi"
      },
      "source": [
        "# as a result of above steps, we should have one dataframe with no duplicated data - one row per product\n",
        "# this dataframe should contain all forecast and delivery information to calculate safety stock and ROQ"
      ],
      "execution_count": null,
      "outputs": []
    },
    {
      "cell_type": "code",
      "metadata": {
        "colab": {
          "base_uri": "https://localhost:8080/"
        },
        "id": "xBwjnjDer6H7",
        "outputId": "611ccfde-86c1-4b97-a883-99aca9f63190"
      },
      "source": [
        "products.shape"
      ],
      "execution_count": null,
      "outputs": [
        {
          "output_type": "execute_result",
          "data": {
            "text/plain": [
              "(2215, 47)"
            ]
          },
          "metadata": {},
          "execution_count": 486
        }
      ]
    },
    {
      "cell_type": "code",
      "metadata": {
        "colab": {
          "base_uri": "https://localhost:8080/"
        },
        "id": "Yarliv1Dr6Fy",
        "outputId": "eae852e4-68d8-4475-fb4f-4c642522e9d3"
      },
      "source": [
        "products.sku.unique().shape"
      ],
      "execution_count": null,
      "outputs": [
        {
          "output_type": "execute_result",
          "data": {
            "text/plain": [
              "(2215,)"
            ]
          },
          "metadata": {},
          "execution_count": 487
        }
      ]
    },
    {
      "cell_type": "code",
      "metadata": {
        "id": "mmIyINtSr6DQ"
      },
      "source": [
        ""
      ],
      "execution_count": null,
      "outputs": []
    },
    {
      "cell_type": "code",
      "metadata": {
        "id": "GIGTqfLpr6Ak"
      },
      "source": [
        ""
      ],
      "execution_count": null,
      "outputs": []
    },
    {
      "cell_type": "markdown",
      "metadata": {
        "id": "6buozW_z1Nb2"
      },
      "source": [
        "### Calculate all factors for safety stock"
      ]
    },
    {
      "cell_type": "code",
      "metadata": {
        "id": "Q3PS3zB1aCCl"
      },
      "source": [
        "#TODO calulate all terms needed for safety stock calculations\n",
        "\n",
        "import math\n",
        "\n",
        "def calculate_forecast_rmse(forecast: DataFrame) -> dict:\n",
        "  # returns dict of RMSEs for each (warehouse_id, sku)\n",
        "  rmses = {}\n",
        "  for name, group in forecast.groupby(by=['warehouse_id', 'sku']):\n",
        "    wh_sku = name[0] + '_' + name[1]\n",
        "    rmses[wh_sku] = mean_squared_error(group['units_sold'], group['pred_units'], squared=False)\n",
        "  return rmses\n",
        "\n",
        "\n",
        "# we might need to test different SS strategies, but start with something simple here\n",
        "def simple_safety_stock(z_score: float, rmse: float, lead_time: float) -> int:\n",
        "  return z_score * rmse * math.sqrt(lead_time)"
      ],
      "execution_count": null,
      "outputs": []
    },
    {
      "cell_type": "code",
      "metadata": {
        "id": "aRjmZ1EQ3ELl"
      },
      "source": [
        "rmses = calculate_forecast_rmse(past_forecast)\n",
        "products['rmse'] = products['wh_sku'].map(rmses)"
      ],
      "execution_count": null,
      "outputs": []
    },
    {
      "cell_type": "code",
      "metadata": {
        "id": "0sTjPb5wdd5P"
      },
      "source": [
        ""
      ],
      "execution_count": null,
      "outputs": []
    },
    {
      "cell_type": "code",
      "metadata": {
        "colab": {
          "base_uri": "https://localhost:8080/",
          "height": 204
        },
        "id": "MQlD6v6sUJt9",
        "outputId": "87b77a92-4ec6-4e4a-9a5c-f86a0be00c63"
      },
      "source": [
        " # Experiment\n",
        "\n",
        " past_forecast.head()"
      ],
      "execution_count": null,
      "outputs": [
        {
          "output_type": "execute_result",
          "data": {
            "text/html": [
              "<div>\n",
              "<style scoped>\n",
              "    .dataframe tbody tr th:only-of-type {\n",
              "        vertical-align: middle;\n",
              "    }\n",
              "\n",
              "    .dataframe tbody tr th {\n",
              "        vertical-align: top;\n",
              "    }\n",
              "\n",
              "    .dataframe thead th {\n",
              "        text-align: right;\n",
              "    }\n",
              "</style>\n",
              "<table border=\"1\" class=\"dataframe\">\n",
              "  <thead>\n",
              "    <tr style=\"text-align: right;\">\n",
              "      <th></th>\n",
              "      <th>warehouse_id</th>\n",
              "      <th>sku</th>\n",
              "      <th>order_date</th>\n",
              "      <th>lookahead_from_today</th>\n",
              "      <th>pred_units</th>\n",
              "      <th>cumulative_future_preds</th>\n",
              "      <th>units_sold</th>\n",
              "    </tr>\n",
              "  </thead>\n",
              "  <tbody>\n",
              "    <tr>\n",
              "      <th>162357</th>\n",
              "      <td>dcbb7a88-5ee3-4766-bf96-63dc4b6636a9</td>\n",
              "      <td>HX9W14</td>\n",
              "      <td>2021-09-23</td>\n",
              "      <td>-28</td>\n",
              "      <td>0.285714</td>\n",
              "      <td>0.0</td>\n",
              "      <td>0</td>\n",
              "    </tr>\n",
              "    <tr>\n",
              "      <th>162358</th>\n",
              "      <td>87d47f17-25cc-4e89-9bbc-3df289eba49d</td>\n",
              "      <td>XLLBZ0</td>\n",
              "      <td>2021-09-23</td>\n",
              "      <td>-28</td>\n",
              "      <td>0.117503</td>\n",
              "      <td>0.0</td>\n",
              "      <td>0</td>\n",
              "    </tr>\n",
              "    <tr>\n",
              "      <th>162359</th>\n",
              "      <td>ca4b6308-3647-46d8-9794-e4b5ef0a51a7</td>\n",
              "      <td>1DSY2B</td>\n",
              "      <td>2021-09-23</td>\n",
              "      <td>-28</td>\n",
              "      <td>0.103567</td>\n",
              "      <td>0.0</td>\n",
              "      <td>0</td>\n",
              "    </tr>\n",
              "    <tr>\n",
              "      <th>162360</th>\n",
              "      <td>d7f832c6-dee4-4fb0-9b84-9edf831b9bc6</td>\n",
              "      <td>RVC8Y4</td>\n",
              "      <td>2021-09-23</td>\n",
              "      <td>-28</td>\n",
              "      <td>0.027071</td>\n",
              "      <td>0.0</td>\n",
              "      <td>0</td>\n",
              "    </tr>\n",
              "    <tr>\n",
              "      <th>162361</th>\n",
              "      <td>261ffeed-c5bc-4965-b142-1d593ab5e9c2</td>\n",
              "      <td>8U6279</td>\n",
              "      <td>2021-09-23</td>\n",
              "      <td>-28</td>\n",
              "      <td>0.000000</td>\n",
              "      <td>0.0</td>\n",
              "      <td>0</td>\n",
              "    </tr>\n",
              "  </tbody>\n",
              "</table>\n",
              "</div>"
            ],
            "text/plain": [
              "                                warehouse_id  ... units_sold\n",
              "162357  dcbb7a88-5ee3-4766-bf96-63dc4b6636a9  ...          0\n",
              "162358  87d47f17-25cc-4e89-9bbc-3df289eba49d  ...          0\n",
              "162359  ca4b6308-3647-46d8-9794-e4b5ef0a51a7  ...          0\n",
              "162360  d7f832c6-dee4-4fb0-9b84-9edf831b9bc6  ...          0\n",
              "162361  261ffeed-c5bc-4965-b142-1d593ab5e9c2  ...          0\n",
              "\n",
              "[5 rows x 7 columns]"
            ]
          },
          "metadata": {},
          "execution_count": 490
        }
      ]
    },
    {
      "cell_type": "code",
      "metadata": {
        "colab": {
          "base_uri": "https://localhost:8080/",
          "height": 419
        },
        "id": "PmBuYwb1UJrh",
        "outputId": "8639250a-6779-4e61-b5da-e6924e132970"
      },
      "source": [
        "past_forecast[past_forecast['warehouse_id'] == warehouse_id]"
      ],
      "execution_count": null,
      "outputs": [
        {
          "output_type": "execute_result",
          "data": {
            "text/html": [
              "<div>\n",
              "<style scoped>\n",
              "    .dataframe tbody tr th:only-of-type {\n",
              "        vertical-align: middle;\n",
              "    }\n",
              "\n",
              "    .dataframe tbody tr th {\n",
              "        vertical-align: top;\n",
              "    }\n",
              "\n",
              "    .dataframe thead th {\n",
              "        text-align: right;\n",
              "    }\n",
              "</style>\n",
              "<table border=\"1\" class=\"dataframe\">\n",
              "  <thead>\n",
              "    <tr style=\"text-align: right;\">\n",
              "      <th></th>\n",
              "      <th>warehouse_id</th>\n",
              "      <th>sku</th>\n",
              "      <th>order_date</th>\n",
              "      <th>lookahead_from_today</th>\n",
              "      <th>pred_units</th>\n",
              "      <th>cumulative_future_preds</th>\n",
              "      <th>units_sold</th>\n",
              "    </tr>\n",
              "  </thead>\n",
              "  <tbody>\n",
              "    <tr>\n",
              "      <th>162358</th>\n",
              "      <td>87d47f17-25cc-4e89-9bbc-3df289eba49d</td>\n",
              "      <td>XLLBZ0</td>\n",
              "      <td>2021-09-23</td>\n",
              "      <td>-28</td>\n",
              "      <td>0.117503</td>\n",
              "      <td>0.000000</td>\n",
              "      <td>0</td>\n",
              "    </tr>\n",
              "    <tr>\n",
              "      <th>162374</th>\n",
              "      <td>87d47f17-25cc-4e89-9bbc-3df289eba49d</td>\n",
              "      <td>N3138T</td>\n",
              "      <td>2021-09-23</td>\n",
              "      <td>-28</td>\n",
              "      <td>1.025189</td>\n",
              "      <td>0.000000</td>\n",
              "      <td>0</td>\n",
              "    </tr>\n",
              "    <tr>\n",
              "      <th>162384</th>\n",
              "      <td>87d47f17-25cc-4e89-9bbc-3df289eba49d</td>\n",
              "      <td>3I9TF4</td>\n",
              "      <td>2021-09-23</td>\n",
              "      <td>-28</td>\n",
              "      <td>0.035295</td>\n",
              "      <td>0.000000</td>\n",
              "      <td>0</td>\n",
              "    </tr>\n",
              "    <tr>\n",
              "      <th>162395</th>\n",
              "      <td>87d47f17-25cc-4e89-9bbc-3df289eba49d</td>\n",
              "      <td>F6XG00</td>\n",
              "      <td>2021-09-23</td>\n",
              "      <td>-28</td>\n",
              "      <td>0.446673</td>\n",
              "      <td>0.000000</td>\n",
              "      <td>0</td>\n",
              "    </tr>\n",
              "    <tr>\n",
              "      <th>162396</th>\n",
              "      <td>87d47f17-25cc-4e89-9bbc-3df289eba49d</td>\n",
              "      <td>M34NAN</td>\n",
              "      <td>2021-09-23</td>\n",
              "      <td>-28</td>\n",
              "      <td>2.857143</td>\n",
              "      <td>0.000000</td>\n",
              "      <td>3</td>\n",
              "    </tr>\n",
              "    <tr>\n",
              "      <th>...</th>\n",
              "      <td>...</td>\n",
              "      <td>...</td>\n",
              "      <td>...</td>\n",
              "      <td>...</td>\n",
              "      <td>...</td>\n",
              "      <td>...</td>\n",
              "      <td>...</td>\n",
              "    </tr>\n",
              "    <tr>\n",
              "      <th>819163</th>\n",
              "      <td>87d47f17-25cc-4e89-9bbc-3df289eba49d</td>\n",
              "      <td>T9G8F0</td>\n",
              "      <td>2021-10-21</td>\n",
              "      <td>0</td>\n",
              "      <td>1.824449</td>\n",
              "      <td>1.824449</td>\n",
              "      <td>0</td>\n",
              "    </tr>\n",
              "    <tr>\n",
              "      <th>819180</th>\n",
              "      <td>87d47f17-25cc-4e89-9bbc-3df289eba49d</td>\n",
              "      <td>Q77LCP</td>\n",
              "      <td>2021-10-21</td>\n",
              "      <td>0</td>\n",
              "      <td>0.857143</td>\n",
              "      <td>0.857143</td>\n",
              "      <td>0</td>\n",
              "    </tr>\n",
              "    <tr>\n",
              "      <th>819196</th>\n",
              "      <td>87d47f17-25cc-4e89-9bbc-3df289eba49d</td>\n",
              "      <td>WI4K6E</td>\n",
              "      <td>2021-10-21</td>\n",
              "      <td>0</td>\n",
              "      <td>0.242908</td>\n",
              "      <td>0.242908</td>\n",
              "      <td>0</td>\n",
              "    </tr>\n",
              "    <tr>\n",
              "      <th>819207</th>\n",
              "      <td>87d47f17-25cc-4e89-9bbc-3df289eba49d</td>\n",
              "      <td>3F0E25</td>\n",
              "      <td>2021-10-21</td>\n",
              "      <td>0</td>\n",
              "      <td>0.268768</td>\n",
              "      <td>0.268768</td>\n",
              "      <td>0</td>\n",
              "    </tr>\n",
              "    <tr>\n",
              "      <th>819229</th>\n",
              "      <td>87d47f17-25cc-4e89-9bbc-3df289eba49d</td>\n",
              "      <td>VEU3G3</td>\n",
              "      <td>2021-10-21</td>\n",
              "      <td>0</td>\n",
              "      <td>0.191194</td>\n",
              "      <td>0.191194</td>\n",
              "      <td>0</td>\n",
              "    </tr>\n",
              "  </tbody>\n",
              "</table>\n",
              "<p>69493 rows × 7 columns</p>\n",
              "</div>"
            ],
            "text/plain": [
              "                                warehouse_id  ... units_sold\n",
              "162358  87d47f17-25cc-4e89-9bbc-3df289eba49d  ...          0\n",
              "162374  87d47f17-25cc-4e89-9bbc-3df289eba49d  ...          0\n",
              "162384  87d47f17-25cc-4e89-9bbc-3df289eba49d  ...          0\n",
              "162395  87d47f17-25cc-4e89-9bbc-3df289eba49d  ...          0\n",
              "162396  87d47f17-25cc-4e89-9bbc-3df289eba49d  ...          3\n",
              "...                                      ...  ...        ...\n",
              "819163  87d47f17-25cc-4e89-9bbc-3df289eba49d  ...          0\n",
              "819180  87d47f17-25cc-4e89-9bbc-3df289eba49d  ...          0\n",
              "819196  87d47f17-25cc-4e89-9bbc-3df289eba49d  ...          0\n",
              "819207  87d47f17-25cc-4e89-9bbc-3df289eba49d  ...          0\n",
              "819229  87d47f17-25cc-4e89-9bbc-3df289eba49d  ...          0\n",
              "\n",
              "[69493 rows x 7 columns]"
            ]
          },
          "metadata": {},
          "execution_count": 491
        }
      ]
    },
    {
      "cell_type": "code",
      "metadata": {
        "id": "pgCo7pLSdd2R",
        "colab": {
          "base_uri": "https://localhost:8080/",
          "height": 948
        },
        "outputId": "5b904ce6-ed6f-4dd8-8c4d-e2103609ec28"
      },
      "source": [
        "past_forecast[(past_forecast['warehouse_id'] ==  warehouse_id) & (past_forecast['sku'] == '614U3J')]"
      ],
      "execution_count": null,
      "outputs": [
        {
          "output_type": "execute_result",
          "data": {
            "text/html": [
              "<div>\n",
              "<style scoped>\n",
              "    .dataframe tbody tr th:only-of-type {\n",
              "        vertical-align: middle;\n",
              "    }\n",
              "\n",
              "    .dataframe tbody tr th {\n",
              "        vertical-align: top;\n",
              "    }\n",
              "\n",
              "    .dataframe thead th {\n",
              "        text-align: right;\n",
              "    }\n",
              "</style>\n",
              "<table border=\"1\" class=\"dataframe\">\n",
              "  <thead>\n",
              "    <tr style=\"text-align: right;\">\n",
              "      <th></th>\n",
              "      <th>warehouse_id</th>\n",
              "      <th>sku</th>\n",
              "      <th>order_date</th>\n",
              "      <th>lookahead_from_today</th>\n",
              "      <th>pred_units</th>\n",
              "      <th>cumulative_future_preds</th>\n",
              "      <th>units_sold</th>\n",
              "    </tr>\n",
              "  </thead>\n",
              "  <tbody>\n",
              "    <tr>\n",
              "      <th>163526</th>\n",
              "      <td>87d47f17-25cc-4e89-9bbc-3df289eba49d</td>\n",
              "      <td>614U3J</td>\n",
              "      <td>2021-09-23</td>\n",
              "      <td>-28</td>\n",
              "      <td>2.047610</td>\n",
              "      <td>0.000000</td>\n",
              "      <td>0</td>\n",
              "    </tr>\n",
              "    <tr>\n",
              "      <th>191965</th>\n",
              "      <td>87d47f17-25cc-4e89-9bbc-3df289eba49d</td>\n",
              "      <td>614U3J</td>\n",
              "      <td>2021-09-24</td>\n",
              "      <td>-27</td>\n",
              "      <td>1.901002</td>\n",
              "      <td>0.000000</td>\n",
              "      <td>4</td>\n",
              "    </tr>\n",
              "    <tr>\n",
              "      <th>212529</th>\n",
              "      <td>87d47f17-25cc-4e89-9bbc-3df289eba49d</td>\n",
              "      <td>614U3J</td>\n",
              "      <td>2021-09-25</td>\n",
              "      <td>-26</td>\n",
              "      <td>1.384827</td>\n",
              "      <td>0.000000</td>\n",
              "      <td>0</td>\n",
              "    </tr>\n",
              "    <tr>\n",
              "      <th>230813</th>\n",
              "      <td>87d47f17-25cc-4e89-9bbc-3df289eba49d</td>\n",
              "      <td>614U3J</td>\n",
              "      <td>2021-09-26</td>\n",
              "      <td>-25</td>\n",
              "      <td>1.846465</td>\n",
              "      <td>0.000000</td>\n",
              "      <td>7</td>\n",
              "    </tr>\n",
              "    <tr>\n",
              "      <th>259943</th>\n",
              "      <td>87d47f17-25cc-4e89-9bbc-3df289eba49d</td>\n",
              "      <td>614U3J</td>\n",
              "      <td>2021-09-27</td>\n",
              "      <td>-24</td>\n",
              "      <td>1.228922</td>\n",
              "      <td>0.000000</td>\n",
              "      <td>0</td>\n",
              "    </tr>\n",
              "    <tr>\n",
              "      <th>273800</th>\n",
              "      <td>87d47f17-25cc-4e89-9bbc-3df289eba49d</td>\n",
              "      <td>614U3J</td>\n",
              "      <td>2021-09-28</td>\n",
              "      <td>-23</td>\n",
              "      <td>1.413261</td>\n",
              "      <td>0.000000</td>\n",
              "      <td>223</td>\n",
              "    </tr>\n",
              "    <tr>\n",
              "      <th>294979</th>\n",
              "      <td>87d47f17-25cc-4e89-9bbc-3df289eba49d</td>\n",
              "      <td>614U3J</td>\n",
              "      <td>2021-09-29</td>\n",
              "      <td>-22</td>\n",
              "      <td>19.416684</td>\n",
              "      <td>0.000000</td>\n",
              "      <td>0</td>\n",
              "    </tr>\n",
              "    <tr>\n",
              "      <th>312587</th>\n",
              "      <td>87d47f17-25cc-4e89-9bbc-3df289eba49d</td>\n",
              "      <td>614U3J</td>\n",
              "      <td>2021-09-30</td>\n",
              "      <td>-21</td>\n",
              "      <td>1.896813</td>\n",
              "      <td>0.000000</td>\n",
              "      <td>0</td>\n",
              "    </tr>\n",
              "    <tr>\n",
              "      <th>339937</th>\n",
              "      <td>87d47f17-25cc-4e89-9bbc-3df289eba49d</td>\n",
              "      <td>614U3J</td>\n",
              "      <td>2021-10-01</td>\n",
              "      <td>-20</td>\n",
              "      <td>1.804191</td>\n",
              "      <td>0.000000</td>\n",
              "      <td>0</td>\n",
              "    </tr>\n",
              "    <tr>\n",
              "      <th>372574</th>\n",
              "      <td>87d47f17-25cc-4e89-9bbc-3df289eba49d</td>\n",
              "      <td>614U3J</td>\n",
              "      <td>2021-10-02</td>\n",
              "      <td>-19</td>\n",
              "      <td>2.587286</td>\n",
              "      <td>0.000000</td>\n",
              "      <td>6</td>\n",
              "    </tr>\n",
              "    <tr>\n",
              "      <th>378680</th>\n",
              "      <td>87d47f17-25cc-4e89-9bbc-3df289eba49d</td>\n",
              "      <td>614U3J</td>\n",
              "      <td>2021-10-03</td>\n",
              "      <td>-18</td>\n",
              "      <td>4.451757</td>\n",
              "      <td>0.000000</td>\n",
              "      <td>7</td>\n",
              "    </tr>\n",
              "    <tr>\n",
              "      <th>400286</th>\n",
              "      <td>87d47f17-25cc-4e89-9bbc-3df289eba49d</td>\n",
              "      <td>614U3J</td>\n",
              "      <td>2021-10-04</td>\n",
              "      <td>-17</td>\n",
              "      <td>2.209379</td>\n",
              "      <td>0.000000</td>\n",
              "      <td>19</td>\n",
              "    </tr>\n",
              "    <tr>\n",
              "      <th>438845</th>\n",
              "      <td>87d47f17-25cc-4e89-9bbc-3df289eba49d</td>\n",
              "      <td>614U3J</td>\n",
              "      <td>2021-10-05</td>\n",
              "      <td>-16</td>\n",
              "      <td>0.000000</td>\n",
              "      <td>0.000000</td>\n",
              "      <td>244</td>\n",
              "    </tr>\n",
              "    <tr>\n",
              "      <th>445684</th>\n",
              "      <td>87d47f17-25cc-4e89-9bbc-3df289eba49d</td>\n",
              "      <td>614U3J</td>\n",
              "      <td>2021-10-06</td>\n",
              "      <td>-15</td>\n",
              "      <td>1.277836</td>\n",
              "      <td>0.000000</td>\n",
              "      <td>5</td>\n",
              "    </tr>\n",
              "    <tr>\n",
              "      <th>488131</th>\n",
              "      <td>87d47f17-25cc-4e89-9bbc-3df289eba49d</td>\n",
              "      <td>614U3J</td>\n",
              "      <td>2021-10-07</td>\n",
              "      <td>-14</td>\n",
              "      <td>2.858493</td>\n",
              "      <td>0.000000</td>\n",
              "      <td>6</td>\n",
              "    </tr>\n",
              "    <tr>\n",
              "      <th>496395</th>\n",
              "      <td>87d47f17-25cc-4e89-9bbc-3df289eba49d</td>\n",
              "      <td>614U3J</td>\n",
              "      <td>2021-10-08</td>\n",
              "      <td>-13</td>\n",
              "      <td>2.612758</td>\n",
              "      <td>0.000000</td>\n",
              "      <td>1</td>\n",
              "    </tr>\n",
              "    <tr>\n",
              "      <th>523223</th>\n",
              "      <td>87d47f17-25cc-4e89-9bbc-3df289eba49d</td>\n",
              "      <td>614U3J</td>\n",
              "      <td>2021-10-09</td>\n",
              "      <td>-12</td>\n",
              "      <td>3.581136</td>\n",
              "      <td>0.000000</td>\n",
              "      <td>4</td>\n",
              "    </tr>\n",
              "    <tr>\n",
              "      <th>534752</th>\n",
              "      <td>87d47f17-25cc-4e89-9bbc-3df289eba49d</td>\n",
              "      <td>614U3J</td>\n",
              "      <td>2021-10-10</td>\n",
              "      <td>-11</td>\n",
              "      <td>4.566873</td>\n",
              "      <td>0.000000</td>\n",
              "      <td>21</td>\n",
              "    </tr>\n",
              "    <tr>\n",
              "      <th>572708</th>\n",
              "      <td>87d47f17-25cc-4e89-9bbc-3df289eba49d</td>\n",
              "      <td>614U3J</td>\n",
              "      <td>2021-10-11</td>\n",
              "      <td>-10</td>\n",
              "      <td>1.945001</td>\n",
              "      <td>0.000000</td>\n",
              "      <td>0</td>\n",
              "    </tr>\n",
              "    <tr>\n",
              "      <th>581523</th>\n",
              "      <td>87d47f17-25cc-4e89-9bbc-3df289eba49d</td>\n",
              "      <td>614U3J</td>\n",
              "      <td>2021-10-12</td>\n",
              "      <td>-9</td>\n",
              "      <td>30.599682</td>\n",
              "      <td>0.000000</td>\n",
              "      <td>240</td>\n",
              "    </tr>\n",
              "    <tr>\n",
              "      <th>609604</th>\n",
              "      <td>87d47f17-25cc-4e89-9bbc-3df289eba49d</td>\n",
              "      <td>614U3J</td>\n",
              "      <td>2021-10-13</td>\n",
              "      <td>-8</td>\n",
              "      <td>1.830381</td>\n",
              "      <td>0.000000</td>\n",
              "      <td>8</td>\n",
              "    </tr>\n",
              "    <tr>\n",
              "      <th>631724</th>\n",
              "      <td>87d47f17-25cc-4e89-9bbc-3df289eba49d</td>\n",
              "      <td>614U3J</td>\n",
              "      <td>2021-10-14</td>\n",
              "      <td>-7</td>\n",
              "      <td>4.460565</td>\n",
              "      <td>0.000000</td>\n",
              "      <td>2</td>\n",
              "    </tr>\n",
              "    <tr>\n",
              "      <th>660560</th>\n",
              "      <td>87d47f17-25cc-4e89-9bbc-3df289eba49d</td>\n",
              "      <td>614U3J</td>\n",
              "      <td>2021-10-15</td>\n",
              "      <td>-6</td>\n",
              "      <td>2.837753</td>\n",
              "      <td>0.000000</td>\n",
              "      <td>2</td>\n",
              "    </tr>\n",
              "    <tr>\n",
              "      <th>684282</th>\n",
              "      <td>87d47f17-25cc-4e89-9bbc-3df289eba49d</td>\n",
              "      <td>614U3J</td>\n",
              "      <td>2021-10-16</td>\n",
              "      <td>-5</td>\n",
              "      <td>2.760389</td>\n",
              "      <td>0.000000</td>\n",
              "      <td>5</td>\n",
              "    </tr>\n",
              "    <tr>\n",
              "      <th>707024</th>\n",
              "      <td>87d47f17-25cc-4e89-9bbc-3df289eba49d</td>\n",
              "      <td>614U3J</td>\n",
              "      <td>2021-10-17</td>\n",
              "      <td>-4</td>\n",
              "      <td>3.399972</td>\n",
              "      <td>0.000000</td>\n",
              "      <td>16</td>\n",
              "    </tr>\n",
              "    <tr>\n",
              "      <th>731964</th>\n",
              "      <td>87d47f17-25cc-4e89-9bbc-3df289eba49d</td>\n",
              "      <td>614U3J</td>\n",
              "      <td>2021-10-18</td>\n",
              "      <td>-3</td>\n",
              "      <td>2.032210</td>\n",
              "      <td>0.000000</td>\n",
              "      <td>0</td>\n",
              "    </tr>\n",
              "    <tr>\n",
              "      <th>744864</th>\n",
              "      <td>87d47f17-25cc-4e89-9bbc-3df289eba49d</td>\n",
              "      <td>614U3J</td>\n",
              "      <td>2021-10-19</td>\n",
              "      <td>-2</td>\n",
              "      <td>27.778535</td>\n",
              "      <td>0.000000</td>\n",
              "      <td>240</td>\n",
              "    </tr>\n",
              "    <tr>\n",
              "      <th>777117</th>\n",
              "      <td>87d47f17-25cc-4e89-9bbc-3df289eba49d</td>\n",
              "      <td>614U3J</td>\n",
              "      <td>2021-10-20</td>\n",
              "      <td>-1</td>\n",
              "      <td>1.955335</td>\n",
              "      <td>0.000000</td>\n",
              "      <td>6</td>\n",
              "    </tr>\n",
              "    <tr>\n",
              "      <th>796581</th>\n",
              "      <td>87d47f17-25cc-4e89-9bbc-3df289eba49d</td>\n",
              "      <td>614U3J</td>\n",
              "      <td>2021-10-21</td>\n",
              "      <td>0</td>\n",
              "      <td>2.509742</td>\n",
              "      <td>2.509742</td>\n",
              "      <td>0</td>\n",
              "    </tr>\n",
              "  </tbody>\n",
              "</table>\n",
              "</div>"
            ],
            "text/plain": [
              "                                warehouse_id  ... units_sold\n",
              "163526  87d47f17-25cc-4e89-9bbc-3df289eba49d  ...          0\n",
              "191965  87d47f17-25cc-4e89-9bbc-3df289eba49d  ...          4\n",
              "212529  87d47f17-25cc-4e89-9bbc-3df289eba49d  ...          0\n",
              "230813  87d47f17-25cc-4e89-9bbc-3df289eba49d  ...          7\n",
              "259943  87d47f17-25cc-4e89-9bbc-3df289eba49d  ...          0\n",
              "273800  87d47f17-25cc-4e89-9bbc-3df289eba49d  ...        223\n",
              "294979  87d47f17-25cc-4e89-9bbc-3df289eba49d  ...          0\n",
              "312587  87d47f17-25cc-4e89-9bbc-3df289eba49d  ...          0\n",
              "339937  87d47f17-25cc-4e89-9bbc-3df289eba49d  ...          0\n",
              "372574  87d47f17-25cc-4e89-9bbc-3df289eba49d  ...          6\n",
              "378680  87d47f17-25cc-4e89-9bbc-3df289eba49d  ...          7\n",
              "400286  87d47f17-25cc-4e89-9bbc-3df289eba49d  ...         19\n",
              "438845  87d47f17-25cc-4e89-9bbc-3df289eba49d  ...        244\n",
              "445684  87d47f17-25cc-4e89-9bbc-3df289eba49d  ...          5\n",
              "488131  87d47f17-25cc-4e89-9bbc-3df289eba49d  ...          6\n",
              "496395  87d47f17-25cc-4e89-9bbc-3df289eba49d  ...          1\n",
              "523223  87d47f17-25cc-4e89-9bbc-3df289eba49d  ...          4\n",
              "534752  87d47f17-25cc-4e89-9bbc-3df289eba49d  ...         21\n",
              "572708  87d47f17-25cc-4e89-9bbc-3df289eba49d  ...          0\n",
              "581523  87d47f17-25cc-4e89-9bbc-3df289eba49d  ...        240\n",
              "609604  87d47f17-25cc-4e89-9bbc-3df289eba49d  ...          8\n",
              "631724  87d47f17-25cc-4e89-9bbc-3df289eba49d  ...          2\n",
              "660560  87d47f17-25cc-4e89-9bbc-3df289eba49d  ...          2\n",
              "684282  87d47f17-25cc-4e89-9bbc-3df289eba49d  ...          5\n",
              "707024  87d47f17-25cc-4e89-9bbc-3df289eba49d  ...         16\n",
              "731964  87d47f17-25cc-4e89-9bbc-3df289eba49d  ...          0\n",
              "744864  87d47f17-25cc-4e89-9bbc-3df289eba49d  ...        240\n",
              "777117  87d47f17-25cc-4e89-9bbc-3df289eba49d  ...          6\n",
              "796581  87d47f17-25cc-4e89-9bbc-3df289eba49d  ...          0\n",
              "\n",
              "[29 rows x 7 columns]"
            ]
          },
          "metadata": {},
          "execution_count": 492
        }
      ]
    },
    {
      "cell_type": "code",
      "metadata": {
        "id": "9kp0kyVvddzN"
      },
      "source": [
        ""
      ],
      "execution_count": null,
      "outputs": []
    },
    {
      "cell_type": "code",
      "metadata": {
        "colab": {
          "base_uri": "https://localhost:8080/"
        },
        "id": "5_gvOmGWCz-U",
        "outputId": "2d2e6cd6-a92e-4d69-f81e-489e0c462ded"
      },
      "source": [
        "forecast.columns"
      ],
      "execution_count": null,
      "outputs": [
        {
          "output_type": "execute_result",
          "data": {
            "text/plain": [
              "Index(['warehouse_id', 'sku', 'order_date', 'lookahead_from_today',\n",
              "       'pred_units', 'cumulative_future_preds', 'units_sold'],\n",
              "      dtype='object')"
            ]
          },
          "metadata": {},
          "execution_count": 493
        }
      ]
    },
    {
      "cell_type": "code",
      "metadata": {
        "colab": {
          "base_uri": "https://localhost:8080/",
          "height": 549
        },
        "id": "XhTcA1_cCz8t",
        "outputId": "6f60b690-9d7d-4567-8af1-e5f9fac2ea48"
      },
      "source": [
        "ax = forecast[forecast.sku == 'L7CJE9'][['order_date', 'units_sold']].groupby(by='order_date').sum()['units_sold'].astype(int).plot(figsize=(16,8))\n",
        "ax.set_ylabel(\"units sold\")"
      ],
      "execution_count": null,
      "outputs": [
        {
          "output_type": "execute_result",
          "data": {
            "text/plain": [
              "Text(0, 0.5, 'units sold')"
            ]
          },
          "metadata": {},
          "execution_count": 494
        },
        {
          "output_type": "display_data",
          "data": {
            "image/png": "[encoded data removed]",
            "text/plain": [
              "<Figure size 1152x576 with 1 Axes>"
            ]
          },
          "metadata": {
            "needs_background": "light"
          }
        }
      ]
    },
    {
      "cell_type": "code",
      "metadata": {
        "id": "qBffCLwTCz6V"
      },
      "source": [
        ""
      ],
      "execution_count": null,
      "outputs": []
    },
    {
      "cell_type": "code",
      "metadata": {
        "id": "RuYy9Rs9Cz4F"
      },
      "source": [
        ""
      ],
      "execution_count": null,
      "outputs": []
    },
    {
      "cell_type": "code",
      "metadata": {
        "id": "sJyXQlpAWreq",
        "colab": {
          "base_uri": "https://localhost:8080/",
          "height": 411
        },
        "outputId": "702abdb1-4300-4e0e-84c8-1b433ac781d1"
      },
      "source": [
        "# TODO calcualte safety stock column\n",
        "products['safety_stock'] = products.apply(lambda r: simple_safety_stock(z_score,r[\"rmse\"],r[\"days_until_next_delivery\"] ), axis=1)\n",
        "products.head()"
      ],
      "execution_count": null,
      "outputs": [
        {
          "output_type": "execute_result",
          "data": {
            "text/html": [
              "<div>\n",
              "<style scoped>\n",
              "    .dataframe tbody tr th:only-of-type {\n",
              "        vertical-align: middle;\n",
              "    }\n",
              "\n",
              "    .dataframe tbody tr th {\n",
              "        vertical-align: top;\n",
              "    }\n",
              "\n",
              "    .dataframe thead th {\n",
              "        text-align: right;\n",
              "    }\n",
              "</style>\n",
              "<table border=\"1\" class=\"dataframe\">\n",
              "  <thead>\n",
              "    <tr style=\"text-align: right;\">\n",
              "      <th></th>\n",
              "      <th>country_code</th>\n",
              "      <th>sku</th>\n",
              "      <th>product_name</th>\n",
              "      <th>barcode</th>\n",
              "      <th>store</th>\n",
              "      <th>warehouse_id</th>\n",
              "      <th>is_active</th>\n",
              "      <th>supplier_id</th>\n",
              "      <th>min_qty</th>\n",
              "      <th>preference</th>\n",
              "      <th>trade_cost_lp</th>\n",
              "      <th>latest_delivery_date</th>\n",
              "      <th>last_po_order_qty</th>\n",
              "      <th>last_po_delivered_qty</th>\n",
              "      <th>last_po_fill_rate</th>\n",
              "      <th>days_to_expiration</th>\n",
              "      <th>expiration_date</th>\n",
              "      <th>sales_buffer</th>\n",
              "      <th>stock_on_hand</th>\n",
              "      <th>on_hand_stock_date</th>\n",
              "      <th>stock_in_transit</th>\n",
              "      <th>in_transit_stock_date</th>\n",
              "      <th>on_hand_minus_transfer_req</th>\n",
              "      <th>transfer_stock</th>\n",
              "      <th>availability</th>\n",
              "      <th>units_sold</th>\n",
              "      <th>units_sold_7d</th>\n",
              "      <th>avg_units_sold</th>\n",
              "      <th>wh_sku</th>\n",
              "      <th>global_entity_id</th>\n",
              "      <th>supplier_name</th>\n",
              "      <th>lead_time</th>\n",
              "      <th>max_stock_days</th>\n",
              "      <th>delivery_mon</th>\n",
              "      <th>delivery_tue</th>\n",
              "      <th>delivery_wed</th>\n",
              "      <th>delivery_thu</th>\n",
              "      <th>delivery_fri</th>\n",
              "      <th>delivery_sat</th>\n",
              "      <th>next_delivery_date</th>\n",
              "      <th>subsequent_delivery_date</th>\n",
              "      <th>days_until_next_delivery</th>\n",
              "      <th>forecast_aggregated_days_until_next_delivery</th>\n",
              "      <th>delivery_day_plus_stock_days</th>\n",
              "      <th>forecast_aggregated_delivery_day_plus_stock_days</th>\n",
              "      <th>cycle_sales</th>\n",
              "      <th>sell_out_day</th>\n",
              "      <th>rmse</th>\n",
              "      <th>safety_stock</th>\n",
              "    </tr>\n",
              "  </thead>\n",
              "  <tbody>\n",
              "    <tr>\n",
              "      <th>0</th>\n",
              "      <td>se</td>\n",
              "      <td>8930FB</td>\n",
              "      <td>Findus nFine fillets of cod MSC 375g</td>\n",
              "      <td>7310500184302</td>\n",
              "      <td>foodora market Östermalm</td>\n",
              "      <td>87d47f17-25cc-4e89-9bbc-3df289eba49d</td>\n",
              "      <td>True</td>\n",
              "      <td>7</td>\n",
              "      <td>11.0</td>\n",
              "      <td>1.0</td>\n",
              "      <td>4818.0</td>\n",
              "      <td>2021-10-06</td>\n",
              "      <td>11.0</td>\n",
              "      <td>11.0</td>\n",
              "      <td>1.0</td>\n",
              "      <td>452.0</td>\n",
              "      <td>2021-10-21</td>\n",
              "      <td>0</td>\n",
              "      <td>3</td>\n",
              "      <td>2021-10-20 09:19:39.465032</td>\n",
              "      <td>0</td>\n",
              "      <td>NaT</td>\n",
              "      <td>3</td>\n",
              "      <td>0</td>\n",
              "      <td>1.00</td>\n",
              "      <td>15</td>\n",
              "      <td>3</td>\n",
              "      <td>0.3261</td>\n",
              "      <td>87d47f17-25cc-4e89-9bbc-3df289eba49d_8930FB</td>\n",
              "      <td>OP_SE</td>\n",
              "      <td>Bergendahl</td>\n",
              "      <td>2</td>\n",
              "      <td>9</td>\n",
              "      <td>True</td>\n",
              "      <td>None</td>\n",
              "      <td>True</td>\n",
              "      <td>None</td>\n",
              "      <td>True</td>\n",
              "      <td>None</td>\n",
              "      <td>2021-10-25 12:30:24.336803</td>\n",
              "      <td>2021-10-27 12:30:24.336803</td>\n",
              "      <td>4</td>\n",
              "      <td>1.924690</td>\n",
              "      <td>13</td>\n",
              "      <td>5.659314</td>\n",
              "      <td>3.734624</td>\n",
              "      <td>2021-10-28 12:30:24.336803</td>\n",
              "      <td>0.915889</td>\n",
              "      <td>2.347517</td>\n",
              "    </tr>\n",
              "    <tr>\n",
              "      <th>1</th>\n",
              "      <td>se</td>\n",
              "      <td>YJJI4O</td>\n",
              "      <td>Greendeli Yoghurt Granola honung  210g</td>\n",
              "      <td>7350035639656</td>\n",
              "      <td>foodora market Östermalm</td>\n",
              "      <td>87d47f17-25cc-4e89-9bbc-3df289eba49d</td>\n",
              "      <td>True</td>\n",
              "      <td>34</td>\n",
              "      <td>1.0</td>\n",
              "      <td>1.0</td>\n",
              "      <td>1912.0</td>\n",
              "      <td>2021-10-20</td>\n",
              "      <td>2.0</td>\n",
              "      <td>2.0</td>\n",
              "      <td>1.0</td>\n",
              "      <td>6.0</td>\n",
              "      <td>2021-10-21</td>\n",
              "      <td>0</td>\n",
              "      <td>2</td>\n",
              "      <td>2021-10-20 07:32:19.354187</td>\n",
              "      <td>4</td>\n",
              "      <td>2021-10-20 10:18:02.271336</td>\n",
              "      <td>2</td>\n",
              "      <td>0</td>\n",
              "      <td>0.17</td>\n",
              "      <td>4</td>\n",
              "      <td>4</td>\n",
              "      <td>0.1081</td>\n",
              "      <td>87d47f17-25cc-4e89-9bbc-3df289eba49d_YJJI4O</td>\n",
              "      <td>OP_SE</td>\n",
              "      <td>Picadeli AB</td>\n",
              "      <td>7</td>\n",
              "      <td>9</td>\n",
              "      <td>None</td>\n",
              "      <td>None</td>\n",
              "      <td>None</td>\n",
              "      <td>True</td>\n",
              "      <td>None</td>\n",
              "      <td>None</td>\n",
              "      <td>2021-10-28 12:30:24.336803</td>\n",
              "      <td>2021-11-04 12:30:24.336803</td>\n",
              "      <td>7</td>\n",
              "      <td>3.036745</td>\n",
              "      <td>16</td>\n",
              "      <td>6.064600</td>\n",
              "      <td>3.027855</td>\n",
              "      <td>2021-11-06 12:30:24.336803</td>\n",
              "      <td>0.615320</td>\n",
              "      <td>2.086346</td>\n",
              "    </tr>\n",
              "    <tr>\n",
              "      <th>2</th>\n",
              "      <td>se</td>\n",
              "      <td>L7CJE9</td>\n",
              "      <td>Ramlösa Citrus 330ml</td>\n",
              "      <td>7310070004765,7310070766083</td>\n",
              "      <td>foodora market Östermalm</td>\n",
              "      <td>87d47f17-25cc-4e89-9bbc-3df289eba49d</td>\n",
              "      <td>True</td>\n",
              "      <td>7</td>\n",
              "      <td>20.0</td>\n",
              "      <td>1.0</td>\n",
              "      <td>344.0</td>\n",
              "      <td>2021-10-20</td>\n",
              "      <td>400.0</td>\n",
              "      <td>400.0</td>\n",
              "      <td>1.0</td>\n",
              "      <td>272.0</td>\n",
              "      <td>2021-10-21</td>\n",
              "      <td>1</td>\n",
              "      <td>556</td>\n",
              "      <td>2021-10-20 10:44:32.101852</td>\n",
              "      <td>0</td>\n",
              "      <td>NaT</td>\n",
              "      <td>556</td>\n",
              "      <td>0</td>\n",
              "      <td>1.00</td>\n",
              "      <td>1028</td>\n",
              "      <td>252</td>\n",
              "      <td>5.064</td>\n",
              "      <td>87d47f17-25cc-4e89-9bbc-3df289eba49d_L7CJE9</td>\n",
              "      <td>OP_SE</td>\n",
              "      <td>Bergendahl</td>\n",
              "      <td>2</td>\n",
              "      <td>9</td>\n",
              "      <td>True</td>\n",
              "      <td>None</td>\n",
              "      <td>True</td>\n",
              "      <td>None</td>\n",
              "      <td>True</td>\n",
              "      <td>None</td>\n",
              "      <td>2021-10-25 12:30:24.336803</td>\n",
              "      <td>2021-10-27 12:30:24.336803</td>\n",
              "      <td>4</td>\n",
              "      <td>16.217210</td>\n",
              "      <td>13</td>\n",
              "      <td>38.721631</td>\n",
              "      <td>22.504421</td>\n",
              "      <td>NaT</td>\n",
              "      <td>87.197387</td>\n",
              "      <td>223.495896</td>\n",
              "    </tr>\n",
              "    <tr>\n",
              "      <th>3</th>\n",
              "      <td>se</td>\n",
              "      <td>802VFE</td>\n",
              "      <td>Remi Mint Cookie 100g</td>\n",
              "      <td>7310525701416</td>\n",
              "      <td>foodora market Östermalm</td>\n",
              "      <td>87d47f17-25cc-4e89-9bbc-3df289eba49d</td>\n",
              "      <td>True</td>\n",
              "      <td>7</td>\n",
              "      <td>22.0</td>\n",
              "      <td>1.0</td>\n",
              "      <td>1633.0</td>\n",
              "      <td>2021-07-12</td>\n",
              "      <td>22.0</td>\n",
              "      <td>22.0</td>\n",
              "      <td>1.0</td>\n",
              "      <td>297.0</td>\n",
              "      <td>2021-10-21</td>\n",
              "      <td>0</td>\n",
              "      <td>17</td>\n",
              "      <td>2021-10-18 17:22:11.355841</td>\n",
              "      <td>0</td>\n",
              "      <td>NaT</td>\n",
              "      <td>17</td>\n",
              "      <td>0</td>\n",
              "      <td>1.00</td>\n",
              "      <td>7</td>\n",
              "      <td>1</td>\n",
              "      <td>0.0833</td>\n",
              "      <td>87d47f17-25cc-4e89-9bbc-3df289eba49d_802VFE</td>\n",
              "      <td>OP_SE</td>\n",
              "      <td>Bergendahl</td>\n",
              "      <td>2</td>\n",
              "      <td>9</td>\n",
              "      <td>True</td>\n",
              "      <td>None</td>\n",
              "      <td>True</td>\n",
              "      <td>None</td>\n",
              "      <td>True</td>\n",
              "      <td>None</td>\n",
              "      <td>2021-10-25 12:30:24.336803</td>\n",
              "      <td>2021-10-27 12:30:24.336803</td>\n",
              "      <td>4</td>\n",
              "      <td>1.034318</td>\n",
              "      <td>13</td>\n",
              "      <td>3.192781</td>\n",
              "      <td>2.158463</td>\n",
              "      <td>NaT</td>\n",
              "      <td>0.596728</td>\n",
              "      <td>1.529476</td>\n",
              "    </tr>\n",
              "    <tr>\n",
              "      <th>4</th>\n",
              "      <td>se</td>\n",
              "      <td>B12YH6</td>\n",
              "      <td>Toms Salta Hallon Stång 29 g</td>\n",
              "      <td>5774540465401</td>\n",
              "      <td>foodora market Östermalm</td>\n",
              "      <td>87d47f17-25cc-4e89-9bbc-3df289eba49d</td>\n",
              "      <td>True</td>\n",
              "      <td>7</td>\n",
              "      <td>55.0</td>\n",
              "      <td>1.0</td>\n",
              "      <td>212.0</td>\n",
              "      <td>2021-10-08</td>\n",
              "      <td>55.0</td>\n",
              "      <td>55.0</td>\n",
              "      <td>1.0</td>\n",
              "      <td>524.0</td>\n",
              "      <td>2021-10-21</td>\n",
              "      <td>1</td>\n",
              "      <td>37</td>\n",
              "      <td>2021-10-20 20:15:13.289378</td>\n",
              "      <td>0</td>\n",
              "      <td>NaT</td>\n",
              "      <td>37</td>\n",
              "      <td>0</td>\n",
              "      <td>1.00</td>\n",
              "      <td>67</td>\n",
              "      <td>16</td>\n",
              "      <td>0.3941</td>\n",
              "      <td>87d47f17-25cc-4e89-9bbc-3df289eba49d_B12YH6</td>\n",
              "      <td>OP_SE</td>\n",
              "      <td>Bergendahl</td>\n",
              "      <td>2</td>\n",
              "      <td>9</td>\n",
              "      <td>True</td>\n",
              "      <td>None</td>\n",
              "      <td>True</td>\n",
              "      <td>None</td>\n",
              "      <td>True</td>\n",
              "      <td>None</td>\n",
              "      <td>2021-10-25 12:30:24.336803</td>\n",
              "      <td>2021-10-27 12:30:24.336803</td>\n",
              "      <td>4</td>\n",
              "      <td>10.000000</td>\n",
              "      <td>13</td>\n",
              "      <td>28.000000</td>\n",
              "      <td>18.000000</td>\n",
              "      <td>2021-11-08 12:30:24.336803</td>\n",
              "      <td>2.515539</td>\n",
              "      <td>6.447587</td>\n",
              "    </tr>\n",
              "  </tbody>\n",
              "</table>\n",
              "</div>"
            ],
            "text/plain": [
              "  country_code     sku  ...       rmse safety_stock\n",
              "0           se  8930FB  ...   0.915889     2.347517\n",
              "1           se  YJJI4O  ...   0.615320     2.086346\n",
              "2           se  L7CJE9  ...  87.197387   223.495896\n",
              "3           se  802VFE  ...   0.596728     1.529476\n",
              "4           se  B12YH6  ...   2.515539     6.447587\n",
              "\n",
              "[5 rows x 49 columns]"
            ]
          },
          "metadata": {},
          "execution_count": 495
        }
      ]
    },
    {
      "cell_type": "code",
      "metadata": {
        "id": "E1_YnENzcL-d",
        "colab": {
          "base_uri": "https://localhost:8080/"
        },
        "outputId": "73d61c59-2420-41ab-ec35-69150307d0f0"
      },
      "source": [
        "products.sku.unique().shape"
      ],
      "execution_count": null,
      "outputs": [
        {
          "output_type": "execute_result",
          "data": {
            "text/plain": [
              "(2215,)"
            ]
          },
          "metadata": {},
          "execution_count": 496
        }
      ]
    },
    {
      "cell_type": "code",
      "metadata": {
        "colab": {
          "base_uri": "https://localhost:8080/",
          "height": 69
        },
        "id": "NpaPIQzIcL7b",
        "outputId": "ab796059-c0d0-4425-cd92-0e1170dfb9f3"
      },
      "source": [
        "products[products.safety_stock < 0].head()"
      ],
      "execution_count": null,
      "outputs": [
        {
          "output_type": "execute_result",
          "data": {
            "text/html": [
              "<div>\n",
              "<style scoped>\n",
              "    .dataframe tbody tr th:only-of-type {\n",
              "        vertical-align: middle;\n",
              "    }\n",
              "\n",
              "    .dataframe tbody tr th {\n",
              "        vertical-align: top;\n",
              "    }\n",
              "\n",
              "    .dataframe thead th {\n",
              "        text-align: right;\n",
              "    }\n",
              "</style>\n",
              "<table border=\"1\" class=\"dataframe\">\n",
              "  <thead>\n",
              "    <tr style=\"text-align: right;\">\n",
              "      <th></th>\n",
              "      <th>country_code</th>\n",
              "      <th>sku</th>\n",
              "      <th>product_name</th>\n",
              "      <th>barcode</th>\n",
              "      <th>store</th>\n",
              "      <th>warehouse_id</th>\n",
              "      <th>is_active</th>\n",
              "      <th>supplier_id</th>\n",
              "      <th>min_qty</th>\n",
              "      <th>preference</th>\n",
              "      <th>trade_cost_lp</th>\n",
              "      <th>latest_delivery_date</th>\n",
              "      <th>last_po_order_qty</th>\n",
              "      <th>last_po_delivered_qty</th>\n",
              "      <th>last_po_fill_rate</th>\n",
              "      <th>days_to_expiration</th>\n",
              "      <th>expiration_date</th>\n",
              "      <th>sales_buffer</th>\n",
              "      <th>stock_on_hand</th>\n",
              "      <th>on_hand_stock_date</th>\n",
              "      <th>stock_in_transit</th>\n",
              "      <th>in_transit_stock_date</th>\n",
              "      <th>on_hand_minus_transfer_req</th>\n",
              "      <th>transfer_stock</th>\n",
              "      <th>availability</th>\n",
              "      <th>units_sold</th>\n",
              "      <th>units_sold_7d</th>\n",
              "      <th>avg_units_sold</th>\n",
              "      <th>wh_sku</th>\n",
              "      <th>global_entity_id</th>\n",
              "      <th>supplier_name</th>\n",
              "      <th>lead_time</th>\n",
              "      <th>max_stock_days</th>\n",
              "      <th>delivery_mon</th>\n",
              "      <th>delivery_tue</th>\n",
              "      <th>delivery_wed</th>\n",
              "      <th>delivery_thu</th>\n",
              "      <th>delivery_fri</th>\n",
              "      <th>delivery_sat</th>\n",
              "      <th>next_delivery_date</th>\n",
              "      <th>subsequent_delivery_date</th>\n",
              "      <th>days_until_next_delivery</th>\n",
              "      <th>forecast_aggregated_days_until_next_delivery</th>\n",
              "      <th>delivery_day_plus_stock_days</th>\n",
              "      <th>forecast_aggregated_delivery_day_plus_stock_days</th>\n",
              "      <th>cycle_sales</th>\n",
              "      <th>sell_out_day</th>\n",
              "      <th>rmse</th>\n",
              "      <th>safety_stock</th>\n",
              "    </tr>\n",
              "  </thead>\n",
              "  <tbody>\n",
              "  </tbody>\n",
              "</table>\n",
              "</div>"
            ],
            "text/plain": [
              "Empty DataFrame\n",
              "Columns: [country_code, sku, product_name, barcode, store, warehouse_id, is_active, supplier_id, min_qty, preference, trade_cost_lp, latest_delivery_date, last_po_order_qty, last_po_delivered_qty, last_po_fill_rate, days_to_expiration, expiration_date, sales_buffer, stock_on_hand, on_hand_stock_date, stock_in_transit, in_transit_stock_date, on_hand_minus_transfer_req, transfer_stock, availability, units_sold, units_sold_7d, avg_units_sold, wh_sku, global_entity_id, supplier_name, lead_time, max_stock_days, delivery_mon, delivery_tue, delivery_wed, delivery_thu, delivery_fri, delivery_sat, next_delivery_date, subsequent_delivery_date, days_until_next_delivery, forecast_aggregated_days_until_next_delivery, delivery_day_plus_stock_days, forecast_aggregated_delivery_day_plus_stock_days, cycle_sales, sell_out_day, rmse, safety_stock]\n",
              "Index: []"
            ]
          },
          "metadata": {},
          "execution_count": 497
        }
      ]
    },
    {
      "cell_type": "code",
      "metadata": {
        "id": "FX2-UBDocLkj",
        "colab": {
          "base_uri": "https://localhost:8080/",
          "height": 134
        },
        "outputId": "cc9e1e62-9614-442e-96e4-eca82580a0ee"
      },
      "source": [
        "products[products['sku'] == '2F544M']"
      ],
      "execution_count": null,
      "outputs": [
        {
          "output_type": "execute_result",
          "data": {
            "text/html": [
              "<div>\n",
              "<style scoped>\n",
              "    .dataframe tbody tr th:only-of-type {\n",
              "        vertical-align: middle;\n",
              "    }\n",
              "\n",
              "    .dataframe tbody tr th {\n",
              "        vertical-align: top;\n",
              "    }\n",
              "\n",
              "    .dataframe thead th {\n",
              "        text-align: right;\n",
              "    }\n",
              "</style>\n",
              "<table border=\"1\" class=\"dataframe\">\n",
              "  <thead>\n",
              "    <tr style=\"text-align: right;\">\n",
              "      <th></th>\n",
              "      <th>country_code</th>\n",
              "      <th>sku</th>\n",
              "      <th>product_name</th>\n",
              "      <th>barcode</th>\n",
              "      <th>store</th>\n",
              "      <th>warehouse_id</th>\n",
              "      <th>is_active</th>\n",
              "      <th>supplier_id</th>\n",
              "      <th>min_qty</th>\n",
              "      <th>preference</th>\n",
              "      <th>trade_cost_lp</th>\n",
              "      <th>latest_delivery_date</th>\n",
              "      <th>last_po_order_qty</th>\n",
              "      <th>last_po_delivered_qty</th>\n",
              "      <th>last_po_fill_rate</th>\n",
              "      <th>days_to_expiration</th>\n",
              "      <th>expiration_date</th>\n",
              "      <th>sales_buffer</th>\n",
              "      <th>stock_on_hand</th>\n",
              "      <th>on_hand_stock_date</th>\n",
              "      <th>stock_in_transit</th>\n",
              "      <th>in_transit_stock_date</th>\n",
              "      <th>on_hand_minus_transfer_req</th>\n",
              "      <th>transfer_stock</th>\n",
              "      <th>availability</th>\n",
              "      <th>units_sold</th>\n",
              "      <th>units_sold_7d</th>\n",
              "      <th>avg_units_sold</th>\n",
              "      <th>wh_sku</th>\n",
              "      <th>global_entity_id</th>\n",
              "      <th>supplier_name</th>\n",
              "      <th>lead_time</th>\n",
              "      <th>max_stock_days</th>\n",
              "      <th>delivery_mon</th>\n",
              "      <th>delivery_tue</th>\n",
              "      <th>delivery_wed</th>\n",
              "      <th>delivery_thu</th>\n",
              "      <th>delivery_fri</th>\n",
              "      <th>delivery_sat</th>\n",
              "      <th>next_delivery_date</th>\n",
              "      <th>subsequent_delivery_date</th>\n",
              "      <th>days_until_next_delivery</th>\n",
              "      <th>forecast_aggregated_days_until_next_delivery</th>\n",
              "      <th>delivery_day_plus_stock_days</th>\n",
              "      <th>forecast_aggregated_delivery_day_plus_stock_days</th>\n",
              "      <th>cycle_sales</th>\n",
              "      <th>sell_out_day</th>\n",
              "      <th>rmse</th>\n",
              "      <th>safety_stock</th>\n",
              "    </tr>\n",
              "  </thead>\n",
              "  <tbody>\n",
              "    <tr>\n",
              "      <th>44</th>\n",
              "      <td>se</td>\n",
              "      <td>2F544M</td>\n",
              "      <td>Ramlösa Original 330ml</td>\n",
              "      <td>7310070766144,7310070004758</td>\n",
              "      <td>foodora market Östermalm</td>\n",
              "      <td>87d47f17-25cc-4e89-9bbc-3df289eba49d</td>\n",
              "      <td>True</td>\n",
              "      <td>7</td>\n",
              "      <td>20.0</td>\n",
              "      <td>1.0</td>\n",
              "      <td>317.0</td>\n",
              "      <td>2021-10-20</td>\n",
              "      <td>400.0</td>\n",
              "      <td>400.0</td>\n",
              "      <td>1.0</td>\n",
              "      <td>345.0</td>\n",
              "      <td>2021-10-21</td>\n",
              "      <td>1</td>\n",
              "      <td>391</td>\n",
              "      <td>2021-10-20 22:01:35.923997</td>\n",
              "      <td>100</td>\n",
              "      <td>2021-10-20 16:12:14.632979</td>\n",
              "      <td>391</td>\n",
              "      <td>0</td>\n",
              "      <td>0.91</td>\n",
              "      <td>842</td>\n",
              "      <td>276</td>\n",
              "      <td>6.3788</td>\n",
              "      <td>87d47f17-25cc-4e89-9bbc-3df289eba49d_2F544M</td>\n",
              "      <td>OP_SE</td>\n",
              "      <td>Bergendahl</td>\n",
              "      <td>2</td>\n",
              "      <td>9</td>\n",
              "      <td>True</td>\n",
              "      <td>None</td>\n",
              "      <td>True</td>\n",
              "      <td>None</td>\n",
              "      <td>True</td>\n",
              "      <td>None</td>\n",
              "      <td>2021-10-25 12:30:24.336803</td>\n",
              "      <td>2021-10-27 12:30:24.336803</td>\n",
              "      <td>4</td>\n",
              "      <td>29.921932</td>\n",
              "      <td>13</td>\n",
              "      <td>44.784931</td>\n",
              "      <td>14.863</td>\n",
              "      <td>NaT</td>\n",
              "      <td>75.974807</td>\n",
              "      <td>194.731267</td>\n",
              "    </tr>\n",
              "  </tbody>\n",
              "</table>\n",
              "</div>"
            ],
            "text/plain": [
              "   country_code     sku  ...       rmse safety_stock\n",
              "44           se  2F544M  ...  75.974807   194.731267\n",
              "\n",
              "[1 rows x 49 columns]"
            ]
          },
          "metadata": {},
          "execution_count": 498
        }
      ]
    },
    {
      "cell_type": "code",
      "metadata": {
        "id": "23rIxTEScLhc",
        "colab": {
          "base_uri": "https://localhost:8080/"
        },
        "outputId": "5d7296c8-50b7-420a-84ca-26f603d1516f"
      },
      "source": [
        "rmses[f'{warehouse_id}_L7CJE9']"
      ],
      "execution_count": null,
      "outputs": [
        {
          "output_type": "execute_result",
          "data": {
            "text/plain": [
              "87.19738695749264"
            ]
          },
          "metadata": {},
          "execution_count": 499
        }
      ]
    },
    {
      "cell_type": "code",
      "metadata": {
        "id": "PxtV-ypFcLdw"
      },
      "source": [
        ""
      ],
      "execution_count": null,
      "outputs": []
    },
    {
      "cell_type": "code",
      "metadata": {
        "id": "S8YdDSylcLaf",
        "colab": {
          "base_uri": "https://localhost:8080/"
        },
        "outputId": "83619344-cacb-4dbe-d50e-9d39b9bfefff"
      },
      "source": [
        "products.sku.unique().shape"
      ],
      "execution_count": null,
      "outputs": [
        {
          "output_type": "execute_result",
          "data": {
            "text/plain": [
              "(2215,)"
            ]
          },
          "metadata": {},
          "execution_count": 500
        }
      ]
    },
    {
      "cell_type": "code",
      "metadata": {
        "id": "C1Mk-s65cLXc"
      },
      "source": [
        ""
      ],
      "execution_count": null,
      "outputs": []
    },
    {
      "cell_type": "code",
      "metadata": {
        "id": "dOZnxBp4bE_a",
        "colab": {
          "base_uri": "https://localhost:8080/",
          "height": 394
        },
        "outputId": "532c2303-fc05-4f97-838e-1df8e286a581"
      },
      "source": [
        "#TODO calculate final units needed per product\n",
        "# consider sotck on-hand, in-transit, in-transfer\n",
        "# (cycle_sales + safety_stock) - (stock_on_hand + stock_in_transit - sales_to_delivery)\n",
        "products[\"final_need\"]  = products[\"cycle_sales\"] + products[\"safety_stock\"] - products[\"stock_in_transit\"] - products[\"stock_on_hand\"] + products[\"forecast_aggregated_days_until_next_delivery\"]\n",
        "products['final_need'] = products['final_need'].apply(lambda x: 0 if x < 0 else x)\n",
        "products[products['final_need'] == 0].head()"
      ],
      "execution_count": null,
      "outputs": [
        {
          "output_type": "execute_result",
          "data": {
            "text/html": [
              "<div>\n",
              "<style scoped>\n",
              "    .dataframe tbody tr th:only-of-type {\n",
              "        vertical-align: middle;\n",
              "    }\n",
              "\n",
              "    .dataframe tbody tr th {\n",
              "        vertical-align: top;\n",
              "    }\n",
              "\n",
              "    .dataframe thead th {\n",
              "        text-align: right;\n",
              "    }\n",
              "</style>\n",
              "<table border=\"1\" class=\"dataframe\">\n",
              "  <thead>\n",
              "    <tr style=\"text-align: right;\">\n",
              "      <th></th>\n",
              "      <th>country_code</th>\n",
              "      <th>sku</th>\n",
              "      <th>product_name</th>\n",
              "      <th>barcode</th>\n",
              "      <th>store</th>\n",
              "      <th>warehouse_id</th>\n",
              "      <th>is_active</th>\n",
              "      <th>supplier_id</th>\n",
              "      <th>min_qty</th>\n",
              "      <th>preference</th>\n",
              "      <th>trade_cost_lp</th>\n",
              "      <th>latest_delivery_date</th>\n",
              "      <th>last_po_order_qty</th>\n",
              "      <th>last_po_delivered_qty</th>\n",
              "      <th>last_po_fill_rate</th>\n",
              "      <th>days_to_expiration</th>\n",
              "      <th>expiration_date</th>\n",
              "      <th>sales_buffer</th>\n",
              "      <th>stock_on_hand</th>\n",
              "      <th>on_hand_stock_date</th>\n",
              "      <th>stock_in_transit</th>\n",
              "      <th>in_transit_stock_date</th>\n",
              "      <th>on_hand_minus_transfer_req</th>\n",
              "      <th>transfer_stock</th>\n",
              "      <th>availability</th>\n",
              "      <th>units_sold</th>\n",
              "      <th>units_sold_7d</th>\n",
              "      <th>avg_units_sold</th>\n",
              "      <th>wh_sku</th>\n",
              "      <th>global_entity_id</th>\n",
              "      <th>supplier_name</th>\n",
              "      <th>lead_time</th>\n",
              "      <th>max_stock_days</th>\n",
              "      <th>delivery_mon</th>\n",
              "      <th>delivery_tue</th>\n",
              "      <th>delivery_wed</th>\n",
              "      <th>delivery_thu</th>\n",
              "      <th>delivery_fri</th>\n",
              "      <th>delivery_sat</th>\n",
              "      <th>next_delivery_date</th>\n",
              "      <th>subsequent_delivery_date</th>\n",
              "      <th>days_until_next_delivery</th>\n",
              "      <th>forecast_aggregated_days_until_next_delivery</th>\n",
              "      <th>delivery_day_plus_stock_days</th>\n",
              "      <th>forecast_aggregated_delivery_day_plus_stock_days</th>\n",
              "      <th>cycle_sales</th>\n",
              "      <th>sell_out_day</th>\n",
              "      <th>rmse</th>\n",
              "      <th>safety_stock</th>\n",
              "      <th>final_need</th>\n",
              "    </tr>\n",
              "  </thead>\n",
              "  <tbody>\n",
              "    <tr>\n",
              "      <th>2</th>\n",
              "      <td>se</td>\n",
              "      <td>L7CJE9</td>\n",
              "      <td>Ramlösa Citrus 330ml</td>\n",
              "      <td>7310070004765,7310070766083</td>\n",
              "      <td>foodora market Östermalm</td>\n",
              "      <td>87d47f17-25cc-4e89-9bbc-3df289eba49d</td>\n",
              "      <td>True</td>\n",
              "      <td>7</td>\n",
              "      <td>20.0</td>\n",
              "      <td>1.0</td>\n",
              "      <td>344.0</td>\n",
              "      <td>2021-10-20</td>\n",
              "      <td>400.0</td>\n",
              "      <td>400.0</td>\n",
              "      <td>1.0</td>\n",
              "      <td>272.0</td>\n",
              "      <td>2021-10-21</td>\n",
              "      <td>1</td>\n",
              "      <td>556</td>\n",
              "      <td>2021-10-20 10:44:32.101852</td>\n",
              "      <td>0</td>\n",
              "      <td>NaT</td>\n",
              "      <td>556</td>\n",
              "      <td>0</td>\n",
              "      <td>1.00</td>\n",
              "      <td>1028</td>\n",
              "      <td>252</td>\n",
              "      <td>5.064</td>\n",
              "      <td>87d47f17-25cc-4e89-9bbc-3df289eba49d_L7CJE9</td>\n",
              "      <td>OP_SE</td>\n",
              "      <td>Bergendahl</td>\n",
              "      <td>2</td>\n",
              "      <td>9</td>\n",
              "      <td>True</td>\n",
              "      <td>None</td>\n",
              "      <td>True</td>\n",
              "      <td>None</td>\n",
              "      <td>True</td>\n",
              "      <td>None</td>\n",
              "      <td>2021-10-25 12:30:24.336803</td>\n",
              "      <td>2021-10-27 12:30:24.336803</td>\n",
              "      <td>4</td>\n",
              "      <td>16.217210</td>\n",
              "      <td>13</td>\n",
              "      <td>38.721631</td>\n",
              "      <td>22.504421</td>\n",
              "      <td>NaT</td>\n",
              "      <td>87.197387</td>\n",
              "      <td>223.495896</td>\n",
              "      <td>0.0</td>\n",
              "    </tr>\n",
              "    <tr>\n",
              "      <th>3</th>\n",
              "      <td>se</td>\n",
              "      <td>802VFE</td>\n",
              "      <td>Remi Mint Cookie 100g</td>\n",
              "      <td>7310525701416</td>\n",
              "      <td>foodora market Östermalm</td>\n",
              "      <td>87d47f17-25cc-4e89-9bbc-3df289eba49d</td>\n",
              "      <td>True</td>\n",
              "      <td>7</td>\n",
              "      <td>22.0</td>\n",
              "      <td>1.0</td>\n",
              "      <td>1633.0</td>\n",
              "      <td>2021-07-12</td>\n",
              "      <td>22.0</td>\n",
              "      <td>22.0</td>\n",
              "      <td>1.0</td>\n",
              "      <td>297.0</td>\n",
              "      <td>2021-10-21</td>\n",
              "      <td>0</td>\n",
              "      <td>17</td>\n",
              "      <td>2021-10-18 17:22:11.355841</td>\n",
              "      <td>0</td>\n",
              "      <td>NaT</td>\n",
              "      <td>17</td>\n",
              "      <td>0</td>\n",
              "      <td>1.00</td>\n",
              "      <td>7</td>\n",
              "      <td>1</td>\n",
              "      <td>0.0833</td>\n",
              "      <td>87d47f17-25cc-4e89-9bbc-3df289eba49d_802VFE</td>\n",
              "      <td>OP_SE</td>\n",
              "      <td>Bergendahl</td>\n",
              "      <td>2</td>\n",
              "      <td>9</td>\n",
              "      <td>True</td>\n",
              "      <td>None</td>\n",
              "      <td>True</td>\n",
              "      <td>None</td>\n",
              "      <td>True</td>\n",
              "      <td>None</td>\n",
              "      <td>2021-10-25 12:30:24.336803</td>\n",
              "      <td>2021-10-27 12:30:24.336803</td>\n",
              "      <td>4</td>\n",
              "      <td>1.034318</td>\n",
              "      <td>13</td>\n",
              "      <td>3.192781</td>\n",
              "      <td>2.158463</td>\n",
              "      <td>NaT</td>\n",
              "      <td>0.596728</td>\n",
              "      <td>1.529476</td>\n",
              "      <td>0.0</td>\n",
              "    </tr>\n",
              "    <tr>\n",
              "      <th>4</th>\n",
              "      <td>se</td>\n",
              "      <td>B12YH6</td>\n",
              "      <td>Toms Salta Hallon Stång 29 g</td>\n",
              "      <td>5774540465401</td>\n",
              "      <td>foodora market Östermalm</td>\n",
              "      <td>87d47f17-25cc-4e89-9bbc-3df289eba49d</td>\n",
              "      <td>True</td>\n",
              "      <td>7</td>\n",
              "      <td>55.0</td>\n",
              "      <td>1.0</td>\n",
              "      <td>212.0</td>\n",
              "      <td>2021-10-08</td>\n",
              "      <td>55.0</td>\n",
              "      <td>55.0</td>\n",
              "      <td>1.0</td>\n",
              "      <td>524.0</td>\n",
              "      <td>2021-10-21</td>\n",
              "      <td>1</td>\n",
              "      <td>37</td>\n",
              "      <td>2021-10-20 20:15:13.289378</td>\n",
              "      <td>0</td>\n",
              "      <td>NaT</td>\n",
              "      <td>37</td>\n",
              "      <td>0</td>\n",
              "      <td>1.00</td>\n",
              "      <td>67</td>\n",
              "      <td>16</td>\n",
              "      <td>0.3941</td>\n",
              "      <td>87d47f17-25cc-4e89-9bbc-3df289eba49d_B12YH6</td>\n",
              "      <td>OP_SE</td>\n",
              "      <td>Bergendahl</td>\n",
              "      <td>2</td>\n",
              "      <td>9</td>\n",
              "      <td>True</td>\n",
              "      <td>None</td>\n",
              "      <td>True</td>\n",
              "      <td>None</td>\n",
              "      <td>True</td>\n",
              "      <td>None</td>\n",
              "      <td>2021-10-25 12:30:24.336803</td>\n",
              "      <td>2021-10-27 12:30:24.336803</td>\n",
              "      <td>4</td>\n",
              "      <td>10.000000</td>\n",
              "      <td>13</td>\n",
              "      <td>28.000000</td>\n",
              "      <td>18.000000</td>\n",
              "      <td>2021-11-08 12:30:24.336803</td>\n",
              "      <td>2.515539</td>\n",
              "      <td>6.447587</td>\n",
              "      <td>0.0</td>\n",
              "    </tr>\n",
              "    <tr>\n",
              "      <th>6</th>\n",
              "      <td>se</td>\n",
              "      <td>A7162G</td>\n",
              "      <td>El Taco Truck Sweet Potato Burrito 170g</td>\n",
              "      <td>7350115908030</td>\n",
              "      <td>foodora market Östermalm</td>\n",
              "      <td>87d47f17-25cc-4e89-9bbc-3df289eba49d</td>\n",
              "      <td>True</td>\n",
              "      <td>13</td>\n",
              "      <td>13.0</td>\n",
              "      <td>1.0</td>\n",
              "      <td>2352.0</td>\n",
              "      <td>2021-10-13</td>\n",
              "      <td>26.0</td>\n",
              "      <td>26.0</td>\n",
              "      <td>1.0</td>\n",
              "      <td>337.0</td>\n",
              "      <td>2021-10-21</td>\n",
              "      <td>0</td>\n",
              "      <td>43</td>\n",
              "      <td>2021-10-20 21:04:21.363162</td>\n",
              "      <td>0</td>\n",
              "      <td>NaT</td>\n",
              "      <td>43</td>\n",
              "      <td>0</td>\n",
              "      <td>0.99</td>\n",
              "      <td>46</td>\n",
              "      <td>7</td>\n",
              "      <td>0.7419</td>\n",
              "      <td>87d47f17-25cc-4e89-9bbc-3df289eba49d_A7162G</td>\n",
              "      <td>OP_SE</td>\n",
              "      <td>Out of Home</td>\n",
              "      <td>7</td>\n",
              "      <td>9</td>\n",
              "      <td>None</td>\n",
              "      <td>None</td>\n",
              "      <td>True</td>\n",
              "      <td>None</td>\n",
              "      <td>None</td>\n",
              "      <td>None</td>\n",
              "      <td>2021-11-03 12:30:24.336803</td>\n",
              "      <td>2021-11-10 12:30:24.336803</td>\n",
              "      <td>13</td>\n",
              "      <td>10.000000</td>\n",
              "      <td>22</td>\n",
              "      <td>16.428571</td>\n",
              "      <td>6.428571</td>\n",
              "      <td>NaT</td>\n",
              "      <td>1.944515</td>\n",
              "      <td>8.985022</td>\n",
              "      <td>0.0</td>\n",
              "    </tr>\n",
              "    <tr>\n",
              "      <th>7</th>\n",
              "      <td>se</td>\n",
              "      <td>W9W9Q3</td>\n",
              "      <td>Marabou Drömkrisp 100g</td>\n",
              "      <td>7622210059956</td>\n",
              "      <td>foodora market Östermalm</td>\n",
              "      <td>87d47f17-25cc-4e89-9bbc-3df289eba49d</td>\n",
              "      <td>True</td>\n",
              "      <td>7</td>\n",
              "      <td>22.0</td>\n",
              "      <td>1.0</td>\n",
              "      <td>947.0</td>\n",
              "      <td>2021-09-03</td>\n",
              "      <td>66.0</td>\n",
              "      <td>66.0</td>\n",
              "      <td>1.0</td>\n",
              "      <td>NaN</td>\n",
              "      <td>2021-10-21</td>\n",
              "      <td>1</td>\n",
              "      <td>49</td>\n",
              "      <td>2021-10-16 22:03:25.152773</td>\n",
              "      <td>0</td>\n",
              "      <td>NaT</td>\n",
              "      <td>49</td>\n",
              "      <td>0</td>\n",
              "      <td>1.00</td>\n",
              "      <td>35</td>\n",
              "      <td>4</td>\n",
              "      <td>0.1122</td>\n",
              "      <td>87d47f17-25cc-4e89-9bbc-3df289eba49d_W9W9Q3</td>\n",
              "      <td>OP_SE</td>\n",
              "      <td>Bergendahl</td>\n",
              "      <td>2</td>\n",
              "      <td>9</td>\n",
              "      <td>True</td>\n",
              "      <td>None</td>\n",
              "      <td>True</td>\n",
              "      <td>None</td>\n",
              "      <td>True</td>\n",
              "      <td>None</td>\n",
              "      <td>2021-10-25 12:30:24.336803</td>\n",
              "      <td>2021-10-27 12:30:24.336803</td>\n",
              "      <td>4</td>\n",
              "      <td>2.857143</td>\n",
              "      <td>13</td>\n",
              "      <td>8.000000</td>\n",
              "      <td>5.142857</td>\n",
              "      <td>NaT</td>\n",
              "      <td>1.644436</td>\n",
              "      <td>4.214858</td>\n",
              "      <td>0.0</td>\n",
              "    </tr>\n",
              "  </tbody>\n",
              "</table>\n",
              "</div>"
            ],
            "text/plain": [
              "  country_code     sku  ... safety_stock final_need\n",
              "2           se  L7CJE9  ...   223.495896        0.0\n",
              "3           se  802VFE  ...     1.529476        0.0\n",
              "4           se  B12YH6  ...     6.447587        0.0\n",
              "6           se  A7162G  ...     8.985022        0.0\n",
              "7           se  W9W9Q3  ...     4.214858        0.0\n",
              "\n",
              "[5 rows x 50 columns]"
            ]
          },
          "metadata": {},
          "execution_count": 501
        }
      ]
    },
    {
      "cell_type": "code",
      "metadata": {
        "id": "4AEt8b6qbJdp",
        "colab": {
          "base_uri": "https://localhost:8080/",
          "height": 411
        },
        "outputId": "ab7a01cc-5e50-41b7-ee02-23160762555f"
      },
      "source": [
        "#TODO calculate final packs needed per product\n",
        "# total units/pack size, rounded to next pack (always round up!)\n",
        "products[\"final_packs\"] = (products[\"final_need\"] / products[\"min_qty\"]).apply(np.ceil)\n",
        "products.head()"
      ],
      "execution_count": null,
      "outputs": [
        {
          "output_type": "execute_result",
          "data": {
            "text/html": [
              "<div>\n",
              "<style scoped>\n",
              "    .dataframe tbody tr th:only-of-type {\n",
              "        vertical-align: middle;\n",
              "    }\n",
              "\n",
              "    .dataframe tbody tr th {\n",
              "        vertical-align: top;\n",
              "    }\n",
              "\n",
              "    .dataframe thead th {\n",
              "        text-align: right;\n",
              "    }\n",
              "</style>\n",
              "<table border=\"1\" class=\"dataframe\">\n",
              "  <thead>\n",
              "    <tr style=\"text-align: right;\">\n",
              "      <th></th>\n",
              "      <th>country_code</th>\n",
              "      <th>sku</th>\n",
              "      <th>product_name</th>\n",
              "      <th>barcode</th>\n",
              "      <th>store</th>\n",
              "      <th>warehouse_id</th>\n",
              "      <th>is_active</th>\n",
              "      <th>supplier_id</th>\n",
              "      <th>min_qty</th>\n",
              "      <th>preference</th>\n",
              "      <th>trade_cost_lp</th>\n",
              "      <th>latest_delivery_date</th>\n",
              "      <th>last_po_order_qty</th>\n",
              "      <th>last_po_delivered_qty</th>\n",
              "      <th>last_po_fill_rate</th>\n",
              "      <th>days_to_expiration</th>\n",
              "      <th>expiration_date</th>\n",
              "      <th>sales_buffer</th>\n",
              "      <th>stock_on_hand</th>\n",
              "      <th>on_hand_stock_date</th>\n",
              "      <th>stock_in_transit</th>\n",
              "      <th>in_transit_stock_date</th>\n",
              "      <th>on_hand_minus_transfer_req</th>\n",
              "      <th>transfer_stock</th>\n",
              "      <th>availability</th>\n",
              "      <th>units_sold</th>\n",
              "      <th>units_sold_7d</th>\n",
              "      <th>avg_units_sold</th>\n",
              "      <th>wh_sku</th>\n",
              "      <th>global_entity_id</th>\n",
              "      <th>supplier_name</th>\n",
              "      <th>lead_time</th>\n",
              "      <th>max_stock_days</th>\n",
              "      <th>delivery_mon</th>\n",
              "      <th>delivery_tue</th>\n",
              "      <th>delivery_wed</th>\n",
              "      <th>delivery_thu</th>\n",
              "      <th>delivery_fri</th>\n",
              "      <th>delivery_sat</th>\n",
              "      <th>next_delivery_date</th>\n",
              "      <th>subsequent_delivery_date</th>\n",
              "      <th>days_until_next_delivery</th>\n",
              "      <th>forecast_aggregated_days_until_next_delivery</th>\n",
              "      <th>delivery_day_plus_stock_days</th>\n",
              "      <th>forecast_aggregated_delivery_day_plus_stock_days</th>\n",
              "      <th>cycle_sales</th>\n",
              "      <th>sell_out_day</th>\n",
              "      <th>rmse</th>\n",
              "      <th>safety_stock</th>\n",
              "      <th>final_need</th>\n",
              "      <th>final_packs</th>\n",
              "    </tr>\n",
              "  </thead>\n",
              "  <tbody>\n",
              "    <tr>\n",
              "      <th>0</th>\n",
              "      <td>se</td>\n",
              "      <td>8930FB</td>\n",
              "      <td>Findus nFine fillets of cod MSC 375g</td>\n",
              "      <td>7310500184302</td>\n",
              "      <td>foodora market Östermalm</td>\n",
              "      <td>87d47f17-25cc-4e89-9bbc-3df289eba49d</td>\n",
              "      <td>True</td>\n",
              "      <td>7</td>\n",
              "      <td>11.0</td>\n",
              "      <td>1.0</td>\n",
              "      <td>4818.0</td>\n",
              "      <td>2021-10-06</td>\n",
              "      <td>11.0</td>\n",
              "      <td>11.0</td>\n",
              "      <td>1.0</td>\n",
              "      <td>452.0</td>\n",
              "      <td>2021-10-21</td>\n",
              "      <td>0</td>\n",
              "      <td>3</td>\n",
              "      <td>2021-10-20 09:19:39.465032</td>\n",
              "      <td>0</td>\n",
              "      <td>NaT</td>\n",
              "      <td>3</td>\n",
              "      <td>0</td>\n",
              "      <td>1.00</td>\n",
              "      <td>15</td>\n",
              "      <td>3</td>\n",
              "      <td>0.3261</td>\n",
              "      <td>87d47f17-25cc-4e89-9bbc-3df289eba49d_8930FB</td>\n",
              "      <td>OP_SE</td>\n",
              "      <td>Bergendahl</td>\n",
              "      <td>2</td>\n",
              "      <td>9</td>\n",
              "      <td>True</td>\n",
              "      <td>None</td>\n",
              "      <td>True</td>\n",
              "      <td>None</td>\n",
              "      <td>True</td>\n",
              "      <td>None</td>\n",
              "      <td>2021-10-25 12:30:24.336803</td>\n",
              "      <td>2021-10-27 12:30:24.336803</td>\n",
              "      <td>4</td>\n",
              "      <td>1.924690</td>\n",
              "      <td>13</td>\n",
              "      <td>5.659314</td>\n",
              "      <td>3.734624</td>\n",
              "      <td>2021-10-28 12:30:24.336803</td>\n",
              "      <td>0.915889</td>\n",
              "      <td>2.347517</td>\n",
              "      <td>5.006831</td>\n",
              "      <td>1.0</td>\n",
              "    </tr>\n",
              "    <tr>\n",
              "      <th>1</th>\n",
              "      <td>se</td>\n",
              "      <td>YJJI4O</td>\n",
              "      <td>Greendeli Yoghurt Granola honung  210g</td>\n",
              "      <td>7350035639656</td>\n",
              "      <td>foodora market Östermalm</td>\n",
              "      <td>87d47f17-25cc-4e89-9bbc-3df289eba49d</td>\n",
              "      <td>True</td>\n",
              "      <td>34</td>\n",
              "      <td>1.0</td>\n",
              "      <td>1.0</td>\n",
              "      <td>1912.0</td>\n",
              "      <td>2021-10-20</td>\n",
              "      <td>2.0</td>\n",
              "      <td>2.0</td>\n",
              "      <td>1.0</td>\n",
              "      <td>6.0</td>\n",
              "      <td>2021-10-21</td>\n",
              "      <td>0</td>\n",
              "      <td>2</td>\n",
              "      <td>2021-10-20 07:32:19.354187</td>\n",
              "      <td>4</td>\n",
              "      <td>2021-10-20 10:18:02.271336</td>\n",
              "      <td>2</td>\n",
              "      <td>0</td>\n",
              "      <td>0.17</td>\n",
              "      <td>4</td>\n",
              "      <td>4</td>\n",
              "      <td>0.1081</td>\n",
              "      <td>87d47f17-25cc-4e89-9bbc-3df289eba49d_YJJI4O</td>\n",
              "      <td>OP_SE</td>\n",
              "      <td>Picadeli AB</td>\n",
              "      <td>7</td>\n",
              "      <td>9</td>\n",
              "      <td>None</td>\n",
              "      <td>None</td>\n",
              "      <td>None</td>\n",
              "      <td>True</td>\n",
              "      <td>None</td>\n",
              "      <td>None</td>\n",
              "      <td>2021-10-28 12:30:24.336803</td>\n",
              "      <td>2021-11-04 12:30:24.336803</td>\n",
              "      <td>7</td>\n",
              "      <td>3.036745</td>\n",
              "      <td>16</td>\n",
              "      <td>6.064600</td>\n",
              "      <td>3.027855</td>\n",
              "      <td>2021-11-06 12:30:24.336803</td>\n",
              "      <td>0.615320</td>\n",
              "      <td>2.086346</td>\n",
              "      <td>2.150946</td>\n",
              "      <td>3.0</td>\n",
              "    </tr>\n",
              "    <tr>\n",
              "      <th>2</th>\n",
              "      <td>se</td>\n",
              "      <td>L7CJE9</td>\n",
              "      <td>Ramlösa Citrus 330ml</td>\n",
              "      <td>7310070004765,7310070766083</td>\n",
              "      <td>foodora market Östermalm</td>\n",
              "      <td>87d47f17-25cc-4e89-9bbc-3df289eba49d</td>\n",
              "      <td>True</td>\n",
              "      <td>7</td>\n",
              "      <td>20.0</td>\n",
              "      <td>1.0</td>\n",
              "      <td>344.0</td>\n",
              "      <td>2021-10-20</td>\n",
              "      <td>400.0</td>\n",
              "      <td>400.0</td>\n",
              "      <td>1.0</td>\n",
              "      <td>272.0</td>\n",
              "      <td>2021-10-21</td>\n",
              "      <td>1</td>\n",
              "      <td>556</td>\n",
              "      <td>2021-10-20 10:44:32.101852</td>\n",
              "      <td>0</td>\n",
              "      <td>NaT</td>\n",
              "      <td>556</td>\n",
              "      <td>0</td>\n",
              "      <td>1.00</td>\n",
              "      <td>1028</td>\n",
              "      <td>252</td>\n",
              "      <td>5.064</td>\n",
              "      <td>87d47f17-25cc-4e89-9bbc-3df289eba49d_L7CJE9</td>\n",
              "      <td>OP_SE</td>\n",
              "      <td>Bergendahl</td>\n",
              "      <td>2</td>\n",
              "      <td>9</td>\n",
              "      <td>True</td>\n",
              "      <td>None</td>\n",
              "      <td>True</td>\n",
              "      <td>None</td>\n",
              "      <td>True</td>\n",
              "      <td>None</td>\n",
              "      <td>2021-10-25 12:30:24.336803</td>\n",
              "      <td>2021-10-27 12:30:24.336803</td>\n",
              "      <td>4</td>\n",
              "      <td>16.217210</td>\n",
              "      <td>13</td>\n",
              "      <td>38.721631</td>\n",
              "      <td>22.504421</td>\n",
              "      <td>NaT</td>\n",
              "      <td>87.197387</td>\n",
              "      <td>223.495896</td>\n",
              "      <td>0.000000</td>\n",
              "      <td>0.0</td>\n",
              "    </tr>\n",
              "    <tr>\n",
              "      <th>3</th>\n",
              "      <td>se</td>\n",
              "      <td>802VFE</td>\n",
              "      <td>Remi Mint Cookie 100g</td>\n",
              "      <td>7310525701416</td>\n",
              "      <td>foodora market Östermalm</td>\n",
              "      <td>87d47f17-25cc-4e89-9bbc-3df289eba49d</td>\n",
              "      <td>True</td>\n",
              "      <td>7</td>\n",
              "      <td>22.0</td>\n",
              "      <td>1.0</td>\n",
              "      <td>1633.0</td>\n",
              "      <td>2021-07-12</td>\n",
              "      <td>22.0</td>\n",
              "      <td>22.0</td>\n",
              "      <td>1.0</td>\n",
              "      <td>297.0</td>\n",
              "      <td>2021-10-21</td>\n",
              "      <td>0</td>\n",
              "      <td>17</td>\n",
              "      <td>2021-10-18 17:22:11.355841</td>\n",
              "      <td>0</td>\n",
              "      <td>NaT</td>\n",
              "      <td>17</td>\n",
              "      <td>0</td>\n",
              "      <td>1.00</td>\n",
              "      <td>7</td>\n",
              "      <td>1</td>\n",
              "      <td>0.0833</td>\n",
              "      <td>87d47f17-25cc-4e89-9bbc-3df289eba49d_802VFE</td>\n",
              "      <td>OP_SE</td>\n",
              "      <td>Bergendahl</td>\n",
              "      <td>2</td>\n",
              "      <td>9</td>\n",
              "      <td>True</td>\n",
              "      <td>None</td>\n",
              "      <td>True</td>\n",
              "      <td>None</td>\n",
              "      <td>True</td>\n",
              "      <td>None</td>\n",
              "      <td>2021-10-25 12:30:24.336803</td>\n",
              "      <td>2021-10-27 12:30:24.336803</td>\n",
              "      <td>4</td>\n",
              "      <td>1.034318</td>\n",
              "      <td>13</td>\n",
              "      <td>3.192781</td>\n",
              "      <td>2.158463</td>\n",
              "      <td>NaT</td>\n",
              "      <td>0.596728</td>\n",
              "      <td>1.529476</td>\n",
              "      <td>0.000000</td>\n",
              "      <td>0.0</td>\n",
              "    </tr>\n",
              "    <tr>\n",
              "      <th>4</th>\n",
              "      <td>se</td>\n",
              "      <td>B12YH6</td>\n",
              "      <td>Toms Salta Hallon Stång 29 g</td>\n",
              "      <td>5774540465401</td>\n",
              "      <td>foodora market Östermalm</td>\n",
              "      <td>87d47f17-25cc-4e89-9bbc-3df289eba49d</td>\n",
              "      <td>True</td>\n",
              "      <td>7</td>\n",
              "      <td>55.0</td>\n",
              "      <td>1.0</td>\n",
              "      <td>212.0</td>\n",
              "      <td>2021-10-08</td>\n",
              "      <td>55.0</td>\n",
              "      <td>55.0</td>\n",
              "      <td>1.0</td>\n",
              "      <td>524.0</td>\n",
              "      <td>2021-10-21</td>\n",
              "      <td>1</td>\n",
              "      <td>37</td>\n",
              "      <td>2021-10-20 20:15:13.289378</td>\n",
              "      <td>0</td>\n",
              "      <td>NaT</td>\n",
              "      <td>37</td>\n",
              "      <td>0</td>\n",
              "      <td>1.00</td>\n",
              "      <td>67</td>\n",
              "      <td>16</td>\n",
              "      <td>0.3941</td>\n",
              "      <td>87d47f17-25cc-4e89-9bbc-3df289eba49d_B12YH6</td>\n",
              "      <td>OP_SE</td>\n",
              "      <td>Bergendahl</td>\n",
              "      <td>2</td>\n",
              "      <td>9</td>\n",
              "      <td>True</td>\n",
              "      <td>None</td>\n",
              "      <td>True</td>\n",
              "      <td>None</td>\n",
              "      <td>True</td>\n",
              "      <td>None</td>\n",
              "      <td>2021-10-25 12:30:24.336803</td>\n",
              "      <td>2021-10-27 12:30:24.336803</td>\n",
              "      <td>4</td>\n",
              "      <td>10.000000</td>\n",
              "      <td>13</td>\n",
              "      <td>28.000000</td>\n",
              "      <td>18.000000</td>\n",
              "      <td>2021-11-08 12:30:24.336803</td>\n",
              "      <td>2.515539</td>\n",
              "      <td>6.447587</td>\n",
              "      <td>0.000000</td>\n",
              "      <td>0.0</td>\n",
              "    </tr>\n",
              "  </tbody>\n",
              "</table>\n",
              "</div>"
            ],
            "text/plain": [
              "  country_code     sku  ... final_need final_packs\n",
              "0           se  8930FB  ...   5.006831         1.0\n",
              "1           se  YJJI4O  ...   2.150946         3.0\n",
              "2           se  L7CJE9  ...   0.000000         0.0\n",
              "3           se  802VFE  ...   0.000000         0.0\n",
              "4           se  B12YH6  ...   0.000000         0.0\n",
              "\n",
              "[5 rows x 51 columns]"
            ]
          },
          "metadata": {},
          "execution_count": 502
        }
      ]
    },
    {
      "cell_type": "code",
      "metadata": {
        "id": "_LFrYdQVYUrl",
        "colab": {
          "base_uri": "https://localhost:8080/"
        },
        "outputId": "8d38068b-8a3f-4e40-84c5-4def0cdcf983"
      },
      "source": [
        "products[products['sku'] == 'L7CJE9'].shape"
      ],
      "execution_count": null,
      "outputs": [
        {
          "output_type": "execute_result",
          "data": {
            "text/plain": [
              "(1, 51)"
            ]
          },
          "metadata": {},
          "execution_count": 503
        }
      ]
    },
    {
      "cell_type": "code",
      "metadata": {
        "id": "CGGf2PoOYUpi"
      },
      "source": [
        ""
      ],
      "execution_count": null,
      "outputs": []
    },
    {
      "cell_type": "code",
      "metadata": {
        "id": "vFiTdjVbYUbI"
      },
      "source": [
        ""
      ],
      "execution_count": null,
      "outputs": []
    },
    {
      "cell_type": "code",
      "metadata": {
        "id": "D_tRuN_HbPlw",
        "colab": {
          "base_uri": "https://localhost:8080/",
          "height": 411
        },
        "outputId": "a7163e70-cf4a-4234-b910-26997e7fe964"
      },
      "source": [
        "#TODO calculate total $$ amount needed (unit price * quantity needed)\n",
        "products[\"total_amount_needed\"] = products[\"trade_cost_lp\"] * products[\"min_qty\"] * products[\"final_packs\"]. apply(np.ceil)\n",
        "products.head()\n"
      ],
      "execution_count": null,
      "outputs": [
        {
          "output_type": "execute_result",
          "data": {
            "text/html": [
              "<div>\n",
              "<style scoped>\n",
              "    .dataframe tbody tr th:only-of-type {\n",
              "        vertical-align: middle;\n",
              "    }\n",
              "\n",
              "    .dataframe tbody tr th {\n",
              "        vertical-align: top;\n",
              "    }\n",
              "\n",
              "    .dataframe thead th {\n",
              "        text-align: right;\n",
              "    }\n",
              "</style>\n",
              "<table border=\"1\" class=\"dataframe\">\n",
              "  <thead>\n",
              "    <tr style=\"text-align: right;\">\n",
              "      <th></th>\n",
              "      <th>country_code</th>\n",
              "      <th>sku</th>\n",
              "      <th>product_name</th>\n",
              "      <th>barcode</th>\n",
              "      <th>store</th>\n",
              "      <th>warehouse_id</th>\n",
              "      <th>is_active</th>\n",
              "      <th>supplier_id</th>\n",
              "      <th>min_qty</th>\n",
              "      <th>preference</th>\n",
              "      <th>trade_cost_lp</th>\n",
              "      <th>latest_delivery_date</th>\n",
              "      <th>last_po_order_qty</th>\n",
              "      <th>last_po_delivered_qty</th>\n",
              "      <th>last_po_fill_rate</th>\n",
              "      <th>days_to_expiration</th>\n",
              "      <th>expiration_date</th>\n",
              "      <th>sales_buffer</th>\n",
              "      <th>stock_on_hand</th>\n",
              "      <th>on_hand_stock_date</th>\n",
              "      <th>stock_in_transit</th>\n",
              "      <th>in_transit_stock_date</th>\n",
              "      <th>on_hand_minus_transfer_req</th>\n",
              "      <th>transfer_stock</th>\n",
              "      <th>availability</th>\n",
              "      <th>units_sold</th>\n",
              "      <th>units_sold_7d</th>\n",
              "      <th>avg_units_sold</th>\n",
              "      <th>wh_sku</th>\n",
              "      <th>global_entity_id</th>\n",
              "      <th>supplier_name</th>\n",
              "      <th>lead_time</th>\n",
              "      <th>max_stock_days</th>\n",
              "      <th>delivery_mon</th>\n",
              "      <th>delivery_tue</th>\n",
              "      <th>delivery_wed</th>\n",
              "      <th>delivery_thu</th>\n",
              "      <th>delivery_fri</th>\n",
              "      <th>delivery_sat</th>\n",
              "      <th>next_delivery_date</th>\n",
              "      <th>subsequent_delivery_date</th>\n",
              "      <th>days_until_next_delivery</th>\n",
              "      <th>forecast_aggregated_days_until_next_delivery</th>\n",
              "      <th>delivery_day_plus_stock_days</th>\n",
              "      <th>forecast_aggregated_delivery_day_plus_stock_days</th>\n",
              "      <th>cycle_sales</th>\n",
              "      <th>sell_out_day</th>\n",
              "      <th>rmse</th>\n",
              "      <th>safety_stock</th>\n",
              "      <th>final_need</th>\n",
              "      <th>final_packs</th>\n",
              "      <th>total_amount_needed</th>\n",
              "    </tr>\n",
              "  </thead>\n",
              "  <tbody>\n",
              "    <tr>\n",
              "      <th>0</th>\n",
              "      <td>se</td>\n",
              "      <td>8930FB</td>\n",
              "      <td>Findus nFine fillets of cod MSC 375g</td>\n",
              "      <td>7310500184302</td>\n",
              "      <td>foodora market Östermalm</td>\n",
              "      <td>87d47f17-25cc-4e89-9bbc-3df289eba49d</td>\n",
              "      <td>True</td>\n",
              "      <td>7</td>\n",
              "      <td>11.0</td>\n",
              "      <td>1.0</td>\n",
              "      <td>4818.0</td>\n",
              "      <td>2021-10-06</td>\n",
              "      <td>11.0</td>\n",
              "      <td>11.0</td>\n",
              "      <td>1.0</td>\n",
              "      <td>452.0</td>\n",
              "      <td>2021-10-21</td>\n",
              "      <td>0</td>\n",
              "      <td>3</td>\n",
              "      <td>2021-10-20 09:19:39.465032</td>\n",
              "      <td>0</td>\n",
              "      <td>NaT</td>\n",
              "      <td>3</td>\n",
              "      <td>0</td>\n",
              "      <td>1.00</td>\n",
              "      <td>15</td>\n",
              "      <td>3</td>\n",
              "      <td>0.3261</td>\n",
              "      <td>87d47f17-25cc-4e89-9bbc-3df289eba49d_8930FB</td>\n",
              "      <td>OP_SE</td>\n",
              "      <td>Bergendahl</td>\n",
              "      <td>2</td>\n",
              "      <td>9</td>\n",
              "      <td>True</td>\n",
              "      <td>None</td>\n",
              "      <td>True</td>\n",
              "      <td>None</td>\n",
              "      <td>True</td>\n",
              "      <td>None</td>\n",
              "      <td>2021-10-25 12:30:24.336803</td>\n",
              "      <td>2021-10-27 12:30:24.336803</td>\n",
              "      <td>4</td>\n",
              "      <td>1.924690</td>\n",
              "      <td>13</td>\n",
              "      <td>5.659314</td>\n",
              "      <td>3.734624</td>\n",
              "      <td>2021-10-28 12:30:24.336803</td>\n",
              "      <td>0.915889</td>\n",
              "      <td>2.347517</td>\n",
              "      <td>5.006831</td>\n",
              "      <td>1.0</td>\n",
              "      <td>52998.0</td>\n",
              "    </tr>\n",
              "    <tr>\n",
              "      <th>1</th>\n",
              "      <td>se</td>\n",
              "      <td>YJJI4O</td>\n",
              "      <td>Greendeli Yoghurt Granola honung  210g</td>\n",
              "      <td>7350035639656</td>\n",
              "      <td>foodora market Östermalm</td>\n",
              "      <td>87d47f17-25cc-4e89-9bbc-3df289eba49d</td>\n",
              "      <td>True</td>\n",
              "      <td>34</td>\n",
              "      <td>1.0</td>\n",
              "      <td>1.0</td>\n",
              "      <td>1912.0</td>\n",
              "      <td>2021-10-20</td>\n",
              "      <td>2.0</td>\n",
              "      <td>2.0</td>\n",
              "      <td>1.0</td>\n",
              "      <td>6.0</td>\n",
              "      <td>2021-10-21</td>\n",
              "      <td>0</td>\n",
              "      <td>2</td>\n",
              "      <td>2021-10-20 07:32:19.354187</td>\n",
              "      <td>4</td>\n",
              "      <td>2021-10-20 10:18:02.271336</td>\n",
              "      <td>2</td>\n",
              "      <td>0</td>\n",
              "      <td>0.17</td>\n",
              "      <td>4</td>\n",
              "      <td>4</td>\n",
              "      <td>0.1081</td>\n",
              "      <td>87d47f17-25cc-4e89-9bbc-3df289eba49d_YJJI4O</td>\n",
              "      <td>OP_SE</td>\n",
              "      <td>Picadeli AB</td>\n",
              "      <td>7</td>\n",
              "      <td>9</td>\n",
              "      <td>None</td>\n",
              "      <td>None</td>\n",
              "      <td>None</td>\n",
              "      <td>True</td>\n",
              "      <td>None</td>\n",
              "      <td>None</td>\n",
              "      <td>2021-10-28 12:30:24.336803</td>\n",
              "      <td>2021-11-04 12:30:24.336803</td>\n",
              "      <td>7</td>\n",
              "      <td>3.036745</td>\n",
              "      <td>16</td>\n",
              "      <td>6.064600</td>\n",
              "      <td>3.027855</td>\n",
              "      <td>2021-11-06 12:30:24.336803</td>\n",
              "      <td>0.615320</td>\n",
              "      <td>2.086346</td>\n",
              "      <td>2.150946</td>\n",
              "      <td>3.0</td>\n",
              "      <td>5736.0</td>\n",
              "    </tr>\n",
              "    <tr>\n",
              "      <th>2</th>\n",
              "      <td>se</td>\n",
              "      <td>L7CJE9</td>\n",
              "      <td>Ramlösa Citrus 330ml</td>\n",
              "      <td>7310070004765,7310070766083</td>\n",
              "      <td>foodora market Östermalm</td>\n",
              "      <td>87d47f17-25cc-4e89-9bbc-3df289eba49d</td>\n",
              "      <td>True</td>\n",
              "      <td>7</td>\n",
              "      <td>20.0</td>\n",
              "      <td>1.0</td>\n",
              "      <td>344.0</td>\n",
              "      <td>2021-10-20</td>\n",
              "      <td>400.0</td>\n",
              "      <td>400.0</td>\n",
              "      <td>1.0</td>\n",
              "      <td>272.0</td>\n",
              "      <td>2021-10-21</td>\n",
              "      <td>1</td>\n",
              "      <td>556</td>\n",
              "      <td>2021-10-20 10:44:32.101852</td>\n",
              "      <td>0</td>\n",
              "      <td>NaT</td>\n",
              "      <td>556</td>\n",
              "      <td>0</td>\n",
              "      <td>1.00</td>\n",
              "      <td>1028</td>\n",
              "      <td>252</td>\n",
              "      <td>5.064</td>\n",
              "      <td>87d47f17-25cc-4e89-9bbc-3df289eba49d_L7CJE9</td>\n",
              "      <td>OP_SE</td>\n",
              "      <td>Bergendahl</td>\n",
              "      <td>2</td>\n",
              "      <td>9</td>\n",
              "      <td>True</td>\n",
              "      <td>None</td>\n",
              "      <td>True</td>\n",
              "      <td>None</td>\n",
              "      <td>True</td>\n",
              "      <td>None</td>\n",
              "      <td>2021-10-25 12:30:24.336803</td>\n",
              "      <td>2021-10-27 12:30:24.336803</td>\n",
              "      <td>4</td>\n",
              "      <td>16.217210</td>\n",
              "      <td>13</td>\n",
              "      <td>38.721631</td>\n",
              "      <td>22.504421</td>\n",
              "      <td>NaT</td>\n",
              "      <td>87.197387</td>\n",
              "      <td>223.495896</td>\n",
              "      <td>0.000000</td>\n",
              "      <td>0.0</td>\n",
              "      <td>0.0</td>\n",
              "    </tr>\n",
              "    <tr>\n",
              "      <th>3</th>\n",
              "      <td>se</td>\n",
              "      <td>802VFE</td>\n",
              "      <td>Remi Mint Cookie 100g</td>\n",
              "      <td>7310525701416</td>\n",
              "      <td>foodora market Östermalm</td>\n",
              "      <td>87d47f17-25cc-4e89-9bbc-3df289eba49d</td>\n",
              "      <td>True</td>\n",
              "      <td>7</td>\n",
              "      <td>22.0</td>\n",
              "      <td>1.0</td>\n",
              "      <td>1633.0</td>\n",
              "      <td>2021-07-12</td>\n",
              "      <td>22.0</td>\n",
              "      <td>22.0</td>\n",
              "      <td>1.0</td>\n",
              "      <td>297.0</td>\n",
              "      <td>2021-10-21</td>\n",
              "      <td>0</td>\n",
              "      <td>17</td>\n",
              "      <td>2021-10-18 17:22:11.355841</td>\n",
              "      <td>0</td>\n",
              "      <td>NaT</td>\n",
              "      <td>17</td>\n",
              "      <td>0</td>\n",
              "      <td>1.00</td>\n",
              "      <td>7</td>\n",
              "      <td>1</td>\n",
              "      <td>0.0833</td>\n",
              "      <td>87d47f17-25cc-4e89-9bbc-3df289eba49d_802VFE</td>\n",
              "      <td>OP_SE</td>\n",
              "      <td>Bergendahl</td>\n",
              "      <td>2</td>\n",
              "      <td>9</td>\n",
              "      <td>True</td>\n",
              "      <td>None</td>\n",
              "      <td>True</td>\n",
              "      <td>None</td>\n",
              "      <td>True</td>\n",
              "      <td>None</td>\n",
              "      <td>2021-10-25 12:30:24.336803</td>\n",
              "      <td>2021-10-27 12:30:24.336803</td>\n",
              "      <td>4</td>\n",
              "      <td>1.034318</td>\n",
              "      <td>13</td>\n",
              "      <td>3.192781</td>\n",
              "      <td>2.158463</td>\n",
              "      <td>NaT</td>\n",
              "      <td>0.596728</td>\n",
              "      <td>1.529476</td>\n",
              "      <td>0.000000</td>\n",
              "      <td>0.0</td>\n",
              "      <td>0.0</td>\n",
              "    </tr>\n",
              "    <tr>\n",
              "      <th>4</th>\n",
              "      <td>se</td>\n",
              "      <td>B12YH6</td>\n",
              "      <td>Toms Salta Hallon Stång 29 g</td>\n",
              "      <td>5774540465401</td>\n",
              "      <td>foodora market Östermalm</td>\n",
              "      <td>87d47f17-25cc-4e89-9bbc-3df289eba49d</td>\n",
              "      <td>True</td>\n",
              "      <td>7</td>\n",
              "      <td>55.0</td>\n",
              "      <td>1.0</td>\n",
              "      <td>212.0</td>\n",
              "      <td>2021-10-08</td>\n",
              "      <td>55.0</td>\n",
              "      <td>55.0</td>\n",
              "      <td>1.0</td>\n",
              "      <td>524.0</td>\n",
              "      <td>2021-10-21</td>\n",
              "      <td>1</td>\n",
              "      <td>37</td>\n",
              "      <td>2021-10-20 20:15:13.289378</td>\n",
              "      <td>0</td>\n",
              "      <td>NaT</td>\n",
              "      <td>37</td>\n",
              "      <td>0</td>\n",
              "      <td>1.00</td>\n",
              "      <td>67</td>\n",
              "      <td>16</td>\n",
              "      <td>0.3941</td>\n",
              "      <td>87d47f17-25cc-4e89-9bbc-3df289eba49d_B12YH6</td>\n",
              "      <td>OP_SE</td>\n",
              "      <td>Bergendahl</td>\n",
              "      <td>2</td>\n",
              "      <td>9</td>\n",
              "      <td>True</td>\n",
              "      <td>None</td>\n",
              "      <td>True</td>\n",
              "      <td>None</td>\n",
              "      <td>True</td>\n",
              "      <td>None</td>\n",
              "      <td>2021-10-25 12:30:24.336803</td>\n",
              "      <td>2021-10-27 12:30:24.336803</td>\n",
              "      <td>4</td>\n",
              "      <td>10.000000</td>\n",
              "      <td>13</td>\n",
              "      <td>28.000000</td>\n",
              "      <td>18.000000</td>\n",
              "      <td>2021-11-08 12:30:24.336803</td>\n",
              "      <td>2.515539</td>\n",
              "      <td>6.447587</td>\n",
              "      <td>0.000000</td>\n",
              "      <td>0.0</td>\n",
              "      <td>0.0</td>\n",
              "    </tr>\n",
              "  </tbody>\n",
              "</table>\n",
              "</div>"
            ],
            "text/plain": [
              "  country_code     sku  ... final_packs total_amount_needed\n",
              "0           se  8930FB  ...         1.0             52998.0\n",
              "1           se  YJJI4O  ...         3.0              5736.0\n",
              "2           se  L7CJE9  ...         0.0                 0.0\n",
              "3           se  802VFE  ...         0.0                 0.0\n",
              "4           se  B12YH6  ...         0.0                 0.0\n",
              "\n",
              "[5 rows x 52 columns]"
            ]
          },
          "metadata": {},
          "execution_count": 504
        }
      ]
    },
    {
      "cell_type": "code",
      "metadata": {
        "id": "L6sJ5Rw7hadW"
      },
      "source": [
        ""
      ],
      "execution_count": null,
      "outputs": []
    },
    {
      "cell_type": "code",
      "metadata": {
        "id": "A9xhQkHthaVd"
      },
      "source": [
        ""
      ],
      "execution_count": null,
      "outputs": []
    },
    {
      "cell_type": "markdown",
      "metadata": {
        "id": "KqtIsQW0hbQe"
      },
      "source": [
        "# Filter products to order"
      ]
    },
    {
      "cell_type": "code",
      "metadata": {
        "id": "tT_ExeMSbWtO",
        "colab": {
          "base_uri": "https://localhost:8080/"
        },
        "outputId": "f0578bb6-781a-4009-cf6d-be9dacd4f017"
      },
      "source": [
        "#Calculate flag to order or not (if there are packs needed and MOQ is reached)\n",
        "products_to_order = products[ products[\"final_packs\"] > 0 ]\n",
        "print(len(products))\n",
        "print(len(products_to_order))\n",
        "print(\"Total Cost :\", products[\"total_amount_needed\"].sum()  )"
      ],
      "execution_count": null,
      "outputs": [
        {
          "output_type": "stream",
          "name": "stdout",
          "text": [
            "2215\n",
            "755\n",
            "Total Cost : 31745436.0\n"
          ]
        }
      ]
    },
    {
      "cell_type": "code",
      "metadata": {
        "id": "R9aref254ZM3",
        "colab": {
          "base_uri": "https://localhost:8080/"
        },
        "outputId": "d94ef99c-e526-4ef9-8a39-db8ca91c51f0"
      },
      "source": [
        "products[products['sku'] == 'L7CJE9'].shape"
      ],
      "execution_count": null,
      "outputs": [
        {
          "output_type": "execute_result",
          "data": {
            "text/plain": [
              "(1, 52)"
            ]
          },
          "metadata": {},
          "execution_count": 506
        }
      ]
    },
    {
      "cell_type": "code",
      "metadata": {
        "colab": {
          "base_uri": "https://localhost:8080/"
        },
        "id": "UeZyASE6iWQ4",
        "outputId": "fcc4bddf-a96f-49db-de7a-1dba92399f71"
      },
      "source": [
        "products_to_order[products_to_order['sku'] == 'L7CJE9'].shape"
      ],
      "execution_count": null,
      "outputs": [
        {
          "output_type": "execute_result",
          "data": {
            "text/plain": [
              "(0, 52)"
            ]
          },
          "metadata": {},
          "execution_count": 507
        }
      ]
    },
    {
      "cell_type": "code",
      "metadata": {
        "id": "G9VqyRpz4eCq"
      },
      "source": [
        ""
      ],
      "execution_count": null,
      "outputs": []
    },
    {
      "cell_type": "markdown",
      "metadata": {
        "id": "2bBb51Fo4bB5"
      },
      "source": [
        "# Calculate all other columns"
      ]
    },
    {
      "cell_type": "code",
      "metadata": {
        "id": "E5hscN8g4ZF9"
      },
      "source": [
        "test = products_to_order.copy()"
      ],
      "execution_count": null,
      "outputs": []
    },
    {
      "cell_type": "code",
      "metadata": {
        "id": "DExFrcZ9snMk"
      },
      "source": [
        ""
      ],
      "execution_count": null,
      "outputs": []
    },
    {
      "cell_type": "code",
      "metadata": {
        "id": "IL_OQLAQbBLR"
      },
      "source": [
        ""
      ],
      "execution_count": null,
      "outputs": []
    },
    {
      "cell_type": "code",
      "metadata": {
        "id": "FPRW_TMJbBIT"
      },
      "source": [
        ""
      ],
      "execution_count": null,
      "outputs": []
    },
    {
      "cell_type": "code",
      "metadata": {
        "colab": {
          "base_uri": "https://localhost:8080/"
        },
        "id": "eG43YPoqsnKw",
        "outputId": "f7950d6f-89ac-4540-f8a1-9b5a29676616"
      },
      "source": [
        "products.shape"
      ],
      "execution_count": null,
      "outputs": [
        {
          "output_type": "execute_result",
          "data": {
            "text/plain": [
              "(2215, 52)"
            ]
          },
          "metadata": {},
          "execution_count": 509
        }
      ]
    },
    {
      "cell_type": "code",
      "metadata": {
        "colab": {
          "base_uri": "https://localhost:8080/"
        },
        "id": "ZFGFw4F4snJS",
        "outputId": "db3556d1-8d22-4c9c-83ea-f2ce41f6c6ae"
      },
      "source": [
        "products.sku.unique().shape"
      ],
      "execution_count": null,
      "outputs": [
        {
          "output_type": "execute_result",
          "data": {
            "text/plain": [
              "(2215,)"
            ]
          },
          "metadata": {},
          "execution_count": 510
        }
      ]
    },
    {
      "cell_type": "code",
      "metadata": {
        "colab": {
          "base_uri": "https://localhost:8080/"
        },
        "id": "g2wD8fVSsnHK",
        "outputId": "0dd15b7e-8f5f-44f5-d785-632b003b1e74"
      },
      "source": [
        "products_to_order.shape"
      ],
      "execution_count": null,
      "outputs": [
        {
          "output_type": "execute_result",
          "data": {
            "text/plain": [
              "(755, 52)"
            ]
          },
          "metadata": {},
          "execution_count": 511
        }
      ]
    },
    {
      "cell_type": "code",
      "metadata": {
        "colab": {
          "base_uri": "https://localhost:8080/"
        },
        "id": "3YpD1MTXsnEA",
        "outputId": "cbb696d6-2d55-42b9-a6cc-32624ab03a80"
      },
      "source": [
        "products_to_order.sku.unique().shape"
      ],
      "execution_count": null,
      "outputs": [
        {
          "output_type": "execute_result",
          "data": {
            "text/plain": [
              "(755,)"
            ]
          },
          "metadata": {},
          "execution_count": 512
        }
      ]
    },
    {
      "cell_type": "code",
      "metadata": {
        "id": "uRH-iKwcswEP"
      },
      "source": [
        ""
      ],
      "execution_count": null,
      "outputs": []
    },
    {
      "cell_type": "code",
      "metadata": {
        "id": "u7bypD0_swC2"
      },
      "source": [
        ""
      ],
      "execution_count": null,
      "outputs": []
    },
    {
      "cell_type": "code",
      "metadata": {
        "id": "StYSsgqKswAV"
      },
      "source": [
        ""
      ],
      "execution_count": null,
      "outputs": []
    },
    {
      "cell_type": "code",
      "metadata": {
        "id": "4ZSBLwtvsv-O"
      },
      "source": [
        ""
      ],
      "execution_count": null,
      "outputs": []
    },
    {
      "cell_type": "code",
      "metadata": {
        "id": "-O9mZUTM5Sb3",
        "colab": {
          "base_uri": "https://localhost:8080/"
        },
        "outputId": "2c96eb6a-1f85-44f5-98e8-58a32fa51f3a"
      },
      "source": [
        "test.columns"
      ],
      "execution_count": null,
      "outputs": [
        {
          "output_type": "execute_result",
          "data": {
            "text/plain": [
              "Index(['country_code', 'sku', 'product_name', 'barcode', 'store',\n",
              "       'warehouse_id', 'is_active', 'supplier_id', 'min_qty', 'preference',\n",
              "       'trade_cost_lp', 'latest_delivery_date', 'last_po_order_qty',\n",
              "       'last_po_delivered_qty', 'last_po_fill_rate', 'days_to_expiration',\n",
              "       'expiration_date', 'sales_buffer', 'stock_on_hand',\n",
              "       'on_hand_stock_date', 'stock_in_transit', 'in_transit_stock_date',\n",
              "       'on_hand_minus_transfer_req', 'transfer_stock', 'availability',\n",
              "       'units_sold', 'units_sold_7d', 'avg_units_sold', 'wh_sku',\n",
              "       'global_entity_id', 'supplier_name', 'lead_time', 'max_stock_days',\n",
              "       'delivery_mon', 'delivery_tue', 'delivery_wed', 'delivery_thu',\n",
              "       'delivery_fri', 'delivery_sat', 'next_delivery_date',\n",
              "       'subsequent_delivery_date', 'days_until_next_delivery',\n",
              "       'forecast_aggregated_days_until_next_delivery',\n",
              "       'delivery_day_plus_stock_days',\n",
              "       'forecast_aggregated_delivery_day_plus_stock_days', 'cycle_sales',\n",
              "       'sell_out_day', 'rmse', 'safety_stock', 'final_need', 'final_packs',\n",
              "       'total_amount_needed'],\n",
              "      dtype='object')"
            ]
          },
          "metadata": {},
          "execution_count": 513
        }
      ]
    },
    {
      "cell_type": "code",
      "metadata": {
        "id": "Hc7Jptg45SZG"
      },
      "source": [
        ""
      ],
      "execution_count": null,
      "outputs": []
    },
    {
      "cell_type": "code",
      "metadata": {
        "id": "vf0U7aSY4mZn"
      },
      "source": [
        "# Order deadline date\n",
        "test['Order deadline date'] = test.apply(lambda row: pd.to_datetime(row['next_delivery_date']) - pd.Timedelta(days=row['lead_time']), axis=1).dt.date"
      ],
      "execution_count": null,
      "outputs": []
    },
    {
      "cell_type": "code",
      "metadata": {
        "id": "bnatstbgadyr",
        "colab": {
          "base_uri": "https://localhost:8080/"
        },
        "outputId": "1f25a38d-2df0-41c3-c45c-d3d494403924"
      },
      "source": [
        "products_to_order.is_active.unique()"
      ],
      "execution_count": null,
      "outputs": [
        {
          "output_type": "execute_result",
          "data": {
            "text/plain": [
              "array([ True])"
            ]
          },
          "metadata": {},
          "execution_count": 515
        }
      ]
    },
    {
      "cell_type": "code",
      "metadata": {
        "id": "D-f_VrOwa-Qa"
      },
      "source": [
        ""
      ],
      "execution_count": null,
      "outputs": []
    },
    {
      "cell_type": "code",
      "metadata": {
        "id": "YSx6HXJcgjqD"
      },
      "source": [
        ""
      ],
      "execution_count": null,
      "outputs": []
    },
    {
      "cell_type": "code",
      "metadata": {
        "id": "73aRQprqgjm6"
      },
      "source": [
        ""
      ],
      "execution_count": null,
      "outputs": []
    },
    {
      "cell_type": "code",
      "metadata": {
        "colab": {
          "base_uri": "https://localhost:8080/",
          "height": 204
        },
        "id": "cFUzu-Rtadwy",
        "outputId": "6574fd52-872f-4d68-c2cc-c636d1b0e006"
      },
      "source": [
        "test[['Order deadline date', 'next_delivery_date', 'lead_time']].head()"
      ],
      "execution_count": null,
      "outputs": [
        {
          "output_type": "execute_result",
          "data": {
            "text/html": [
              "<div>\n",
              "<style scoped>\n",
              "    .dataframe tbody tr th:only-of-type {\n",
              "        vertical-align: middle;\n",
              "    }\n",
              "\n",
              "    .dataframe tbody tr th {\n",
              "        vertical-align: top;\n",
              "    }\n",
              "\n",
              "    .dataframe thead th {\n",
              "        text-align: right;\n",
              "    }\n",
              "</style>\n",
              "<table border=\"1\" class=\"dataframe\">\n",
              "  <thead>\n",
              "    <tr style=\"text-align: right;\">\n",
              "      <th></th>\n",
              "      <th>Order deadline date</th>\n",
              "      <th>next_delivery_date</th>\n",
              "      <th>lead_time</th>\n",
              "    </tr>\n",
              "  </thead>\n",
              "  <tbody>\n",
              "    <tr>\n",
              "      <th>0</th>\n",
              "      <td>2021-10-23</td>\n",
              "      <td>2021-10-25 12:30:24.336803</td>\n",
              "      <td>2</td>\n",
              "    </tr>\n",
              "    <tr>\n",
              "      <th>1</th>\n",
              "      <td>2021-10-21</td>\n",
              "      <td>2021-10-28 12:30:24.336803</td>\n",
              "      <td>7</td>\n",
              "    </tr>\n",
              "    <tr>\n",
              "      <th>5</th>\n",
              "      <td>2021-10-23</td>\n",
              "      <td>2021-10-25 12:30:24.336803</td>\n",
              "      <td>2</td>\n",
              "    </tr>\n",
              "    <tr>\n",
              "      <th>11</th>\n",
              "      <td>2021-10-21</td>\n",
              "      <td>2021-10-23 12:30:24.336803</td>\n",
              "      <td>2</td>\n",
              "    </tr>\n",
              "    <tr>\n",
              "      <th>19</th>\n",
              "      <td>2021-10-23</td>\n",
              "      <td>2021-10-25 12:30:24.336803</td>\n",
              "      <td>2</td>\n",
              "    </tr>\n",
              "  </tbody>\n",
              "</table>\n",
              "</div>"
            ],
            "text/plain": [
              "   Order deadline date         next_delivery_date  lead_time\n",
              "0           2021-10-23 2021-10-25 12:30:24.336803          2\n",
              "1           2021-10-21 2021-10-28 12:30:24.336803          7\n",
              "5           2021-10-23 2021-10-25 12:30:24.336803          2\n",
              "11          2021-10-21 2021-10-23 12:30:24.336803          2\n",
              "19          2021-10-23 2021-10-25 12:30:24.336803          2"
            ]
          },
          "metadata": {},
          "execution_count": 516
        }
      ]
    },
    {
      "cell_type": "code",
      "metadata": {
        "id": "I1Td6UxVadke"
      },
      "source": [
        ""
      ],
      "execution_count": null,
      "outputs": []
    },
    {
      "cell_type": "code",
      "metadata": {
        "id": "ZuhBoUyTadiu"
      },
      "source": [
        ""
      ],
      "execution_count": null,
      "outputs": []
    },
    {
      "cell_type": "code",
      "metadata": {
        "id": "DizWuML-adgM"
      },
      "source": [
        ""
      ],
      "execution_count": null,
      "outputs": []
    },
    {
      "cell_type": "code",
      "metadata": {
        "id": "i83xP7IN4mXs"
      },
      "source": [
        "test['Next possible delivery date'] = test['next_delivery_date']\n",
        "# test.drop(columns=('next_delivery_date'))"
      ],
      "execution_count": null,
      "outputs": []
    },
    {
      "cell_type": "code",
      "metadata": {
        "id": "6kiljW_p4mVG"
      },
      "source": [
        "# Stock Final (SiT+SoH+TS-Buffer)\n",
        "test['Stock Final'] = test['stock_in_transit'] + test['stock_on_hand'] + test['transfer_stock'] - test['sales_buffer']"
      ],
      "execution_count": null,
      "outputs": []
    },
    {
      "cell_type": "code",
      "metadata": {
        "id": "7nBhzsPVAtRl"
      },
      "source": [
        ""
      ],
      "execution_count": null,
      "outputs": []
    },
    {
      "cell_type": "code",
      "metadata": {
        "id": "a7DuRrKE4ZBW"
      },
      "source": [
        "# Days to subsequent delivery\n",
        "test['Days to subsequent delivery'] = (test['subsequent_delivery_date']  - test['next_delivery_date']).dt.days\n",
        "# test.drop(columns=['subsequent_delivery_date'])"
      ],
      "execution_count": null,
      "outputs": []
    },
    {
      "cell_type": "code",
      "metadata": {
        "id": "9A-19_oe8wla"
      },
      "source": [
        ""
      ],
      "execution_count": null,
      "outputs": []
    },
    {
      "cell_type": "code",
      "metadata": {
        "id": "6rQUS58H8wgU"
      },
      "source": [
        "# Stock days to be covered\n",
        "# Minimun of \n",
        "# - days to expiration\n",
        "# - max stock days\n",
        "# - days to subsequent delivery\n",
        "test['Stock days to be covered'] = test.apply(lambda row: min([row['max_stock_days'],  row['Days to subsequent delivery'], row['days_to_expiration']]), axis=1)    # TODO: add days to expiration"
      ],
      "execution_count": null,
      "outputs": []
    },
    {
      "cell_type": "code",
      "metadata": {
        "id": "gB3mLCNk8weK"
      },
      "source": [
        ""
      ],
      "execution_count": null,
      "outputs": []
    },
    {
      "cell_type": "code",
      "metadata": {
        "id": "xfAUHMMD8wcU"
      },
      "source": [
        ""
      ],
      "execution_count": null,
      "outputs": []
    },
    {
      "cell_type": "code",
      "metadata": {
        "id": "wh5OwVjn8waH"
      },
      "source": [
        "#BUCKET\n",
        "\n",
        "#NOTE: Coppied from APAC\n",
        "\n",
        "from collections import defaultdict\n",
        "\n",
        "min_threshold_percentage = 0.25 # For availability\n",
        "APAC_SABCD_BUCKET_CUTOFFS = {0.24: 'D', 0.49: 'C', 0.74: 'B', 0.94: 'A', 1.00: 'S'}  # e.g. 0->0.24 == D\n",
        "\n",
        "\n",
        "def calculate_potential_sales(products: pd.DataFrame, min_avail: float=min_threshold_percentage) -> pd.DataFrame:\n",
        "    \"\"\"\n",
        "    Calculates potential sales from actual sales and availability\n",
        "    \"\"\"\n",
        "\n",
        "    products['availability'] = products['availability'].apply(lambda x: min_avail if x <= min_avail else x)\n",
        "    products['potential_sales'] = products['units_sold'].astype(float) / products['availability'].astype(float)\n",
        "    # products['potential_sales'].fillna(0, inplace=True)  # Explicitly leave nulls to distinguish from calc'd 0\n",
        "    return products\n",
        "\n",
        "\n",
        "def calculate_penetration(products: pd.DataFrame, group_by_columns: list) -> pd.DataFrame:\n",
        "    \"\"\"\n",
        "    Calculates unit penetration\n",
        "    \"\"\"\n",
        "\n",
        "    grouped = products.groupby(by=group_by_columns)['potential_sales'].sum().rename('grouped_units').reset_index()\n",
        "    products = products.merge(grouped, on=group_by_columns)\n",
        "    products['unit_penetration'] = (\n",
        "            products['potential_sales'].astype(float) / products['grouped_units'].astype(float)\n",
        "    ).to_numpy().astype(float).round(4)\n",
        "\n",
        "    # Remove columns intended only for unit-penetration calc\n",
        "    products.drop(columns=['potential_sales', 'grouped_units'], inplace=True)\n",
        "\n",
        "    return products\n",
        "\n",
        "\n",
        "def calculate_the_abc_buckets(products: pd.DataFrame, bucket_cutoffs: dict=APAC_SABCD_BUCKET_CUTOFFS): \n",
        "\n",
        "    quantiles = bucket_cutoffs.keys()\n",
        "    warehouse_id_to_quantile_list_map = defaultdict(list)\n",
        "    warehouse_ids = products['warehouse_id'].unique()\n",
        "\n",
        "    for quant in quantiles:\n",
        "        for _id in warehouse_ids:\n",
        "            warehouse_id_to_quantile_list_map[_id].append(\n",
        "                products[products['warehouse_id'] == _id]['unit_penetration'].sort_values().quantile(quant))\n",
        "\n",
        "    def get_percentile(warehouse_id_unit_pen_obj):\n",
        "        warehouse_percentile_list = warehouse_id_to_quantile_list_map[warehouse_id_unit_pen_obj['warehouse_id']]\n",
        "        for warehouse_value, perc in zip(sorted(warehouse_percentile_list), sorted(quantiles)):\n",
        "            if warehouse_id_unit_pen_obj['unit_penetration'] > warehouse_value:\n",
        "                continue\n",
        "            return perc\n",
        "\n",
        "    products['quantile'] = products[['warehouse_id', 'unit_penetration']].apply(get_percentile, axis=1)\n",
        "    products['bucket'] = products['quantile'].apply(lambda x: bucket_cutoffs.get(x))\n",
        "\n",
        "    products.drop(columns=['quantile'], inplace=True)\n",
        "\n",
        "    return products\n",
        "\n"
      ],
      "execution_count": null,
      "outputs": []
    },
    {
      "cell_type": "code",
      "metadata": {
        "id": "m4qHuR4o8wYx"
      },
      "source": [
        "test = test.pipe(calculate_potential_sales).pipe(calculate_penetration, ['warehouse_id']).pipe(calculate_the_abc_buckets)"
      ],
      "execution_count": null,
      "outputs": []
    },
    {
      "cell_type": "code",
      "metadata": {
        "id": "2ECzmr7G8wWN",
        "colab": {
          "base_uri": "https://localhost:8080/",
          "height": 204
        },
        "outputId": "6ea66cfd-57ec-46c1-f818-08119a0c0d3e"
      },
      "source": [
        "test[['unit_penetration', 'bucket']].head()"
      ],
      "execution_count": null,
      "outputs": [
        {
          "output_type": "execute_result",
          "data": {
            "text/html": [
              "<div>\n",
              "<style scoped>\n",
              "    .dataframe tbody tr th:only-of-type {\n",
              "        vertical-align: middle;\n",
              "    }\n",
              "\n",
              "    .dataframe tbody tr th {\n",
              "        vertical-align: top;\n",
              "    }\n",
              "\n",
              "    .dataframe thead th {\n",
              "        text-align: right;\n",
              "    }\n",
              "</style>\n",
              "<table border=\"1\" class=\"dataframe\">\n",
              "  <thead>\n",
              "    <tr style=\"text-align: right;\">\n",
              "      <th></th>\n",
              "      <th>unit_penetration</th>\n",
              "      <th>bucket</th>\n",
              "    </tr>\n",
              "  </thead>\n",
              "  <tbody>\n",
              "    <tr>\n",
              "      <th>0</th>\n",
              "      <td>0.0003</td>\n",
              "      <td>D</td>\n",
              "    </tr>\n",
              "    <tr>\n",
              "      <th>1</th>\n",
              "      <td>0.0003</td>\n",
              "      <td>D</td>\n",
              "    </tr>\n",
              "    <tr>\n",
              "      <th>2</th>\n",
              "      <td>0.0005</td>\n",
              "      <td>C</td>\n",
              "    </tr>\n",
              "    <tr>\n",
              "      <th>3</th>\n",
              "      <td>0.0116</td>\n",
              "      <td>S</td>\n",
              "    </tr>\n",
              "    <tr>\n",
              "      <th>4</th>\n",
              "      <td>0.0003</td>\n",
              "      <td>D</td>\n",
              "    </tr>\n",
              "  </tbody>\n",
              "</table>\n",
              "</div>"
            ],
            "text/plain": [
              "   unit_penetration bucket\n",
              "0            0.0003      D\n",
              "1            0.0003      D\n",
              "2            0.0005      C\n",
              "3            0.0116      S\n",
              "4            0.0003      D"
            ]
          },
          "metadata": {},
          "execution_count": 523
        }
      ]
    },
    {
      "cell_type": "code",
      "metadata": {
        "id": "9R42BdSrRMVW"
      },
      "source": [
        ""
      ],
      "execution_count": null,
      "outputs": []
    },
    {
      "cell_type": "code",
      "metadata": {
        "id": "80vRjjyeRMSw"
      },
      "source": [
        "# Days to Expiration\n",
        "\n",
        "test['Days to Expiration'] = test['days_to_expiration']\n",
        "#test.drop(columns=['days_to_expiration'])\n",
        "\n",
        "test['Batch experiation date'] = test['expiration_date']\n",
        "#test.drop(columns=['expiration_date'])"
      ],
      "execution_count": null,
      "outputs": []
    },
    {
      "cell_type": "code",
      "metadata": {
        "id": "ac_H-7ImRMQI"
      },
      "source": [
        ""
      ],
      "execution_count": null,
      "outputs": []
    },
    {
      "cell_type": "code",
      "metadata": {
        "id": "2YX6ndAdTM2Q"
      },
      "source": [
        "# Place order\n",
        "# place order for active SKUs if the Final need packs is > 0, or if Final need pack = 0 and stock on hand is 0 (for new active skus order 1 MOQ)\n",
        "\n",
        "test['Place Order'] = test.apply(lambda row: (( (row['is_active'] == True) and (row['final_packs'] > 0) ) or ( (row['final_packs'] == 0)  and (row['stock_on_hand'] == 0) )), axis=1)"
      ],
      "execution_count": null,
      "outputs": []
    },
    {
      "cell_type": "code",
      "metadata": {
        "id": "EtKWQN4r8wUE"
      },
      "source": [
        ""
      ],
      "execution_count": null,
      "outputs": []
    },
    {
      "cell_type": "markdown",
      "metadata": {
        "id": "CUD5gf2XWzSi"
      },
      "source": [
        "# Rename Columns"
      ]
    },
    {
      "cell_type": "code",
      "metadata": {
        "id": "R0ikQFjI8wSa"
      },
      "source": [
        ""
      ],
      "execution_count": null,
      "outputs": []
    },
    {
      "cell_type": "code",
      "metadata": {
        "id": "uG9d9mouavJV"
      },
      "source": [
        ""
      ],
      "execution_count": null,
      "outputs": []
    },
    {
      "cell_type": "code",
      "metadata": {
        "id": "G0ivTHmfavAZ"
      },
      "source": [
        ""
      ],
      "execution_count": null,
      "outputs": []
    },
    {
      "cell_type": "code",
      "metadata": {
        "id": "J24uIGVKau9t"
      },
      "source": [
        ""
      ],
      "execution_count": null,
      "outputs": []
    },
    {
      "cell_type": "code",
      "metadata": {
        "id": "ifA8uSBG8wPT"
      },
      "source": [
        "test.rename(columns={\n",
        "    'warehouse_id': 'Warehouse ID',\n",
        "    'sku' : 'SKU',\n",
        "    'product_name': 'Product name',\n",
        "    'latest_delivery_date': 'Last delivery date',\n",
        "    'last_po_order_qty': 'Ordered Qty',\n",
        "    'last_po_delivered_qty': 'Received Qty',\n",
        "    'last_po_fill_rate': 'Supplier fill rate',\n",
        "    'supplier_id': 'Supplier ID',\n",
        "    'supplier_name': 'Supplier Name',\n",
        "    'is_active': 'SKU status supllier portal',\n",
        "    'min_qty': 'Units in Case',\n",
        "    'max_stock_days': 'Maximum stock days',\n",
        "    'stock_on_hand': 'Stock on hand',\n",
        "    'stock_in_transit': 'Stock in transit (PO)',\n",
        "    'transfer_stock':  'Transfer Stock (ST)',\n",
        "    'sales_buffer': 'Sales Buffer (Catalog)',\n",
        "    'availability': 'Availability (28d)',\n",
        "    'units_sold': 'Units Sold (28d)',\n",
        "    'units_sold_7d': 'Units sold (7d)',\n",
        "    'avg_units_sold': 'Avg daily Sales',\n",
        "    'forecast_aggregated_days_until_next_delivery': 'Sales to next delivery',\n",
        "    'cycle_sales': 'Cycle Sales (to subsequent delivery)',\n",
        "    'sell_out_day': 'Sell-out date',\n",
        "    'rmse': 'RMSE FC',\n",
        "    'avg_lead_time': 'Avg Lead days',\n",
        "    'std_lead_time': 'St dev lead time',\n",
        "    'safety_stock': 'Safety Stock',\n",
        "    'final_need': 'Final Need Units',\n",
        "    'final_packs': 'Final Need Packs',\n",
        "    'total_amount_needed': 'Final Need Value',\n",
        "    'days_until_next_delivery': 'Days to next delivery',\n",
        "    'bucket': 'Bucket',\n",
        "    'barcode': 'Barcode',\n",
        "    'store': 'Warehouse name'\n",
        "\n",
        "},\n",
        "inplace=True\n",
        ")"
      ],
      "execution_count": null,
      "outputs": []
    },
    {
      "cell_type": "code",
      "metadata": {
        "id": "BxnLSUQGW8og"
      },
      "source": [
        ""
      ],
      "execution_count": null,
      "outputs": []
    },
    {
      "cell_type": "code",
      "metadata": {
        "id": "xg2YfqALW8mi"
      },
      "source": [
        "test['MOQ'] = 1"
      ],
      "execution_count": null,
      "outputs": []
    },
    {
      "cell_type": "code",
      "metadata": {
        "id": "cqy1fOMaW8kb"
      },
      "source": [
        "test['Target Service Level'] = target_service_level"
      ],
      "execution_count": null,
      "outputs": []
    },
    {
      "cell_type": "code",
      "metadata": {
        "id": "gqqenqdjdBGT"
      },
      "source": [
        "test['Forecast Uplift %'] = np.nan  # TODO: Get from manual sheet"
      ],
      "execution_count": null,
      "outputs": []
    },
    {
      "cell_type": "code",
      "metadata": {
        "id": "IwykHiYhdBBz"
      },
      "source": [
        ""
      ],
      "execution_count": null,
      "outputs": []
    },
    {
      "cell_type": "code",
      "metadata": {
        "colab": {
          "base_uri": "https://localhost:8080/"
        },
        "id": "pHaOwZ4bfh5Q",
        "outputId": "98b50fab-724c-45f7-b429-4e673833773c"
      },
      "source": [
        "test.columns"
      ],
      "execution_count": null,
      "outputs": [
        {
          "output_type": "execute_result",
          "data": {
            "text/plain": [
              "Index(['country_code', 'SKU', 'Product name', 'Barcode', 'Warehouse name',\n",
              "       'Warehouse ID', 'SKU status supllier portal', 'Supplier ID',\n",
              "       'Units in Case', 'preference', 'trade_cost_lp', 'Last delivery date',\n",
              "       'Ordered Qty', 'Received Qty', 'Supplier fill rate',\n",
              "       'days_to_expiration', 'expiration_date', 'Sales Buffer (Catalog)',\n",
              "       'Stock on hand', 'on_hand_stock_date', 'Stock in transit (PO)',\n",
              "       'in_transit_stock_date', 'on_hand_minus_transfer_req',\n",
              "       'Transfer Stock (ST)', 'Availability (28d)', 'Units Sold (28d)',\n",
              "       'Units sold (7d)', 'Avg daily Sales', 'wh_sku', 'global_entity_id',\n",
              "       'Supplier Name', 'lead_time', 'Maximum stock days', 'delivery_mon',\n",
              "       'delivery_tue', 'delivery_wed', 'delivery_thu', 'delivery_fri',\n",
              "       'delivery_sat', 'next_delivery_date', 'subsequent_delivery_date',\n",
              "       'Days to next delivery', 'Sales to next delivery',\n",
              "       'delivery_day_plus_stock_days',\n",
              "       'forecast_aggregated_delivery_day_plus_stock_days',\n",
              "       'Cycle Sales (to subsequent delivery)', 'Sell-out date', 'RMSE FC',\n",
              "       'Safety Stock', 'Final Need Units', 'Final Need Packs',\n",
              "       'Final Need Value', 'Order deadline date',\n",
              "       'Next possible delivery date', 'Stock Final',\n",
              "       'Days to subsequent delivery', 'Stock days to be covered',\n",
              "       'unit_penetration', 'Bucket', 'Days to Expiration',\n",
              "       'Batch experiation date', 'Place Order', 'MOQ', 'Target Service Level',\n",
              "       'Forecast Uplift %'],\n",
              "      dtype='object')"
            ]
          },
          "metadata": {},
          "execution_count": 530
        }
      ]
    },
    {
      "cell_type": "code",
      "metadata": {
        "id": "b9NmFgX0fh2_"
      },
      "source": [
        ""
      ],
      "execution_count": null,
      "outputs": []
    },
    {
      "cell_type": "markdown",
      "metadata": {
        "id": "l57r5YTUW4Yj"
      },
      "source": [
        "# Re-org Columns"
      ]
    },
    {
      "cell_type": "code",
      "metadata": {
        "id": "jh4GYc_M8wMc"
      },
      "source": [
        "result = test[[\n",
        "      'Warehouse ID', 'Warehouse name', 'SKU', 'Barcode', 'Product name', 'Last delivery date', 'Batch experiation date', 'Ordered Qty', 'Received Qty', 'Supplier fill rate', 'Days to Expiration',\n",
        "      'Supplier ID', 'Supplier Name', 'SKU status supllier portal', 'Units in Case', 'MOQ', 'Next possible delivery date', 'Order deadline date', 'Days to next delivery',\n",
        "      'Days to subsequent delivery', 'Maximum stock days', 'Stock days to be covered', 'Stock on hand', 'Stock in transit (PO)',\n",
        "      'Transfer Stock (ST)', 'Sales Buffer (Catalog)', 'Stock Final', 'Availability (28d)', 'Units Sold (28d)',  'Units sold (7d)', 'Avg daily Sales', 'Bucket',\n",
        "      'Target Service Level', 'Sales to next delivery',  'Cycle Sales (to subsequent delivery)', 'Sell-out date', 'RMSE FC', 'Safety Stock',\n",
        "      'Final Need Units', 'Final Need Packs', 'Final Need Value', 'Place Order'\n",
        "\n",
        "]].copy()"
      ],
      "execution_count": null,
      "outputs": []
    },
    {
      "cell_type": "code",
      "metadata": {
        "colab": {
          "base_uri": "https://localhost:8080/"
        },
        "id": "Qci_eNemW7Wj",
        "outputId": "81d9e451-d9cd-41af-f40f-5dab5570a905"
      },
      "source": [
        "result.columns"
      ],
      "execution_count": null,
      "outputs": [
        {
          "output_type": "execute_result",
          "data": {
            "text/plain": [
              "Index(['Warehouse ID', 'Warehouse name', 'SKU', 'Barcode', 'Product name',\n",
              "       'Last delivery date', 'Batch experiation date', 'Ordered Qty',\n",
              "       'Received Qty', 'Supplier fill rate', 'Days to Expiration',\n",
              "       'Supplier ID', 'Supplier Name', 'SKU status supllier portal',\n",
              "       'Units in Case', 'MOQ', 'Next possible delivery date',\n",
              "       'Order deadline date', 'Days to next delivery',\n",
              "       'Days to subsequent delivery', 'Maximum stock days',\n",
              "       'Stock days to be covered', 'Stock on hand', 'Stock in transit (PO)',\n",
              "       'Transfer Stock (ST)', 'Sales Buffer (Catalog)', 'Stock Final',\n",
              "       'Availability (28d)', 'Units Sold (28d)', 'Units sold (7d)',\n",
              "       'Avg daily Sales', 'Bucket', 'Target Service Level',\n",
              "       'Sales to next delivery', 'Cycle Sales (to subsequent delivery)',\n",
              "       'Sell-out date', 'RMSE FC', 'Safety Stock', 'Final Need Units',\n",
              "       'Final Need Packs', 'Final Need Value', 'Place Order'],\n",
              "      dtype='object')"
            ]
          },
          "metadata": {},
          "execution_count": 532
        }
      ]
    },
    {
      "cell_type": "code",
      "metadata": {
        "id": "s_2mkddAhGDh"
      },
      "source": [
        ""
      ],
      "execution_count": null,
      "outputs": []
    },
    {
      "cell_type": "code",
      "metadata": {
        "id": "av8gpCichFvE"
      },
      "source": [
        ""
      ],
      "execution_count": null,
      "outputs": []
    },
    {
      "cell_type": "code",
      "metadata": {
        "id": "ISvF78MaW7Um"
      },
      "source": [
        ""
      ],
      "execution_count": null,
      "outputs": []
    },
    {
      "cell_type": "code",
      "metadata": {
        "id": "FIPQ-JFVFB2H"
      },
      "source": [
        "# Convert all date columns to date, not datetime\n",
        "\n",
        "date_columns = ['Last delivery date', 'Batch experiation date', 'Next possible delivery date', 'Sell-out date']\n",
        "result['Last delivery date'] = pd.to_datetime(result['Last delivery date']).dt.date\n",
        "result['Batch experiation date'] = pd.to_datetime(result['Batch experiation date']).dt.date\n",
        "result['Next possible delivery date'] = pd.to_datetime(result['Next possible delivery date']).dt.date\n",
        "result['Sell-out date'] = pd.to_datetime(result['Sell-out date']).dt.date\n",
        "\n"
      ],
      "execution_count": null,
      "outputs": []
    },
    {
      "cell_type": "code",
      "metadata": {
        "id": "8u5l48oFFB0M"
      },
      "source": [
        ""
      ],
      "execution_count": null,
      "outputs": []
    },
    {
      "cell_type": "code",
      "metadata": {
        "id": "qt8iA2saFBwo"
      },
      "source": [
        "# adjust precision on float dtype column\n",
        "result['RMSE FC'] = result['RMSE FC'].round(2)\n",
        "result['Supplier fill rate'] = result['Supplier fill rate'].round(2)\n",
        "result['Avg daily Sales'] = test['Avg daily Sales'].astype(np.float64).round(2)\n",
        "\n",
        "\n",
        "# convert int column types\n",
        "result['Cycle Sales (to subsequent delivery)'] = result['Cycle Sales (to subsequent delivery)'].apply(np.ceil).astype(int)\n",
        "result['Safety Stock'] = result['Safety Stock'].apply(np.ceil).astype(int)\n",
        "result['Final Need Units'] = result['Final Need Units'].apply(np.ceil).astype(int)\n",
        "result['Sales to next delivery'] = result['Sales to next delivery'].apply(np.ceil).astype(int)"
      ],
      "execution_count": null,
      "outputs": []
    },
    {
      "cell_type": "code",
      "metadata": {
        "colab": {
          "base_uri": "https://localhost:8080/"
        },
        "id": "ZVX--gCZFBuF",
        "outputId": "a144596c-06bc-4c5b-cac5-87e65cfe18d0"
      },
      "source": [
        "result['Cycle Sales (to subsequent delivery)'].head()"
      ],
      "execution_count": null,
      "outputs": [
        {
          "output_type": "execute_result",
          "data": {
            "text/plain": [
              "0      4\n",
              "1      4\n",
              "2      8\n",
              "3    112\n",
              "4      4\n",
              "Name: Cycle Sales (to subsequent delivery), dtype: int64"
            ]
          },
          "metadata": {},
          "execution_count": 535
        }
      ]
    },
    {
      "cell_type": "code",
      "metadata": {
        "id": "YHIkoQRuNYku"
      },
      "source": [
        ""
      ],
      "execution_count": null,
      "outputs": []
    },
    {
      "cell_type": "code",
      "metadata": {
        "id": "iNuTTmpRNYie"
      },
      "source": [
        "#Update Boolean columns to Yes, NO\n",
        "\n",
        "result['Place Order'] = result.apply(lambda row: 'YES' if row['Place Order'] else '', axis=1)\n",
        "# result['SKU status supllier portal'] = result.apply(lambda row: 'Yes' if row['SKU status supllier portal'] else 'No', axis=1)\n",
        "\n"
      ],
      "execution_count": null,
      "outputs": []
    },
    {
      "cell_type": "code",
      "metadata": {
        "colab": {
          "base_uri": "https://localhost:8080/"
        },
        "id": "u7LCD2Z8NYgE",
        "outputId": "3cbf15c6-1c9a-45e4-b779-a96526d3e912"
      },
      "source": [
        "test['Avg daily Sales'].astype(np.float64).round(2)"
      ],
      "execution_count": null,
      "outputs": [
        {
          "output_type": "execute_result",
          "data": {
            "text/plain": [
              "0      0.33\n",
              "1      0.11\n",
              "2      0.08\n",
              "3      0.14\n",
              "4      0.31\n",
              "       ... \n",
              "750    0.16\n",
              "751    0.13\n",
              "752    0.24\n",
              "753    0.29\n",
              "754    0.13\n",
              "Name: Avg daily Sales, Length: 755, dtype: float64"
            ]
          },
          "metadata": {},
          "execution_count": 537
        }
      ]
    },
    {
      "cell_type": "code",
      "metadata": {
        "id": "8azY9cRtW7SO",
        "colab": {
          "base_uri": "https://localhost:8080/"
        },
        "outputId": "b000d2a2-c44b-48a9-9e44-4718aa9a2e3f"
      },
      "source": [
        "test.shape"
      ],
      "execution_count": null,
      "outputs": [
        {
          "output_type": "execute_result",
          "data": {
            "text/plain": [
              "(755, 65)"
            ]
          },
          "metadata": {},
          "execution_count": 538
        }
      ]
    },
    {
      "cell_type": "code",
      "metadata": {
        "id": "WXC9Sa4jYgX8",
        "colab": {
          "base_uri": "https://localhost:8080/"
        },
        "outputId": "a0216210-7a10-4396-d713-aa040247d9af"
      },
      "source": [
        "test.SKU.unique().shape"
      ],
      "execution_count": null,
      "outputs": [
        {
          "output_type": "execute_result",
          "data": {
            "text/plain": [
              "(755,)"
            ]
          },
          "metadata": {},
          "execution_count": 539
        }
      ]
    },
    {
      "cell_type": "code",
      "metadata": {
        "id": "eLMZHjQVYgV3",
        "colab": {
          "base_uri": "https://localhost:8080/"
        },
        "outputId": "671a8f6e-7e45-4f67-cf62-0a6b876d5c53"
      },
      "source": [
        "test.columns"
      ],
      "execution_count": null,
      "outputs": [
        {
          "output_type": "execute_result",
          "data": {
            "text/plain": [
              "Index(['country_code', 'SKU', 'Product name', 'Barcode', 'Warehouse name',\n",
              "       'Warehouse ID', 'SKU status supllier portal', 'Supplier ID',\n",
              "       'Units in Case', 'preference', 'trade_cost_lp', 'Last delivery date',\n",
              "       'Ordered Qty', 'Received Qty', 'Supplier fill rate',\n",
              "       'days_to_expiration', 'expiration_date', 'Sales Buffer (Catalog)',\n",
              "       'Stock on hand', 'on_hand_stock_date', 'Stock in transit (PO)',\n",
              "       'in_transit_stock_date', 'on_hand_minus_transfer_req',\n",
              "       'Transfer Stock (ST)', 'Availability (28d)', 'Units Sold (28d)',\n",
              "       'Units sold (7d)', 'Avg daily Sales', 'wh_sku', 'global_entity_id',\n",
              "       'Supplier Name', 'lead_time', 'Maximum stock days', 'delivery_mon',\n",
              "       'delivery_tue', 'delivery_wed', 'delivery_thu', 'delivery_fri',\n",
              "       'delivery_sat', 'next_delivery_date', 'subsequent_delivery_date',\n",
              "       'Days to next delivery', 'Sales to next delivery',\n",
              "       'delivery_day_plus_stock_days',\n",
              "       'forecast_aggregated_delivery_day_plus_stock_days',\n",
              "       'Cycle Sales (to subsequent delivery)', 'Sell-out date', 'RMSE FC',\n",
              "       'Safety Stock', 'Final Need Units', 'Final Need Packs',\n",
              "       'Final Need Value', 'Order deadline date',\n",
              "       'Next possible delivery date', 'Stock Final',\n",
              "       'Days to subsequent delivery', 'Stock days to be covered',\n",
              "       'unit_penetration', 'Bucket', 'Days to Expiration',\n",
              "       'Batch experiation date', 'Place Order', 'MOQ', 'Target Service Level',\n",
              "       'Forecast Uplift %'],\n",
              "      dtype='object')"
            ]
          },
          "metadata": {},
          "execution_count": 540
        }
      ]
    },
    {
      "cell_type": "code",
      "metadata": {
        "id": "aM4yApMpYgTV",
        "colab": {
          "base_uri": "https://localhost:8080/"
        },
        "outputId": "f0f5d730-e781-498a-bc45-6a3a114429ce"
      },
      "source": [
        "test.drop_duplicates().shape"
      ],
      "execution_count": null,
      "outputs": [
        {
          "output_type": "execute_result",
          "data": {
            "text/plain": [
              "(755, 65)"
            ]
          },
          "metadata": {},
          "execution_count": 541
        }
      ]
    },
    {
      "cell_type": "code",
      "metadata": {
        "colab": {
          "base_uri": "https://localhost:8080/"
        },
        "id": "mtiFAoTrE8-V",
        "outputId": "71eaaf6d-ae7e-4b42-c70a-2bcac5f63a0b"
      },
      "source": [
        "result.columns"
      ],
      "execution_count": null,
      "outputs": [
        {
          "output_type": "execute_result",
          "data": {
            "text/plain": [
              "Index(['Warehouse ID', 'Warehouse name', 'SKU', 'Barcode', 'Product name',\n",
              "       'Last delivery date', 'Batch experiation date', 'Ordered Qty',\n",
              "       'Received Qty', 'Supplier fill rate', 'Days to Expiration',\n",
              "       'Supplier ID', 'Supplier Name', 'SKU status supllier portal',\n",
              "       'Units in Case', 'MOQ', 'Next possible delivery date',\n",
              "       'Order deadline date', 'Days to next delivery',\n",
              "       'Days to subsequent delivery', 'Maximum stock days',\n",
              "       'Stock days to be covered', 'Stock on hand', 'Stock in transit (PO)',\n",
              "       'Transfer Stock (ST)', 'Sales Buffer (Catalog)', 'Stock Final',\n",
              "       'Availability (28d)', 'Units Sold (28d)', 'Units sold (7d)',\n",
              "       'Avg daily Sales', 'Bucket', 'Target Service Level',\n",
              "       'Sales to next delivery', 'Cycle Sales (to subsequent delivery)',\n",
              "       'Sell-out date', 'RMSE FC', 'Safety Stock', 'Final Need Units',\n",
              "       'Final Need Packs', 'Final Need Value', 'Place Order'],\n",
              "      dtype='object')"
            ]
          },
          "metadata": {},
          "execution_count": 542
        }
      ]
    },
    {
      "cell_type": "code",
      "metadata": {
        "id": "QhYxm07BE87j"
      },
      "source": [
        ""
      ],
      "execution_count": null,
      "outputs": []
    },
    {
      "cell_type": "code",
      "metadata": {
        "id": "_Hg7skr3bLP2"
      },
      "source": [
        ""
      ],
      "execution_count": null,
      "outputs": []
    },
    {
      "cell_type": "code",
      "metadata": {
        "id": "vLt0VN98bLKW"
      },
      "source": [
        "# result[(result['Final Need Units'] == 0) & (result['Final Need Packs'] == 1)].shape"
      ],
      "execution_count": null,
      "outputs": []
    },
    {
      "cell_type": "code",
      "metadata": {
        "id": "NIg-JRJXbLIH"
      },
      "source": [
        "# test[(test['Final Need Units'] == 0) & (test['Final Need Packs'] == 1)].shape"
      ],
      "execution_count": null,
      "outputs": []
    },
    {
      "cell_type": "code",
      "metadata": {
        "id": "5aoAvToBbLGE"
      },
      "source": [
        "# test['Final Need Units'].apply(np.ceil).astype(int).min()"
      ],
      "execution_count": null,
      "outputs": []
    },
    {
      "cell_type": "code",
      "metadata": {
        "id": "BiZq7FsgbLD-"
      },
      "source": [
        ""
      ],
      "execution_count": null,
      "outputs": []
    },
    {
      "cell_type": "code",
      "metadata": {
        "id": "qPmFJDgME84y"
      },
      "source": [
        ""
      ],
      "execution_count": null,
      "outputs": []
    },
    {
      "cell_type": "code",
      "metadata": {
        "id": "WsZiqdhDvNoW",
        "colab": {
          "base_uri": "https://localhost:8080/",
          "height": 17
        },
        "outputId": "7a8fe767-9084-4342-b77a-432d7133df8e"
      },
      "source": [
        "from google.colab import files\n",
        "\n",
        "now = datetime.now()\n",
        "base_format = \"%Y.%m.%d\"\n",
        "file_date = now.strftime(f\"{base_format}_%H%M\")\n",
        "file_name = f\"se_central_output_{file_date}.xlsx\"\n",
        "\n",
        "result.drop_duplicates(inplace=True)\n",
        "result.to_excel(file_name, index=False)\n",
        "files.download(file_name)"
      ],
      "execution_count": null,
      "outputs": [
        {
          "output_type": "display_data",
          "data": {
            "application/javascript": [
              "\n",
              "    async function download(id, filename, size) {\n",
              "      if (!google.colab.kernel.accessAllowed) {\n",
              "        return;\n",
              "      }\n",
              "      const div = document.createElement('div');\n",
              "      const label = document.createElement('label');\n",
              "      label.textContent = `Downloading \"${filename}\": `;\n",
              "      div.appendChild(label);\n",
              "      const progress = document.createElement('progress');\n",
              "      progress.max = size;\n",
              "      div.appendChild(progress);\n",
              "      document.body.appendChild(div);\n",
              "\n",
              "      const buffers = [];\n",
              "      let downloaded = 0;\n",
              "\n",
              "      const channel = await google.colab.kernel.comms.open(id);\n",
              "      // Send a message to notify the kernel that we're ready.\n",
              "      channel.send({})\n",
              "\n",
              "      for await (const message of channel.messages) {\n",
              "        // Send a message to notify the kernel that we're ready.\n",
              "        channel.send({})\n",
              "        if (message.buffers) {\n",
              "          for (const buffer of message.buffers) {\n",
              "            buffers.push(buffer);\n",
              "            downloaded += buffer.byteLength;\n",
              "            progress.value = downloaded;\n",
              "          }\n",
              "        }\n",
              "      }\n",
              "      const blob = new Blob(buffers, {type: 'application/binary'});\n",
              "      const a = document.createElement('a');\n",
              "      a.href = window.URL.createObjectURL(blob);\n",
              "      a.download = filename;\n",
              "      div.appendChild(a);\n",
              "      a.click();\n",
              "      div.remove();\n",
              "    }\n",
              "  "
            ],
            "text/plain": [
              "<IPython.core.display.Javascript object>"
            ]
          },
          "metadata": {}
        },
        {
          "output_type": "display_data",
          "data": {
            "application/javascript": [
              "download(\"download_08736fbe-bbf9-483d-9c4b-2304b51e7be4\", \"se_central_output_2021.10.21_1232.xlsx\", 153094)"
            ],
            "text/plain": [
              "<IPython.core.display.Javascript object>"
            ]
          },
          "metadata": {}
        }
      ]
    },
    {
      "cell_type": "markdown",
      "metadata": {
        "id": "9am5Fl8spTgQ"
      },
      "source": [
        ""
      ]
    }
  ]
}